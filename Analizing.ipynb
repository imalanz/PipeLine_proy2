{
 "cells": [
  {
   "attachments": {},
   "cell_type": "markdown",
   "metadata": {},
   "source": [
    "# - Analizing info. -"
   ]
  },
  {
   "cell_type": "code",
   "execution_count": 73,
   "metadata": {},
   "outputs": [
    {
     "data": {
      "text/plain": [
       "<module 'src.extraction' from 'd:\\\\ironhack\\\\proyectos\\\\PipeLine_proy2\\\\src\\\\extraction.py'>"
      ]
     },
     "execution_count": 73,
     "metadata": {},
     "output_type": "execute_result"
    }
   ],
   "source": [
    "import pandas as pd\n",
    "from pandas import json_normalize\n",
    "\n",
    "import requests \n",
    "import json\n",
    "import os\n",
    "from dotenv import load_dotenv #conda install -c conda-forge python-dotenv\n",
    "\n",
    "import time\n",
    "import importlib\n",
    "import src.extraction as ex\n",
    "importlib.reload(ex)"
   ]
  },
  {
   "attachments": {},
   "cell_type": "markdown",
   "metadata": {},
   "source": [
    "## 1. USDA food database.\n",
    "### 1.2. Exploration."
   ]
  },
  {
   "attachments": {},
   "cell_type": "markdown",
   "metadata": {},
   "source": [
    "Did a research of all the USDA csv files and select only the more relevant for this proyect, they have a lot of information about comples dishes, lab tests, market prices, etc.\n",
    "    1. Searching for the right tables with value information for the proyect.\n",
    "    2. Cleaning each table, droping the columns and probably some rows with no need it information.\n",
    "    ----try to merge it in python by changing the name of tha columns to the same in each. \n",
    "        exported as csv\n",
    "    3. Merge the tables -- prbably on SQL \n",
    "        exported again in csv and put it back on python"
   ]
  },
  {
   "attachments": {},
   "cell_type": "markdown",
   "metadata": {},
   "source": [
    "####   1.2.1. \"Food table\" \n",
    "Data frame of food, it has its id number and name of food."
   ]
  },
  {
   "cell_type": "code",
   "execution_count": 2,
   "metadata": {},
   "outputs": [],
   "source": [
    "food = \"D:\\ironhack\\proyectos\\PipeLine_proy2\\\\USDA_main_csv\\\\food.csv\""
   ]
  },
  {
   "cell_type": "code",
   "execution_count": 69,
   "metadata": {},
   "outputs": [
    {
     "data": {
      "text/html": [
       "<div>\n",
       "<style scoped>\n",
       "    .dataframe tbody tr th:only-of-type {\n",
       "        vertical-align: middle;\n",
       "    }\n",
       "\n",
       "    .dataframe tbody tr th {\n",
       "        vertical-align: top;\n",
       "    }\n",
       "\n",
       "    .dataframe thead th {\n",
       "        text-align: right;\n",
       "    }\n",
       "</style>\n",
       "<table border=\"1\" class=\"dataframe\">\n",
       "  <thead>\n",
       "    <tr style=\"text-align: right;\">\n",
       "      <th></th>\n",
       "      <th>fdc_id</th>\n",
       "      <th>data_type</th>\n",
       "      <th>description</th>\n",
       "      <th>food_category_id</th>\n",
       "      <th>publication_date</th>\n",
       "    </tr>\n",
       "  </thead>\n",
       "  <tbody>\n",
       "    <tr>\n",
       "      <th>0</th>\n",
       "      <td>1105904</td>\n",
       "      <td>branded_food</td>\n",
       "      <td>WESSON Vegetable Oil 1 GAL</td>\n",
       "      <td>NaN</td>\n",
       "      <td>2020-11-13</td>\n",
       "    </tr>\n",
       "    <tr>\n",
       "      <th>1</th>\n",
       "      <td>1105905</td>\n",
       "      <td>branded_food</td>\n",
       "      <td>SWANSON BROTH BEEF</td>\n",
       "      <td>NaN</td>\n",
       "      <td>2020-11-13</td>\n",
       "    </tr>\n",
       "    <tr>\n",
       "      <th>2</th>\n",
       "      <td>1105906</td>\n",
       "      <td>branded_food</td>\n",
       "      <td>CAMPBELL'S SLOW KETTLE SOUP CLAM CHOWDER</td>\n",
       "      <td>NaN</td>\n",
       "      <td>2020-11-13</td>\n",
       "    </tr>\n",
       "    <tr>\n",
       "      <th>3</th>\n",
       "      <td>1105907</td>\n",
       "      <td>branded_food</td>\n",
       "      <td>CAMPBELL'S SLOW KETTLE SOUP CHEESE BROCCOLI</td>\n",
       "      <td>NaN</td>\n",
       "      <td>2020-11-13</td>\n",
       "    </tr>\n",
       "    <tr>\n",
       "      <th>4</th>\n",
       "      <td>1105898</td>\n",
       "      <td>experimental_food</td>\n",
       "      <td>Discrepancy between the Atwater factor predict...</td>\n",
       "      <td>NaN</td>\n",
       "      <td>2020-10-30</td>\n",
       "    </tr>\n",
       "    <tr>\n",
       "      <th>...</th>\n",
       "      <td>...</td>\n",
       "      <td>...</td>\n",
       "      <td>...</td>\n",
       "      <td>...</td>\n",
       "      <td>...</td>\n",
       "    </tr>\n",
       "    <tr>\n",
       "      <th>1185085</th>\n",
       "      <td>1757386</td>\n",
       "      <td>sub_sample_food</td>\n",
       "      <td>NaN</td>\n",
       "      <td>NaN</td>\n",
       "      <td>2021-04-23</td>\n",
       "    </tr>\n",
       "    <tr>\n",
       "      <th>1185086</th>\n",
       "      <td>1757387</td>\n",
       "      <td>sub_sample_food</td>\n",
       "      <td>NaN</td>\n",
       "      <td>NaN</td>\n",
       "      <td>2021-04-23</td>\n",
       "    </tr>\n",
       "    <tr>\n",
       "      <th>1185087</th>\n",
       "      <td>1757388</td>\n",
       "      <td>sub_sample_food</td>\n",
       "      <td>NaN</td>\n",
       "      <td>NaN</td>\n",
       "      <td>2021-04-23</td>\n",
       "    </tr>\n",
       "    <tr>\n",
       "      <th>1185088</th>\n",
       "      <td>1757389</td>\n",
       "      <td>sub_sample_food</td>\n",
       "      <td>NaN</td>\n",
       "      <td>NaN</td>\n",
       "      <td>2021-04-23</td>\n",
       "    </tr>\n",
       "    <tr>\n",
       "      <th>1185089</th>\n",
       "      <td>1757390</td>\n",
       "      <td>sub_sample_food</td>\n",
       "      <td>NaN</td>\n",
       "      <td>NaN</td>\n",
       "      <td>2021-04-23</td>\n",
       "    </tr>\n",
       "  </tbody>\n",
       "</table>\n",
       "<p>1185090 rows × 5 columns</p>\n",
       "</div>"
      ],
      "text/plain": [
       "          fdc_id          data_type  \\\n",
       "0        1105904       branded_food   \n",
       "1        1105905       branded_food   \n",
       "2        1105906       branded_food   \n",
       "3        1105907       branded_food   \n",
       "4        1105898  experimental_food   \n",
       "...          ...                ...   \n",
       "1185085  1757386    sub_sample_food   \n",
       "1185086  1757387    sub_sample_food   \n",
       "1185087  1757388    sub_sample_food   \n",
       "1185088  1757389    sub_sample_food   \n",
       "1185089  1757390    sub_sample_food   \n",
       "\n",
       "                                               description  food_category_id  \\\n",
       "0                               WESSON Vegetable Oil 1 GAL               NaN   \n",
       "1                                       SWANSON BROTH BEEF               NaN   \n",
       "2                 CAMPBELL'S SLOW KETTLE SOUP CLAM CHOWDER               NaN   \n",
       "3              CAMPBELL'S SLOW KETTLE SOUP CHEESE BROCCOLI               NaN   \n",
       "4        Discrepancy between the Atwater factor predict...               NaN   \n",
       "...                                                    ...               ...   \n",
       "1185085                                                NaN               NaN   \n",
       "1185086                                                NaN               NaN   \n",
       "1185087                                                NaN               NaN   \n",
       "1185088                                                NaN               NaN   \n",
       "1185089                                                NaN               NaN   \n",
       "\n",
       "        publication_date  \n",
       "0             2020-11-13  \n",
       "1             2020-11-13  \n",
       "2             2020-11-13  \n",
       "3             2020-11-13  \n",
       "4             2020-10-30  \n",
       "...                  ...  \n",
       "1185085       2021-04-23  \n",
       "1185086       2021-04-23  \n",
       "1185087       2021-04-23  \n",
       "1185088       2021-04-23  \n",
       "1185089       2021-04-23  \n",
       "\n",
       "[1185090 rows x 5 columns]"
      ]
     },
     "execution_count": 69,
     "metadata": {},
     "output_type": "execute_result"
    }
   ],
   "source": [
    "extraction.import_csv(food)"
   ]
  },
  {
   "cell_type": "code",
   "execution_count": 13,
   "metadata": {},
   "outputs": [
    {
     "data": {
      "text/html": [
       "<div>\n",
       "<style scoped>\n",
       "    .dataframe tbody tr th:only-of-type {\n",
       "        vertical-align: middle;\n",
       "    }\n",
       "\n",
       "    .dataframe tbody tr th {\n",
       "        vertical-align: top;\n",
       "    }\n",
       "\n",
       "    .dataframe thead th {\n",
       "        text-align: right;\n",
       "    }\n",
       "</style>\n",
       "<table border=\"1\" class=\"dataframe\">\n",
       "  <thead>\n",
       "    <tr style=\"text-align: right;\">\n",
       "      <th></th>\n",
       "      <th>fdc_id</th>\n",
       "      <th>data_type</th>\n",
       "      <th>description</th>\n",
       "      <th>food_category_id</th>\n",
       "      <th>publication_date</th>\n",
       "    </tr>\n",
       "  </thead>\n",
       "  <tbody>\n",
       "    <tr>\n",
       "      <th>819157</th>\n",
       "      <td>1391456</td>\n",
       "      <td>branded_food</td>\n",
       "      <td>SALTED CARAMEL RICH SALTED CARAMEL GELATO WITH...</td>\n",
       "      <td>NaN</td>\n",
       "      <td>2021-02-26</td>\n",
       "    </tr>\n",
       "    <tr>\n",
       "      <th>870697</th>\n",
       "      <td>1442996</td>\n",
       "      <td>branded_food</td>\n",
       "      <td>DRY ROASTED SALTED ORGANIC PISTACHIOS, DRY ROA...</td>\n",
       "      <td>NaN</td>\n",
       "      <td>2021-02-26</td>\n",
       "    </tr>\n",
       "    <tr>\n",
       "      <th>845586</th>\n",
       "      <td>1417885</td>\n",
       "      <td>branded_food</td>\n",
       "      <td>100% WHITE GRAPE JUICE FROM CONCENTRATE, WHITE...</td>\n",
       "      <td>NaN</td>\n",
       "      <td>2021-02-26</td>\n",
       "    </tr>\n",
       "    <tr>\n",
       "      <th>526173</th>\n",
       "      <td>1031653</td>\n",
       "      <td>branded_food</td>\n",
       "      <td>HONDURAN MEDIUM ROAST NATURAL CHOCOLATE FLAVOR...</td>\n",
       "      <td>NaN</td>\n",
       "      <td>2020-06-26</td>\n",
       "    </tr>\n",
       "    <tr>\n",
       "      <th>902091</th>\n",
       "      <td>1474390</td>\n",
       "      <td>branded_food</td>\n",
       "      <td>B&amp;G, GHERKINS SWEET PICKLES</td>\n",
       "      <td>NaN</td>\n",
       "      <td>2021-03-19</td>\n",
       "    </tr>\n",
       "  </tbody>\n",
       "</table>\n",
       "</div>"
      ],
      "text/plain": [
       "         fdc_id     data_type  \\\n",
       "819157  1391456  branded_food   \n",
       "870697  1442996  branded_food   \n",
       "845586  1417885  branded_food   \n",
       "526173  1031653  branded_food   \n",
       "902091  1474390  branded_food   \n",
       "\n",
       "                                              description  food_category_id  \\\n",
       "819157  SALTED CARAMEL RICH SALTED CARAMEL GELATO WITH...               NaN   \n",
       "870697  DRY ROASTED SALTED ORGANIC PISTACHIOS, DRY ROA...               NaN   \n",
       "845586  100% WHITE GRAPE JUICE FROM CONCENTRATE, WHITE...               NaN   \n",
       "526173  HONDURAN MEDIUM ROAST NATURAL CHOCOLATE FLAVOR...               NaN   \n",
       "902091                        B&G, GHERKINS SWEET PICKLES               NaN   \n",
       "\n",
       "       publication_date  \n",
       "819157       2021-02-26  \n",
       "870697       2021-02-26  \n",
       "845586       2021-02-26  \n",
       "526173       2020-06-26  \n",
       "902091       2021-03-19  "
      ]
     },
     "execution_count": 13,
     "metadata": {},
     "output_type": "execute_result"
    }
   ],
   "source": [
    "food = pd.read_csv(\"D:\\ironhack\\proyectos\\PipeLine_proy2\\\\USDA_main_csv\\\\food.csv\")\n",
    "food.sample(5)"
   ]
  },
  {
   "cell_type": "code",
   "execution_count": 14,
   "metadata": {},
   "outputs": [
    {
     "data": {
      "text/plain": [
       "(1185090, 5)"
      ]
     },
     "execution_count": 14,
     "metadata": {},
     "output_type": "execute_result"
    }
   ],
   "source": [
    "food.shape"
   ]
  },
  {
   "attachments": {},
   "cell_type": "markdown",
   "metadata": {},
   "source": [
    "##### 1.2.1.1. Deleting  \n",
    "Will remove the \"food_category_id\", \"data_type\" and the \"publication_date\" column and try to remove the index column, it appears that it does not do much, it doest have a column name for identification."
   ]
  },
  {
   "cell_type": "code",
   "execution_count": 15,
   "metadata": {},
   "outputs": [
    {
     "data": {
      "text/html": [
       "<div>\n",
       "<style scoped>\n",
       "    .dataframe tbody tr th:only-of-type {\n",
       "        vertical-align: middle;\n",
       "    }\n",
       "\n",
       "    .dataframe tbody tr th {\n",
       "        vertical-align: top;\n",
       "    }\n",
       "\n",
       "    .dataframe thead th {\n",
       "        text-align: right;\n",
       "    }\n",
       "</style>\n",
       "<table border=\"1\" class=\"dataframe\">\n",
       "  <thead>\n",
       "    <tr style=\"text-align: right;\">\n",
       "      <th></th>\n",
       "      <th>fdc_id</th>\n",
       "      <th>description</th>\n",
       "    </tr>\n",
       "  </thead>\n",
       "  <tbody>\n",
       "    <tr>\n",
       "      <th>240064</th>\n",
       "      <td>527631</td>\n",
       "      <td>MILK SHAKERS</td>\n",
       "    </tr>\n",
       "    <tr>\n",
       "      <th>1020365</th>\n",
       "      <td>1592664</td>\n",
       "      <td>BIG PEPPER JACK CHEESE SNACK</td>\n",
       "    </tr>\n",
       "    <tr>\n",
       "      <th>1016091</th>\n",
       "      <td>1588390</td>\n",
       "      <td>HEIRLOOM HOT SAUCE WITH CO-OP SAUCE</td>\n",
       "    </tr>\n",
       "    <tr>\n",
       "      <th>816219</th>\n",
       "      <td>1388518</td>\n",
       "      <td>BROWNIE BITES</td>\n",
       "    </tr>\n",
       "    <tr>\n",
       "      <th>97733</th>\n",
       "      <td>385300</td>\n",
       "      <td>BUTTER</td>\n",
       "    </tr>\n",
       "  </tbody>\n",
       "</table>\n",
       "</div>"
      ],
      "text/plain": [
       "          fdc_id                          description\n",
       "240064    527631                         MILK SHAKERS\n",
       "1020365  1592664         BIG PEPPER JACK CHEESE SNACK\n",
       "1016091  1588390  HEIRLOOM HOT SAUCE WITH CO-OP SAUCE\n",
       "816219   1388518                        BROWNIE BITES\n",
       "97733     385300                               BUTTER"
      ]
     },
     "execution_count": 15,
     "metadata": {},
     "output_type": "execute_result"
    }
   ],
   "source": [
    "food.drop(columns = [\"food_category_id\", \"publication_date\", \"data_type\"], inplace=True, axis=1)\n",
    "food.sample(5)"
   ]
  },
  {
   "attachments": {},
   "cell_type": "markdown",
   "metadata": {},
   "source": [
    "Remove the null values, theres only 9 rows will delete."
   ]
  },
  {
   "cell_type": "code",
   "execution_count": 202,
   "metadata": {},
   "outputs": [],
   "source": [
    "def delete_1 (x):\n",
    "    # return the cleaining of columns from \"food\" data base\n",
    "    x.drop(columns = [\"food_category_id\", \"publication_date\", \"data_type\"], inplace=True, axis=1)\n",
    "    x.dropna(how=\"any\", inplace=True)\n",
    "    return x"
   ]
  },
  {
   "cell_type": "code",
   "execution_count": 16,
   "metadata": {},
   "outputs": [
    {
     "data": {
      "text/plain": [
       "fdc_id         0\n",
       "description    9\n",
       "dtype: int64"
      ]
     },
     "execution_count": 16,
     "metadata": {},
     "output_type": "execute_result"
    }
   ],
   "source": [
    "food.isnull().sum()"
   ]
  },
  {
   "cell_type": "code",
   "execution_count": 17,
   "metadata": {},
   "outputs": [
    {
     "data": {
      "text/html": [
       "<div>\n",
       "<style scoped>\n",
       "    .dataframe tbody tr th:only-of-type {\n",
       "        vertical-align: middle;\n",
       "    }\n",
       "\n",
       "    .dataframe tbody tr th {\n",
       "        vertical-align: top;\n",
       "    }\n",
       "\n",
       "    .dataframe thead th {\n",
       "        text-align: right;\n",
       "    }\n",
       "</style>\n",
       "<table border=\"1\" class=\"dataframe\">\n",
       "  <thead>\n",
       "    <tr style=\"text-align: right;\">\n",
       "      <th></th>\n",
       "      <th>fdc_id</th>\n",
       "      <th>description</th>\n",
       "    </tr>\n",
       "  </thead>\n",
       "  <tbody>\n",
       "    <tr>\n",
       "      <th>1070421</th>\n",
       "      <td>1642720</td>\n",
       "      <td>THE MADELAINE CHOCOLATE COMPANY, SOLID MILK CH...</td>\n",
       "    </tr>\n",
       "    <tr>\n",
       "      <th>797598</th>\n",
       "      <td>1369897</td>\n",
       "      <td>LIGHTLY ROASTED ALMONDS, LIGHTLY ROASTED</td>\n",
       "    </tr>\n",
       "    <tr>\n",
       "      <th>12139</th>\n",
       "      <td>1118037</td>\n",
       "      <td>KOSHER FLAVORED PICKLE, KOSHER</td>\n",
       "    </tr>\n",
       "    <tr>\n",
       "      <th>385953</th>\n",
       "      <td>742066</td>\n",
       "      <td>REDUCED SODIUM CHICKEN BROTH, CHICKEN</td>\n",
       "    </tr>\n",
       "    <tr>\n",
       "      <th>1140722</th>\n",
       "      <td>1713021</td>\n",
       "      <td>FALL MAPLE FLAVORED WITH A BLEND OF ROASTED SA...</td>\n",
       "    </tr>\n",
       "  </tbody>\n",
       "</table>\n",
       "</div>"
      ],
      "text/plain": [
       "          fdc_id                                        description\n",
       "1070421  1642720  THE MADELAINE CHOCOLATE COMPANY, SOLID MILK CH...\n",
       "797598   1369897           LIGHTLY ROASTED ALMONDS, LIGHTLY ROASTED\n",
       "12139    1118037                     KOSHER FLAVORED PICKLE, KOSHER\n",
       "385953    742066              REDUCED SODIUM CHICKEN BROTH, CHICKEN\n",
       "1140722  1713021  FALL MAPLE FLAVORED WITH A BLEND OF ROASTED SA..."
      ]
     },
     "execution_count": 17,
     "metadata": {},
     "output_type": "execute_result"
    }
   ],
   "source": [
    "food.dropna(how=\"any\", inplace=True)\n",
    "food.sample(5)"
   ]
  },
  {
   "cell_type": "code",
   "execution_count": 18,
   "metadata": {},
   "outputs": [
    {
     "data": {
      "text/plain": [
       "0"
      ]
     },
     "execution_count": 18,
     "metadata": {},
     "output_type": "execute_result"
    }
   ],
   "source": [
    "food.duplicated().sum()"
   ]
  },
  {
   "cell_type": "code",
   "execution_count": 19,
   "metadata": {},
   "outputs": [
    {
     "data": {
      "text/plain": [
       "(1185081, 2)"
      ]
     },
     "execution_count": 19,
     "metadata": {},
     "output_type": "execute_result"
    }
   ],
   "source": [
    "food.shape"
   ]
  },
  {
   "attachments": {},
   "cell_type": "markdown",
   "metadata": {},
   "source": [
    "#### 1.2.2. \"Food nutrients table\"\n",
    "In this table can relate the data of nutrients and in wich food they are. they specifie the mount of the nutrient per 100g of food. Specified in unit defined in the nutrient\n",
    "table."
   ]
  },
  {
   "cell_type": "code",
   "execution_count": 20,
   "metadata": {},
   "outputs": [
    {
     "name": "stderr",
     "output_type": "stream",
     "text": [
      "C:\\Users\\ima_n\\AppData\\Local\\Temp\\ipykernel_21760\\1622644252.py:1: DtypeWarning: Columns (9) have mixed types. Specify dtype option on import or set low_memory=False.\n",
      "  food_nutrients = pd.read_csv(\"D:\\ironhack\\proyectos\\PipeLine_proy2\\\\USDA_main_csv\\\\food_nutrient.csv\")\n"
     ]
    },
    {
     "data": {
      "text/html": [
       "<div>\n",
       "<style scoped>\n",
       "    .dataframe tbody tr th:only-of-type {\n",
       "        vertical-align: middle;\n",
       "    }\n",
       "\n",
       "    .dataframe tbody tr th {\n",
       "        vertical-align: top;\n",
       "    }\n",
       "\n",
       "    .dataframe thead th {\n",
       "        text-align: right;\n",
       "    }\n",
       "</style>\n",
       "<table border=\"1\" class=\"dataframe\">\n",
       "  <thead>\n",
       "    <tr style=\"text-align: right;\">\n",
       "      <th></th>\n",
       "      <th>id</th>\n",
       "      <th>fdc_id</th>\n",
       "      <th>nutrient_id</th>\n",
       "      <th>amount</th>\n",
       "      <th>data_points</th>\n",
       "      <th>derivation_id</th>\n",
       "      <th>min</th>\n",
       "      <th>max</th>\n",
       "      <th>median</th>\n",
       "      <th>footnote</th>\n",
       "      <th>min_year_acquired</th>\n",
       "    </tr>\n",
       "  </thead>\n",
       "  <tbody>\n",
       "    <tr>\n",
       "      <th>11925237</th>\n",
       "      <td>17715985</td>\n",
       "      <td>1558396</td>\n",
       "      <td>601</td>\n",
       "      <td>9.00</td>\n",
       "      <td>NaN</td>\n",
       "      <td>70.0</td>\n",
       "      <td>NaN</td>\n",
       "      <td>NaN</td>\n",
       "      <td>NaN</td>\n",
       "      <td>NaN</td>\n",
       "      <td>NaN</td>\n",
       "    </tr>\n",
       "    <tr>\n",
       "      <th>10550853</th>\n",
       "      <td>16341601</td>\n",
       "      <td>1434520</td>\n",
       "      <td>204</td>\n",
       "      <td>10.53</td>\n",
       "      <td>NaN</td>\n",
       "      <td>70.0</td>\n",
       "      <td>NaN</td>\n",
       "      <td>NaN</td>\n",
       "      <td>NaN</td>\n",
       "      <td>NaN</td>\n",
       "      <td>NaN</td>\n",
       "    </tr>\n",
       "    <tr>\n",
       "      <th>8126008</th>\n",
       "      <td>13916756</td>\n",
       "      <td>1150940</td>\n",
       "      <td>291</td>\n",
       "      <td>1.40</td>\n",
       "      <td>NaN</td>\n",
       "      <td>73.0</td>\n",
       "      <td>NaN</td>\n",
       "      <td>NaN</td>\n",
       "      <td>NaN</td>\n",
       "      <td>NaN</td>\n",
       "      <td>NaN</td>\n",
       "    </tr>\n",
       "  </tbody>\n",
       "</table>\n",
       "</div>"
      ],
      "text/plain": [
       "                id   fdc_id  nutrient_id  amount  data_points  derivation_id  \\\n",
       "11925237  17715985  1558396          601    9.00          NaN           70.0   \n",
       "10550853  16341601  1434520          204   10.53          NaN           70.0   \n",
       "8126008   13916756  1150940          291    1.40          NaN           73.0   \n",
       "\n",
       "          min  max  median footnote  min_year_acquired  \n",
       "11925237  NaN  NaN     NaN      NaN                NaN  \n",
       "10550853  NaN  NaN     NaN      NaN                NaN  \n",
       "8126008   NaN  NaN     NaN      NaN                NaN  "
      ]
     },
     "execution_count": 20,
     "metadata": {},
     "output_type": "execute_result"
    }
   ],
   "source": [
    "food_nutrients = pd.read_csv(\"D:\\ironhack\\proyectos\\PipeLine_proy2\\\\USDA_main_csv\\\\food_nutrient.csv\")\n",
    "food_nutrients.sample(3)"
   ]
  },
  {
   "cell_type": "code",
   "execution_count": 21,
   "metadata": {},
   "outputs": [
    {
     "data": {
      "text/plain": [
       "(15324912, 11)"
      ]
     },
     "execution_count": 21,
     "metadata": {},
     "output_type": "execute_result"
    }
   ],
   "source": [
    "food_nutrients.shape"
   ]
  },
  {
   "attachments": {},
   "cell_type": "markdown",
   "metadata": {},
   "source": [
    "##### 1.2.2.1. Deleting\n",
    "Need to identified which columns I wont need, in this table I have to important values that will conect my tables with each other and is the \"fdc_id\" and \"nutrient_id\" and its own \"id\" column, we can see also that theres a lot of null columns that dont apport nothing."
   ]
  },
  {
   "cell_type": "code",
   "execution_count": 22,
   "metadata": {},
   "outputs": [
    {
     "data": {
      "text/plain": [
       "id                          0\n",
       "fdc_id                      0\n",
       "nutrient_id                 0\n",
       "amount                      0\n",
       "data_points          14577366\n",
       "derivation_id          642147\n",
       "min                  15218166\n",
       "max                  15218164\n",
       "median               15314455\n",
       "footnote             15324645\n",
       "min_year_acquired    15300052\n",
       "dtype: int64"
      ]
     },
     "execution_count": 22,
     "metadata": {},
     "output_type": "execute_result"
    }
   ],
   "source": [
    "food_nutrients.isnull().sum()"
   ]
  },
  {
   "attachments": {},
   "cell_type": "markdown",
   "metadata": {},
   "source": [
    "We can see that in some columns, most of the information is null, we will delete them."
   ]
  },
  {
   "cell_type": "code",
   "execution_count": 23,
   "metadata": {},
   "outputs": [
    {
     "data": {
      "text/html": [
       "<div>\n",
       "<style scoped>\n",
       "    .dataframe tbody tr th:only-of-type {\n",
       "        vertical-align: middle;\n",
       "    }\n",
       "\n",
       "    .dataframe tbody tr th {\n",
       "        vertical-align: top;\n",
       "    }\n",
       "\n",
       "    .dataframe thead th {\n",
       "        text-align: right;\n",
       "    }\n",
       "</style>\n",
       "<table border=\"1\" class=\"dataframe\">\n",
       "  <thead>\n",
       "    <tr style=\"text-align: right;\">\n",
       "      <th></th>\n",
       "      <th>id</th>\n",
       "      <th>fdc_id</th>\n",
       "      <th>nutrient_id</th>\n",
       "      <th>amount</th>\n",
       "    </tr>\n",
       "  </thead>\n",
       "  <tbody>\n",
       "    <tr>\n",
       "      <th>708143</th>\n",
       "      <td>2281245</td>\n",
       "      <td>335686</td>\n",
       "      <td>1094</td>\n",
       "      <td>238.00</td>\n",
       "    </tr>\n",
       "    <tr>\n",
       "      <th>4138866</th>\n",
       "      <td>6301783</td>\n",
       "      <td>352684</td>\n",
       "      <td>1093</td>\n",
       "      <td>54.00</td>\n",
       "    </tr>\n",
       "    <tr>\n",
       "      <th>3902937</th>\n",
       "      <td>6065854</td>\n",
       "      <td>483450</td>\n",
       "      <td>1003</td>\n",
       "      <td>10.57</td>\n",
       "    </tr>\n",
       "  </tbody>\n",
       "</table>\n",
       "</div>"
      ],
      "text/plain": [
       "              id  fdc_id  nutrient_id  amount\n",
       "708143   2281245  335686         1094  238.00\n",
       "4138866  6301783  352684         1093   54.00\n",
       "3902937  6065854  483450         1003   10.57"
      ]
     },
     "execution_count": 23,
     "metadata": {},
     "output_type": "execute_result"
    }
   ],
   "source": [
    "food_nutrients.drop(columns = [\"data_points\", \"derivation_id\", \"min\", \"max\",  \"median\", \"footnote\", \"min_year_acquired\"], inplace=True, axis=1)\n",
    "food_nutrients.sample(3)"
   ]
  },
  {
   "cell_type": "code",
   "execution_count": 24,
   "metadata": {},
   "outputs": [
    {
     "data": {
      "text/plain": [
       "id             0\n",
       "fdc_id         0\n",
       "nutrient_id    0\n",
       "amount         0\n",
       "dtype: int64"
      ]
     },
     "execution_count": 24,
     "metadata": {},
     "output_type": "execute_result"
    }
   ],
   "source": [
    "food_nutrients.isnull().sum()"
   ]
  },
  {
   "attachments": {},
   "cell_type": "markdown",
   "metadata": {},
   "source": [
    "#### 1.2.3. \"Nutrients Table\""
   ]
  },
  {
   "cell_type": "code",
   "execution_count": 25,
   "metadata": {},
   "outputs": [
    {
     "data": {
      "text/html": [
       "<div>\n",
       "<style scoped>\n",
       "    .dataframe tbody tr th:only-of-type {\n",
       "        vertical-align: middle;\n",
       "    }\n",
       "\n",
       "    .dataframe tbody tr th {\n",
       "        vertical-align: top;\n",
       "    }\n",
       "\n",
       "    .dataframe thead th {\n",
       "        text-align: right;\n",
       "    }\n",
       "</style>\n",
       "<table border=\"1\" class=\"dataframe\">\n",
       "  <thead>\n",
       "    <tr style=\"text-align: right;\">\n",
       "      <th></th>\n",
       "      <th>id</th>\n",
       "      <th>name</th>\n",
       "      <th>unit_name</th>\n",
       "      <th>nutrient_nbr</th>\n",
       "      <th>rank</th>\n",
       "    </tr>\n",
       "  </thead>\n",
       "  <tbody>\n",
       "    <tr>\n",
       "      <th>411</th>\n",
       "      <td>2000</td>\n",
       "      <td>Sugars, total including NLEA</td>\n",
       "      <td>G</td>\n",
       "      <td>269.0</td>\n",
       "      <td>1510.0</td>\n",
       "    </tr>\n",
       "    <tr>\n",
       "      <th>362</th>\n",
       "      <td>1366</td>\n",
       "      <td>Epicatechin</td>\n",
       "      <td>MG</td>\n",
       "      <td>751.0</td>\n",
       "      <td>20500.0</td>\n",
       "    </tr>\n",
       "    <tr>\n",
       "      <th>417</th>\n",
       "      <td>2008</td>\n",
       "      <td>MUFA 12:1</td>\n",
       "      <td>G</td>\n",
       "      <td>635.0</td>\n",
       "      <td>11450.0</td>\n",
       "    </tr>\n",
       "  </tbody>\n",
       "</table>\n",
       "</div>"
      ],
      "text/plain": [
       "       id                          name unit_name  nutrient_nbr     rank\n",
       "411  2000  Sugars, total including NLEA         G         269.0   1510.0\n",
       "362  1366                   Epicatechin        MG         751.0  20500.0\n",
       "417  2008                     MUFA 12:1         G         635.0  11450.0"
      ]
     },
     "execution_count": 25,
     "metadata": {},
     "output_type": "execute_result"
    }
   ],
   "source": [
    "nutrient = pd.read_csv(\"D:\\ironhack\\proyectos\\PipeLine_proy2\\\\USDA_main_csv\\\\nutrient.csv\")\n",
    "nutrient.sample(3)"
   ]
  },
  {
   "attachments": {},
   "cell_type": "markdown",
   "metadata": {},
   "source": [
    "##### 1.2.3.1 Deleting.\n",
    "will delete must of the columns, except name and id, but will create a copy so i dont lose the information, could help me in the future."
   ]
  },
  {
   "cell_type": "code",
   "execution_count": 26,
   "metadata": {},
   "outputs": [
    {
     "data": {
      "text/plain": [
       "id               0\n",
       "name             0\n",
       "unit_name        0\n",
       "nutrient_nbr     4\n",
       "rank            11\n",
       "dtype: int64"
      ]
     },
     "execution_count": 26,
     "metadata": {},
     "output_type": "execute_result"
    }
   ],
   "source": [
    "nutrient.isnull().sum()"
   ]
  },
  {
   "cell_type": "code",
   "execution_count": 27,
   "metadata": {},
   "outputs": [
    {
     "data": {
      "text/plain": [
       "(463, 5)"
      ]
     },
     "execution_count": 27,
     "metadata": {},
     "output_type": "execute_result"
    }
   ],
   "source": [
    "nutrient.shape"
   ]
  },
  {
   "cell_type": "code",
   "execution_count": 28,
   "metadata": {},
   "outputs": [],
   "source": [
    "nutrient_comp = nutrient.copy"
   ]
  },
  {
   "cell_type": "code",
   "execution_count": 203,
   "metadata": {},
   "outputs": [],
   "source": [
    "def delete_1 (x):\n",
    "    # return the cleaining of columns from \"nutrient\" data base\n",
    "    x.drop(columns = [\"unit_name\", \"nutrient_nbr\", \"rank\"], inplace= True, axis=1)    \n",
    "    x.dropna(how=\"any\", inplace=True)\n",
    "    return x"
   ]
  },
  {
   "cell_type": "code",
   "execution_count": 29,
   "metadata": {},
   "outputs": [
    {
     "data": {
      "text/html": [
       "<div>\n",
       "<style scoped>\n",
       "    .dataframe tbody tr th:only-of-type {\n",
       "        vertical-align: middle;\n",
       "    }\n",
       "\n",
       "    .dataframe tbody tr th {\n",
       "        vertical-align: top;\n",
       "    }\n",
       "\n",
       "    .dataframe thead th {\n",
       "        text-align: right;\n",
       "    }\n",
       "</style>\n",
       "<table border=\"1\" class=\"dataframe\">\n",
       "  <thead>\n",
       "    <tr style=\"text-align: right;\">\n",
       "      <th></th>\n",
       "      <th>id</th>\n",
       "      <th>name</th>\n",
       "    </tr>\n",
       "  </thead>\n",
       "  <tbody>\n",
       "    <tr>\n",
       "      <th>328</th>\n",
       "      <td>1332</td>\n",
       "      <td>SFA 13:0</td>\n",
       "    </tr>\n",
       "  </tbody>\n",
       "</table>\n",
       "</div>"
      ],
      "text/plain": [
       "       id      name\n",
       "328  1332  SFA 13:0"
      ]
     },
     "execution_count": 29,
     "metadata": {},
     "output_type": "execute_result"
    }
   ],
   "source": [
    "nutrient.drop(columns = [\"unit_name\", \"nutrient_nbr\", \"rank\"], inplace= True, axis=1)\n",
    "nutrient.sample()"
   ]
  },
  {
   "cell_type": "code",
   "execution_count": 30,
   "metadata": {},
   "outputs": [
    {
     "data": {
      "text/plain": [
       "0"
      ]
     },
     "execution_count": 30,
     "metadata": {},
     "output_type": "execute_result"
    }
   ],
   "source": [
    "nutrient.duplicated().sum()"
   ]
  },
  {
   "attachments": {},
   "cell_type": "markdown",
   "metadata": {},
   "source": [
    "For now will not use this table, it says at the documentetion that is to categorize the nutrients in a big scale, each of them are related to a nutrient."
   ]
  },
  {
   "cell_type": "code",
   "execution_count": 31,
   "metadata": {},
   "outputs": [
    {
     "data": {
      "text/html": [
       "<div>\n",
       "<style scoped>\n",
       "    .dataframe tbody tr th:only-of-type {\n",
       "        vertical-align: middle;\n",
       "    }\n",
       "\n",
       "    .dataframe tbody tr th {\n",
       "        vertical-align: top;\n",
       "    }\n",
       "\n",
       "    .dataframe thead th {\n",
       "        text-align: right;\n",
       "    }\n",
       "</style>\n",
       "<table border=\"1\" class=\"dataframe\">\n",
       "  <thead>\n",
       "    <tr style=\"text-align: right;\">\n",
       "      <th></th>\n",
       "      <th>id</th>\n",
       "      <th>name</th>\n",
       "      <th>nutrient_id</th>\n",
       "    </tr>\n",
       "  </thead>\n",
       "  <tbody>\n",
       "    <tr>\n",
       "      <th>646</th>\n",
       "      <td>1667</td>\n",
       "      <td>Heptanoic acid</td>\n",
       "      <td>2004</td>\n",
       "    </tr>\n",
       "    <tr>\n",
       "      <th>176</th>\n",
       "      <td>1186</td>\n",
       "      <td>Vitamin D (IU)</td>\n",
       "      <td>1110</td>\n",
       "    </tr>\n",
       "    <tr>\n",
       "      <th>665</th>\n",
       "      <td>1706</td>\n",
       "      <td>Lutein/Zeaxanthin</td>\n",
       "      <td>1123</td>\n",
       "    </tr>\n",
       "    <tr>\n",
       "      <th>508</th>\n",
       "      <td>1520</td>\n",
       "      <td>C22:5 Docosapentaenoic</td>\n",
       "      <td>1280</td>\n",
       "    </tr>\n",
       "    <tr>\n",
       "      <th>83</th>\n",
       "      <td>1087</td>\n",
       "      <td>MOISTURE, 60 DEGREE</td>\n",
       "      <td>1051</td>\n",
       "    </tr>\n",
       "  </tbody>\n",
       "</table>\n",
       "</div>"
      ],
      "text/plain": [
       "       id                    name  nutrient_id\n",
       "646  1667          Heptanoic acid         2004\n",
       "176  1186          Vitamin D (IU)         1110\n",
       "665  1706       Lutein/Zeaxanthin         1123\n",
       "508  1520  C22:5 Docosapentaenoic         1280\n",
       "83   1087     MOISTURE, 60 DEGREE         1051"
      ]
     },
     "execution_count": 31,
     "metadata": {},
     "output_type": "execute_result"
    }
   ],
   "source": [
    "nutrient_incoming_name = pd.read_csv(\"D:\\ironhack\\proyectos\\PipeLine_proy2\\\\USDA_main_csv\\\\nutrient_incoming_name.csv\")\n",
    "nutrient_incoming_name.sample(5)"
   ]
  },
  {
   "cell_type": "code",
   "execution_count": 32,
   "metadata": {},
   "outputs": [
    {
     "data": {
      "text/plain": [
       "(730, 3)"
      ]
     },
     "execution_count": 32,
     "metadata": {},
     "output_type": "execute_result"
    }
   ],
   "source": [
    "nutrient_incoming_name.shape"
   ]
  },
  {
   "attachments": {},
   "cell_type": "markdown",
   "metadata": {},
   "source": [
    "This table doesn´t appear in the information docs, but it loocks really helfull allready matching the nutrient with the food and the portion per 100g. Wont delete any column, but will start to change names of each Data Frame to matched them later."
   ]
  },
  {
   "cell_type": "code",
   "execution_count": null,
   "metadata": {},
   "outputs": [],
   "source": []
  },
  {
   "cell_type": "code",
   "execution_count": 33,
   "metadata": {},
   "outputs": [
    {
     "data": {
      "text/html": [
       "<div>\n",
       "<style scoped>\n",
       "    .dataframe tbody tr th:only-of-type {\n",
       "        vertical-align: middle;\n",
       "    }\n",
       "\n",
       "    .dataframe tbody tr th {\n",
       "        vertical-align: top;\n",
       "    }\n",
       "\n",
       "    .dataframe thead th {\n",
       "        text-align: right;\n",
       "    }\n",
       "</style>\n",
       "<table border=\"1\" class=\"dataframe\">\n",
       "  <thead>\n",
       "    <tr style=\"text-align: right;\">\n",
       "      <th></th>\n",
       "      <th>FoodId</th>\n",
       "      <th>NutrientId</th>\n",
       "      <th>Per100g</th>\n",
       "    </tr>\n",
       "  </thead>\n",
       "  <tbody>\n",
       "    <tr>\n",
       "      <th>3550467</th>\n",
       "      <td>557889</td>\n",
       "      <td>1257</td>\n",
       "      <td>0.00</td>\n",
       "    </tr>\n",
       "    <tr>\n",
       "      <th>1794525</th>\n",
       "      <td>404717</td>\n",
       "      <td>1258</td>\n",
       "      <td>0.00</td>\n",
       "    </tr>\n",
       "    <tr>\n",
       "      <th>4305161</th>\n",
       "      <td>612820</td>\n",
       "      <td>1093</td>\n",
       "      <td>211.00</td>\n",
       "    </tr>\n",
       "    <tr>\n",
       "      <th>14103326</th>\n",
       "      <td>1705099</td>\n",
       "      <td>606</td>\n",
       "      <td>20.83</td>\n",
       "    </tr>\n",
       "    <tr>\n",
       "      <th>1443482</th>\n",
       "      <td>485688</td>\n",
       "      <td>1089</td>\n",
       "      <td>0.00</td>\n",
       "    </tr>\n",
       "  </tbody>\n",
       "</table>\n",
       "</div>"
      ],
      "text/plain": [
       "           FoodId  NutrientId  Per100g \n",
       "3550467    557889        1257      0.00\n",
       "1794525    404717        1258      0.00\n",
       "4305161    612820        1093    211.00\n",
       "14103326  1705099         606     20.83\n",
       "1443482    485688        1089      0.00"
      ]
     },
     "execution_count": 33,
     "metadata": {},
     "output_type": "execute_result"
    }
   ],
   "source": [
    "FoodId_NutrientId = pd.read_csv(\"D:\\ironhack\\proyectos\\PipeLine_proy2\\\\USDA_main_csv\\\\JCS_FoodId-NutrientId-Per100g.csv\")\n",
    "FoodId_NutrientId.sample(5)"
   ]
  },
  {
   "cell_type": "code",
   "execution_count": 34,
   "metadata": {},
   "outputs": [
    {
     "data": {
      "text/plain": [
       "(15324912, 3)"
      ]
     },
     "execution_count": 34,
     "metadata": {},
     "output_type": "execute_result"
    }
   ],
   "source": [
    "FoodId_NutrientId.shape"
   ]
  },
  {
   "cell_type": "code",
   "execution_count": 35,
   "metadata": {},
   "outputs": [],
   "source": [
    "from IPython.display import display_html "
   ]
  },
  {
   "attachments": {},
   "cell_type": "markdown",
   "metadata": {},
   "source": [
    "### 1.2. Merging\n",
    "Will merge all data frames into one, will chose the right tables for it and clean it more."
   ]
  },
  {
   "attachments": {},
   "cell_type": "markdown",
   "metadata": {},
   "source": [
    "Looking for same elements in different tables at the ID rows."
   ]
  },
  {
   "cell_type": "code",
   "execution_count": 36,
   "metadata": {},
   "outputs": [
    {
     "data": {
      "text/plain": [
       "Int64Index([], dtype='int64')"
      ]
     },
     "execution_count": 36,
     "metadata": {},
     "output_type": "execute_result"
    }
   ],
   "source": [
    "FoodId_NutrientId[FoodId_NutrientId['FoodId'] == '631798'].index"
   ]
  },
  {
   "cell_type": "code",
   "execution_count": 37,
   "metadata": {},
   "outputs": [
    {
     "data": {
      "text/plain": [
       "Int64Index([], dtype='int64')"
      ]
     },
     "execution_count": 37,
     "metadata": {},
     "output_type": "execute_result"
    }
   ],
   "source": [
    "food[food['fdc_id'] == '631798'].index"
   ]
  },
  {
   "cell_type": "code",
   "execution_count": 38,
   "metadata": {},
   "outputs": [
    {
     "data": {
      "text/plain": [
       "Int64Index([], dtype='int64')"
      ]
     },
     "execution_count": 38,
     "metadata": {},
     "output_type": "execute_result"
    }
   ],
   "source": [
    "FoodId_NutrientId[FoodId_NutrientId['NutrientId'] == '1304'].index"
   ]
  },
  {
   "cell_type": "code",
   "execution_count": 39,
   "metadata": {},
   "outputs": [
    {
     "data": {
      "text/plain": [
       "Int64Index([], dtype='int64')"
      ]
     },
     "execution_count": 39,
     "metadata": {},
     "output_type": "execute_result"
    }
   ],
   "source": [
    "nutrient[nutrient['id'] == '1304'].index"
   ]
  },
  {
   "attachments": {},
   "cell_type": "markdown",
   "metadata": {},
   "source": [
    "#### 1.2.1. Renaming\n",
    "Replace the column names with a same name in each table, for better merging."
   ]
  },
  {
   "cell_type": "code",
   "execution_count": 40,
   "metadata": {},
   "outputs": [
    {
     "data": {
      "text/html": [
       "<div>\n",
       "<style scoped>\n",
       "    .dataframe tbody tr th:only-of-type {\n",
       "        vertical-align: middle;\n",
       "    }\n",
       "\n",
       "    .dataframe tbody tr th {\n",
       "        vertical-align: top;\n",
       "    }\n",
       "\n",
       "    .dataframe thead th {\n",
       "        text-align: right;\n",
       "    }\n",
       "</style>\n",
       "<table border=\"1\" class=\"dataframe\">\n",
       "  <thead>\n",
       "    <tr style=\"text-align: right;\">\n",
       "      <th></th>\n",
       "      <th>fdc_id</th>\n",
       "      <th>description</th>\n",
       "    </tr>\n",
       "  </thead>\n",
       "  <tbody>\n",
       "    <tr>\n",
       "      <th>796807</th>\n",
       "      <td>1369106</td>\n",
       "      <td>ORIGINAL CREAM CHEESE</td>\n",
       "    </tr>\n",
       "  </tbody>\n",
       "</table>\n",
       "</div>"
      ],
      "text/plain": [
       "         fdc_id            description\n",
       "796807  1369106  ORIGINAL CREAM CHEESE"
      ]
     },
     "execution_count": 40,
     "metadata": {},
     "output_type": "execute_result"
    }
   ],
   "source": [
    "# change decription to food\n",
    "# change fdc_id to food_id\n",
    "food.sample()"
   ]
  },
  {
   "cell_type": "code",
   "execution_count": 41,
   "metadata": {},
   "outputs": [
    {
     "data": {
      "text/html": [
       "<div>\n",
       "<style scoped>\n",
       "    .dataframe tbody tr th:only-of-type {\n",
       "        vertical-align: middle;\n",
       "    }\n",
       "\n",
       "    .dataframe tbody tr th {\n",
       "        vertical-align: top;\n",
       "    }\n",
       "\n",
       "    .dataframe thead th {\n",
       "        text-align: right;\n",
       "    }\n",
       "</style>\n",
       "<table border=\"1\" class=\"dataframe\">\n",
       "  <thead>\n",
       "    <tr style=\"text-align: right;\">\n",
       "      <th></th>\n",
       "      <th>food_id</th>\n",
       "      <th>food</th>\n",
       "    </tr>\n",
       "  </thead>\n",
       "  <tbody>\n",
       "    <tr>\n",
       "      <th>1012615</th>\n",
       "      <td>1584914</td>\n",
       "      <td>TAHINI SESAME PASTE</td>\n",
       "    </tr>\n",
       "  </tbody>\n",
       "</table>\n",
       "</div>"
      ],
      "text/plain": [
       "         food_id                 food\n",
       "1012615  1584914  TAHINI SESAME PASTE"
      ]
     },
     "execution_count": 41,
     "metadata": {},
     "output_type": "execute_result"
    }
   ],
   "source": [
    "food.rename(columns= {\"fdc_id\" : \"food_id\", \"description\" : \"food\"}, inplace=True)\n",
    "food.sample()"
   ]
  },
  {
   "cell_type": "code",
   "execution_count": 204,
   "metadata": {},
   "outputs": [],
   "source": [
    "def rename_columns (food, nutrients, FoodId_NutrientId):\n",
    "    food.rename(columns= {\"fdc_id\" : \"food_id\", \"description\" : \"food\"}, inplace=True)\n",
    "    FoodId_NutrientId.rename(columns= {\"FoodId\" : \"food_id\", \"NutrientId\" : \"nutrient_id\", 'Per100g ' : \"Per100g\"}, inplace=True)\n",
    "    nutrient.rename(columns= {\"name\" : \"nutrient\", \"id\" : \"nutrient_id\"}, inplace=True)\n",
    "    return food, nutrients, FoodId_NutrientId"
   ]
  },
  {
   "cell_type": "code",
   "execution_count": 206,
   "metadata": {},
   "outputs": [
    {
     "ename": "NameError",
     "evalue": "name 'nutrients' is not defined",
     "output_type": "error",
     "traceback": [
      "\u001b[1;31m---------------------------------------------------------------------------\u001b[0m",
      "\u001b[1;31mNameError\u001b[0m                                 Traceback (most recent call last)",
      "\u001b[1;32md:\\ironhack\\proyectos\\PipeLine_proy2\\Analizing.ipynb Cell 53\u001b[0m in \u001b[0;36m<cell line: 1>\u001b[1;34m()\u001b[0m\n\u001b[1;32m----> <a href='vscode-notebook-cell:/d%3A/ironhack/proyectos/PipeLine_proy2/Analizing.ipynb#Y230sZmlsZQ%3D%3D?line=0'>1</a>\u001b[0m rename_columns (food, nutrients, FoodId_NutrientId)\n",
      "\u001b[1;31mNameError\u001b[0m: name 'nutrients' is not defined"
     ]
    }
   ],
   "source": [
    "rename_columns (food, nutrients, FoodId_NutrientId)"
   ]
  },
  {
   "cell_type": "code",
   "execution_count": 42,
   "metadata": {},
   "outputs": [
    {
     "data": {
      "text/html": [
       "<div>\n",
       "<style scoped>\n",
       "    .dataframe tbody tr th:only-of-type {\n",
       "        vertical-align: middle;\n",
       "    }\n",
       "\n",
       "    .dataframe tbody tr th {\n",
       "        vertical-align: top;\n",
       "    }\n",
       "\n",
       "    .dataframe thead th {\n",
       "        text-align: right;\n",
       "    }\n",
       "</style>\n",
       "<table border=\"1\" class=\"dataframe\">\n",
       "  <thead>\n",
       "    <tr style=\"text-align: right;\">\n",
       "      <th></th>\n",
       "      <th>FoodId</th>\n",
       "      <th>NutrientId</th>\n",
       "      <th>Per100g</th>\n",
       "    </tr>\n",
       "  </thead>\n",
       "  <tbody>\n",
       "    <tr>\n",
       "      <th>7624193</th>\n",
       "      <td>1109520</td>\n",
       "      <td>601</td>\n",
       "      <td>0.0</td>\n",
       "    </tr>\n",
       "  </tbody>\n",
       "</table>\n",
       "</div>"
      ],
      "text/plain": [
       "          FoodId  NutrientId  Per100g \n",
       "7624193  1109520         601       0.0"
      ]
     },
     "execution_count": 42,
     "metadata": {},
     "output_type": "execute_result"
    }
   ],
   "source": [
    "#change NutrientId to nutrient_id\n",
    "#change foodId to food_id\n",
    "FoodId_NutrientId.sample()"
   ]
  },
  {
   "cell_type": "code",
   "execution_count": 43,
   "metadata": {},
   "outputs": [
    {
     "data": {
      "text/html": [
       "<div>\n",
       "<style scoped>\n",
       "    .dataframe tbody tr th:only-of-type {\n",
       "        vertical-align: middle;\n",
       "    }\n",
       "\n",
       "    .dataframe tbody tr th {\n",
       "        vertical-align: top;\n",
       "    }\n",
       "\n",
       "    .dataframe thead th {\n",
       "        text-align: right;\n",
       "    }\n",
       "</style>\n",
       "<table border=\"1\" class=\"dataframe\">\n",
       "  <thead>\n",
       "    <tr style=\"text-align: right;\">\n",
       "      <th></th>\n",
       "      <th>food_id</th>\n",
       "      <th>nutrient_id</th>\n",
       "      <th>Per100g</th>\n",
       "    </tr>\n",
       "  </thead>\n",
       "  <tbody>\n",
       "    <tr>\n",
       "      <th>6894449</th>\n",
       "      <td>1070267</td>\n",
       "      <td>1079</td>\n",
       "      <td>1.6</td>\n",
       "    </tr>\n",
       "  </tbody>\n",
       "</table>\n",
       "</div>"
      ],
      "text/plain": [
       "         food_id  nutrient_id  Per100g\n",
       "6894449  1070267         1079      1.6"
      ]
     },
     "execution_count": 43,
     "metadata": {},
     "output_type": "execute_result"
    }
   ],
   "source": [
    "FoodId_NutrientId.rename(columns= {\"FoodId\" : \"food_id\", \"NutrientId\" : \"nutrient_id\", 'Per100g ' : \"Per100g\"}, inplace=True)\n",
    "FoodId_NutrientId.sample()"
   ]
  },
  {
   "cell_type": "code",
   "execution_count": 44,
   "metadata": {},
   "outputs": [
    {
     "data": {
      "text/html": [
       "<div>\n",
       "<style scoped>\n",
       "    .dataframe tbody tr th:only-of-type {\n",
       "        vertical-align: middle;\n",
       "    }\n",
       "\n",
       "    .dataframe tbody tr th {\n",
       "        vertical-align: top;\n",
       "    }\n",
       "\n",
       "    .dataframe thead th {\n",
       "        text-align: right;\n",
       "    }\n",
       "</style>\n",
       "<table border=\"1\" class=\"dataframe\">\n",
       "  <thead>\n",
       "    <tr style=\"text-align: right;\">\n",
       "      <th></th>\n",
       "      <th>id</th>\n",
       "      <th>name</th>\n",
       "    </tr>\n",
       "  </thead>\n",
       "  <tbody>\n",
       "    <tr>\n",
       "      <th>448</th>\n",
       "      <td>2041</td>\n",
       "      <td>Tocopherols and tocotrienols</td>\n",
       "    </tr>\n",
       "  </tbody>\n",
       "</table>\n",
       "</div>"
      ],
      "text/plain": [
       "       id                          name\n",
       "448  2041  Tocopherols and tocotrienols"
      ]
     },
     "execution_count": 44,
     "metadata": {},
     "output_type": "execute_result"
    }
   ],
   "source": [
    "# change id to nutrient_id\n",
    "# change name to nutrient\n",
    "nutrient.sample()"
   ]
  },
  {
   "cell_type": "code",
   "execution_count": 45,
   "metadata": {},
   "outputs": [
    {
     "data": {
      "text/html": [
       "<div>\n",
       "<style scoped>\n",
       "    .dataframe tbody tr th:only-of-type {\n",
       "        vertical-align: middle;\n",
       "    }\n",
       "\n",
       "    .dataframe tbody tr th {\n",
       "        vertical-align: top;\n",
       "    }\n",
       "\n",
       "    .dataframe thead th {\n",
       "        text-align: right;\n",
       "    }\n",
       "</style>\n",
       "<table border=\"1\" class=\"dataframe\">\n",
       "  <thead>\n",
       "    <tr style=\"text-align: right;\">\n",
       "      <th></th>\n",
       "      <th>nutrient_id</th>\n",
       "      <th>nutrient</th>\n",
       "    </tr>\n",
       "  </thead>\n",
       "  <tbody>\n",
       "    <tr>\n",
       "      <th>207</th>\n",
       "      <td>1210</td>\n",
       "      <td>Tryptophan</td>\n",
       "    </tr>\n",
       "  </tbody>\n",
       "</table>\n",
       "</div>"
      ],
      "text/plain": [
       "     nutrient_id    nutrient\n",
       "207         1210  Tryptophan"
      ]
     },
     "execution_count": 45,
     "metadata": {},
     "output_type": "execute_result"
    }
   ],
   "source": [
    "nutrient.rename(columns= {\"name\" : \"nutrient\", \"id\" : \"nutrient_id\"}, inplace=True)\n",
    "nutrient.sample()"
   ]
  },
  {
   "attachments": {},
   "cell_type": "markdown",
   "metadata": {},
   "source": [
    "#### 1.2.2. Merge"
   ]
  },
  {
   "cell_type": "code",
   "execution_count": 46,
   "metadata": {},
   "outputs": [
    {
     "ename": "NameError",
     "evalue": "name 'inner_merge' is not defined",
     "output_type": "error",
     "traceback": [
      "\u001b[1;31m---------------------------------------------------------------------------\u001b[0m",
      "\u001b[1;31mNameError\u001b[0m                                 Traceback (most recent call last)",
      "\u001b[1;32md:\\ironhack\\proyectos\\PipeLine_proy2\\Analizing.ipynb Cell 52\u001b[0m in \u001b[0;36m<cell line: 1>\u001b[1;34m()\u001b[0m\n\u001b[1;32m----> <a href='vscode-notebook-cell:/d%3A/ironhack/proyectos/PipeLine_proy2/Analizing.ipynb#Y102sZmlsZQ%3D%3D?line=0'>1</a>\u001b[0m \u001b[39mlist\u001b[39m(inner_merge\u001b[39m.\u001b[39mcolumns)\n",
      "\u001b[1;31mNameError\u001b[0m: name 'inner_merge' is not defined"
     ]
    }
   ],
   "source": [
    "list(inner_merge.columns)"
   ]
  },
  {
   "cell_type": "code",
   "execution_count": null,
   "metadata": {},
   "outputs": [
    {
     "data": {
      "text/html": [
       "<div>\n",
       "<style scoped>\n",
       "    .dataframe tbody tr th:only-of-type {\n",
       "        vertical-align: middle;\n",
       "    }\n",
       "\n",
       "    .dataframe tbody tr th {\n",
       "        vertical-align: top;\n",
       "    }\n",
       "\n",
       "    .dataframe thead th {\n",
       "        text-align: right;\n",
       "    }\n",
       "</style>\n",
       "<table border=\"1\" class=\"dataframe\">\n",
       "  <thead>\n",
       "    <tr style=\"text-align: right;\">\n",
       "      <th></th>\n",
       "      <th>nutrient_id</th>\n",
       "      <th>nutrient</th>\n",
       "      <th>food_id</th>\n",
       "      <th>Per100g</th>\n",
       "    </tr>\n",
       "  </thead>\n",
       "  <tbody>\n",
       "    <tr>\n",
       "      <th>6095097</th>\n",
       "      <td>1257</td>\n",
       "      <td>Fatty acids, total trans</td>\n",
       "      <td>929406</td>\n",
       "      <td>0.0</td>\n",
       "    </tr>\n",
       "  </tbody>\n",
       "</table>\n",
       "</div>"
      ],
      "text/plain": [
       "         nutrient_id                  nutrient  food_id  Per100g\n",
       "6095097         1257  Fatty acids, total trans   929406      0.0"
      ]
     },
     "execution_count": 368,
     "metadata": {},
     "output_type": "execute_result"
    }
   ],
   "source": [
    "inner_merge = pd.merge(nutrient, FoodId_NutrientId, on=\"nutrient_id\", how=\"inner\")\n",
    "inner_merge.sample()"
   ]
  },
  {
   "cell_type": "code",
   "execution_count": null,
   "metadata": {},
   "outputs": [],
   "source": [
    "def inner_merge ():"
   ]
  },
  {
   "cell_type": "code",
   "execution_count": null,
   "metadata": {},
   "outputs": [
    {
     "data": {
      "text/html": [
       "<div>\n",
       "<style scoped>\n",
       "    .dataframe tbody tr th:only-of-type {\n",
       "        vertical-align: middle;\n",
       "    }\n",
       "\n",
       "    .dataframe tbody tr th {\n",
       "        vertical-align: top;\n",
       "    }\n",
       "\n",
       "    .dataframe thead th {\n",
       "        text-align: right;\n",
       "    }\n",
       "</style>\n",
       "<table border=\"1\" class=\"dataframe\">\n",
       "  <thead>\n",
       "    <tr style=\"text-align: right;\">\n",
       "      <th></th>\n",
       "      <th>nutrient_id</th>\n",
       "      <th>nutrient</th>\n",
       "      <th>food_id</th>\n",
       "      <th>Per100g</th>\n",
       "      <th>food</th>\n",
       "    </tr>\n",
       "  </thead>\n",
       "  <tbody>\n",
       "    <tr>\n",
       "      <th>6886894</th>\n",
       "      <td>1008</td>\n",
       "      <td>Energy</td>\n",
       "      <td>1080403</td>\n",
       "      <td>393.0</td>\n",
       "      <td>PEPPERMINT, COOKIE, EGG NOG &amp; CRANBERRY ASSORT...</td>\n",
       "    </tr>\n",
       "  </tbody>\n",
       "</table>\n",
       "</div>"
      ],
      "text/plain": [
       "         nutrient_id nutrient  food_id  Per100g  \\\n",
       "6886894         1008   Energy  1080403    393.0   \n",
       "\n",
       "                                                      food  \n",
       "6886894  PEPPERMINT, COOKIE, EGG NOG & CRANBERRY ASSORT...  "
      ]
     },
     "execution_count": 369,
     "metadata": {},
     "output_type": "execute_result"
    }
   ],
   "source": [
    "usda = pd.merge(inner_merge, food, on=\"food_id\", how=\"inner\")\n",
    "usda.sample()"
   ]
  },
  {
   "attachments": {},
   "cell_type": "markdown",
   "metadata": {},
   "source": [
    "Re-arrange the column in a better order for mor understanding."
   ]
  },
  {
   "cell_type": "code",
   "execution_count": null,
   "metadata": {},
   "outputs": [
    {
     "data": {
      "text/html": [
       "<div>\n",
       "<style scoped>\n",
       "    .dataframe tbody tr th:only-of-type {\n",
       "        vertical-align: middle;\n",
       "    }\n",
       "\n",
       "    .dataframe tbody tr th {\n",
       "        vertical-align: top;\n",
       "    }\n",
       "\n",
       "    .dataframe thead th {\n",
       "        text-align: right;\n",
       "    }\n",
       "</style>\n",
       "<table border=\"1\" class=\"dataframe\">\n",
       "  <thead>\n",
       "    <tr style=\"text-align: right;\">\n",
       "      <th></th>\n",
       "      <th>food</th>\n",
       "      <th>nutrient</th>\n",
       "      <th>Per100g</th>\n",
       "      <th>food_id</th>\n",
       "      <th>nutrient_id</th>\n",
       "    </tr>\n",
       "  </thead>\n",
       "  <tbody>\n",
       "    <tr>\n",
       "      <th>4899668</th>\n",
       "      <td>WILD ALASKA CHUM SALMON</td>\n",
       "      <td>Fiber, total dietary</td>\n",
       "      <td>0.00</td>\n",
       "      <td>704888</td>\n",
       "      <td>1079</td>\n",
       "    </tr>\n",
       "    <tr>\n",
       "      <th>4012806</th>\n",
       "      <td>8/10 OCTOPUS</td>\n",
       "      <td>Vitamin A, IU</td>\n",
       "      <td>0.00</td>\n",
       "      <td>352235</td>\n",
       "      <td>1104</td>\n",
       "    </tr>\n",
       "    <tr>\n",
       "      <th>1207134</th>\n",
       "      <td>SPICED COOKIE SPREAD</td>\n",
       "      <td>Carbohydrate, by difference</td>\n",
       "      <td>56.76</td>\n",
       "      <td>532102</td>\n",
       "      <td>1005</td>\n",
       "    </tr>\n",
       "    <tr>\n",
       "      <th>1011738</th>\n",
       "      <td>FLAVE!, ASSORTED GUMMY BEARS, 12 FLAVORS</td>\n",
       "      <td>Sugars, total including NLEA</td>\n",
       "      <td>47.50</td>\n",
       "      <td>401042</td>\n",
       "      <td>2000</td>\n",
       "    </tr>\n",
       "    <tr>\n",
       "      <th>7452218</th>\n",
       "      <td>Beer, light, higher alcohol</td>\n",
       "      <td>Vitamin B-12</td>\n",
       "      <td>0.02</td>\n",
       "      <td>1104396</td>\n",
       "      <td>1178</td>\n",
       "    </tr>\n",
       "  </tbody>\n",
       "</table>\n",
       "</div>"
      ],
      "text/plain": [
       "                                             food  \\\n",
       "4899668                   WILD ALASKA CHUM SALMON   \n",
       "4012806                              8/10 OCTOPUS   \n",
       "1207134                      SPICED COOKIE SPREAD   \n",
       "1011738  FLAVE!, ASSORTED GUMMY BEARS, 12 FLAVORS   \n",
       "7452218               Beer, light, higher alcohol   \n",
       "\n",
       "                             nutrient  Per100g  food_id  nutrient_id  \n",
       "4899668          Fiber, total dietary     0.00   704888         1079  \n",
       "4012806                 Vitamin A, IU     0.00   352235         1104  \n",
       "1207134   Carbohydrate, by difference    56.76   532102         1005  \n",
       "1011738  Sugars, total including NLEA    47.50   401042         2000  \n",
       "7452218                  Vitamin B-12     0.02  1104396         1178  "
      ]
     },
     "execution_count": 370,
     "metadata": {},
     "output_type": "execute_result"
    }
   ],
   "source": [
    "usda = usda[[\"food\", \"nutrient\", \"Per100g\", \"food_id\", \"nutrient_id\" ]]\n",
    "usda.sample(5)"
   ]
  },
  {
   "cell_type": "code",
   "execution_count": null,
   "metadata": {},
   "outputs": [],
   "source": [
    "# Clean list of nutrients\n",
    "list(usda[\"nutrient\"])\n",
    "usda[\"nutrient\"] = [i.strip().replace(\"  \", \" \") for i in list(usda[\"nutrient\"])]\n"
   ]
  },
  {
   "cell_type": "code",
   "execution_count": null,
   "metadata": {},
   "outputs": [
    {
     "ename": "NameError",
     "evalue": "name 'usda' is not defined",
     "output_type": "error",
     "traceback": [
      "\u001b[1;31m---------------------------------------------------------------------------\u001b[0m",
      "\u001b[1;31mNameError\u001b[0m                                 Traceback (most recent call last)",
      "\u001b[1;32md:\\ironhack\\proyectos\\PipeLine_proy2\\Analizing.ipynb Cell 58\u001b[0m in \u001b[0;36m<cell line: 1>\u001b[1;34m()\u001b[0m\n\u001b[1;32m----> <a href='vscode-notebook-cell:/d%3A/ironhack/proyectos/PipeLine_proy2/Analizing.ipynb#Y111sZmlsZQ%3D%3D?line=0'>1</a>\u001b[0m \u001b[39mprint\u001b[39m(\u001b[39mlist\u001b[39m(usda[\u001b[39m\"\u001b[39m\u001b[39mnutrient\u001b[39m\u001b[39m\"\u001b[39m]))\n",
      "\u001b[1;31mNameError\u001b[0m: name 'usda' is not defined"
     ]
    }
   ],
   "source": [
    "print(list(usda[\"nutrient\"]))"
   ]
  },
  {
   "cell_type": "code",
   "execution_count": null,
   "metadata": {},
   "outputs": [
    {
     "ename": "ValueError",
     "evalue": "Cannot take a larger sample than population when 'replace=False'",
     "output_type": "error",
     "traceback": [
      "\u001b[1;31m---------------------------------------------------------------------------\u001b[0m",
      "\u001b[1;31mValueError\u001b[0m                                Traceback (most recent call last)",
      "\u001b[1;32md:\\ironhack\\proyectos\\Analizing.ipynb Cell 59\u001b[0m in \u001b[0;36m<cell line: 2>\u001b[1;34m()\u001b[0m\n\u001b[0;32m      <a href='vscode-notebook-cell:/d%3A/ironhack/proyectos/Analizing.ipynb#Y123sZmlsZQ%3D%3D?line=0'>1</a>\u001b[0m whey \u001b[39m=\u001b[39m usda[usda[\u001b[39m\"\u001b[39m\u001b[39mfood\u001b[39m\u001b[39m\"\u001b[39m]\u001b[39m==\u001b[39m\u001b[39m\"\u001b[39m\u001b[39mCEREAL\u001b[39m\u001b[39m\"\u001b[39m]\n\u001b[1;32m----> <a href='vscode-notebook-cell:/d%3A/ironhack/proyectos/Analizing.ipynb#Y123sZmlsZQ%3D%3D?line=1'>2</a>\u001b[0m whey\u001b[39m.\u001b[39;49msample(\u001b[39m50\u001b[39;49m)\n",
      "File \u001b[1;32mc:\\Users\\ima_n\\miniconda2\\envs\\ironhack\\lib\\site-packages\\pandas\\core\\generic.py:5773\u001b[0m, in \u001b[0;36mNDFrame.sample\u001b[1;34m(self, n, frac, replace, weights, random_state, axis, ignore_index)\u001b[0m\n\u001b[0;32m   5770\u001b[0m \u001b[39mif\u001b[39;00m weights \u001b[39mis\u001b[39;00m \u001b[39mnot\u001b[39;00m \u001b[39mNone\u001b[39;00m:\n\u001b[0;32m   5771\u001b[0m     weights \u001b[39m=\u001b[39m sample\u001b[39m.\u001b[39mpreprocess_weights(\u001b[39mself\u001b[39m, weights, axis)\n\u001b[1;32m-> 5773\u001b[0m sampled_indices \u001b[39m=\u001b[39m sample\u001b[39m.\u001b[39;49msample(obj_len, size, replace, weights, rs)\n\u001b[0;32m   5774\u001b[0m result \u001b[39m=\u001b[39m \u001b[39mself\u001b[39m\u001b[39m.\u001b[39mtake(sampled_indices, axis\u001b[39m=\u001b[39maxis)\n\u001b[0;32m   5776\u001b[0m \u001b[39mif\u001b[39;00m ignore_index:\n",
      "File \u001b[1;32mc:\\Users\\ima_n\\miniconda2\\envs\\ironhack\\lib\\site-packages\\pandas\\core\\sample.py:150\u001b[0m, in \u001b[0;36msample\u001b[1;34m(obj_len, size, replace, weights, random_state)\u001b[0m\n\u001b[0;32m    147\u001b[0m     \u001b[39melse\u001b[39;00m:\n\u001b[0;32m    148\u001b[0m         \u001b[39mraise\u001b[39;00m \u001b[39mValueError\u001b[39;00m(\u001b[39m\"\u001b[39m\u001b[39mInvalid weights: weights sum to zero\u001b[39m\u001b[39m\"\u001b[39m)\n\u001b[1;32m--> 150\u001b[0m \u001b[39mreturn\u001b[39;00m random_state\u001b[39m.\u001b[39;49mchoice(obj_len, size\u001b[39m=\u001b[39;49msize, replace\u001b[39m=\u001b[39;49mreplace, p\u001b[39m=\u001b[39;49mweights)\u001b[39m.\u001b[39mastype(\n\u001b[0;32m    151\u001b[0m     np\u001b[39m.\u001b[39mintp, copy\u001b[39m=\u001b[39m\u001b[39mFalse\u001b[39;00m\n\u001b[0;32m    152\u001b[0m )\n",
      "File \u001b[1;32mmtrand.pyx:965\u001b[0m, in \u001b[0;36mnumpy.random.mtrand.RandomState.choice\u001b[1;34m()\u001b[0m\n",
      "\u001b[1;31mValueError\u001b[0m: Cannot take a larger sample than population when 'replace=False'"
     ]
    }
   ],
   "source": [
    "whey = usda[usda[\"food\"]==\"CEREAL\"]\n",
    "whey.sample(50)\n"
   ]
  },
  {
   "attachments": {},
   "cell_type": "markdown",
   "metadata": {},
   "source": [
    "Will need to do a bigger filter, theres a lot of the same food name but still different for their id number, it probably is because its same product of different brand. Still we weally dont need it for this proyect.\n",
    "Drop the duplicated."
   ]
  },
  {
   "cell_type": "code",
   "execution_count": null,
   "metadata": {},
   "outputs": [
    {
     "data": {
      "text/html": [
       "<div>\n",
       "<style scoped>\n",
       "    .dataframe tbody tr th:only-of-type {\n",
       "        vertical-align: middle;\n",
       "    }\n",
       "\n",
       "    .dataframe tbody tr th {\n",
       "        vertical-align: top;\n",
       "    }\n",
       "\n",
       "    .dataframe thead th {\n",
       "        text-align: right;\n",
       "    }\n",
       "</style>\n",
       "<table border=\"1\" class=\"dataframe\">\n",
       "  <thead>\n",
       "    <tr style=\"text-align: right;\">\n",
       "      <th></th>\n",
       "      <th>food</th>\n",
       "      <th>nutrient</th>\n",
       "    </tr>\n",
       "  </thead>\n",
       "  <tbody>\n",
       "    <tr>\n",
       "      <th>7404602</th>\n",
       "      <td>Relish, corn</td>\n",
       "      <td>Fatty acids, total monounsaturated</td>\n",
       "    </tr>\n",
       "  </tbody>\n",
       "</table>\n",
       "</div>"
      ],
      "text/plain": [
       "                 food                            nutrient\n",
       "7404602  Relish, corn  Fatty acids, total monounsaturated"
      ]
     },
     "execution_count": 377,
     "metadata": {},
     "output_type": "execute_result"
    }
   ],
   "source": [
    "usda.drop(columns = [\"Per100g\", \"food_id\", \"nutrient_id\"], inplace= True, axis=1)\n",
    "usda.sample()"
   ]
  },
  {
   "cell_type": "code",
   "execution_count": null,
   "metadata": {},
   "outputs": [
    {
     "data": {
      "text/plain": [
       "2822490"
      ]
     },
     "execution_count": 391,
     "metadata": {},
     "output_type": "execute_result"
    }
   ],
   "source": [
    "usda.duplicated().sum()"
   ]
  },
  {
   "cell_type": "code",
   "execution_count": null,
   "metadata": {},
   "outputs": [
    {
     "data": {
      "text/plain": [
       "(7555511, 2)"
      ]
     },
     "execution_count": 385,
     "metadata": {},
     "output_type": "execute_result"
    }
   ],
   "source": [
    "usda.shape"
   ]
  },
  {
   "cell_type": "code",
   "execution_count": null,
   "metadata": {},
   "outputs": [
    {
     "data": {
      "text/plain": [
       "(4733021, 2)"
      ]
     },
     "execution_count": 392,
     "metadata": {},
     "output_type": "execute_result"
    }
   ],
   "source": [
    "usda.drop_duplicates(inplace=True)\n",
    "usda.shape"
   ]
  },
  {
   "cell_type": "code",
   "execution_count": null,
   "metadata": {},
   "outputs": [
    {
     "data": {
      "text/html": [
       "<div>\n",
       "<style scoped>\n",
       "    .dataframe tbody tr th:only-of-type {\n",
       "        vertical-align: middle;\n",
       "    }\n",
       "\n",
       "    .dataframe tbody tr th {\n",
       "        vertical-align: top;\n",
       "    }\n",
       "\n",
       "    .dataframe thead th {\n",
       "        text-align: right;\n",
       "    }\n",
       "</style>\n",
       "<table border=\"1\" class=\"dataframe\">\n",
       "  <thead>\n",
       "    <tr style=\"text-align: right;\">\n",
       "      <th></th>\n",
       "      <th>food</th>\n",
       "      <th>nutrient</th>\n",
       "    </tr>\n",
       "  </thead>\n",
       "  <tbody>\n",
       "    <tr>\n",
       "      <th>3449723</th>\n",
       "      <td>HARRIS TEETER,SWEETENED CONDENSED MILK</td>\n",
       "      <td>Vitamin C, total ascorbic acid</td>\n",
       "    </tr>\n",
       "  </tbody>\n",
       "</table>\n",
       "</div>"
      ],
      "text/plain": [
       "                                           food  \\\n",
       "3449723  HARRIS TEETER,SWEETENED CONDENSED MILK   \n",
       "\n",
       "                               nutrient  \n",
       "3449723  Vitamin C, total ascorbic acid  "
      ]
     },
     "execution_count": 394,
     "metadata": {},
     "output_type": "execute_result"
    }
   ],
   "source": [
    "usda.sample()"
   ]
  },
  {
   "cell_type": "code",
   "execution_count": null,
   "metadata": {},
   "outputs": [
    {
     "data": {
      "text/plain": [
       "<pandas.core.groupby.generic.DataFrameGroupBy object at 0x0000018B4FAEEE60>"
      ]
     },
     "execution_count": 396,
     "metadata": {},
     "output_type": "execute_result"
    }
   ],
   "source": [
    "# relacionarlos con porcentaje de nutrients, count() sum()\n",
    "# revisar el type() de cada columna - strings\n",
    "usda_group = usda.groupby(by=[\"food\"])\n",
    "usda_group"
   ]
  },
  {
   "cell_type": "code",
   "execution_count": null,
   "metadata": {},
   "outputs": [
    {
     "data": {
      "text/html": [
       "<div>\n",
       "<style scoped>\n",
       "    .dataframe tbody tr th:only-of-type {\n",
       "        vertical-align: middle;\n",
       "    }\n",
       "\n",
       "    .dataframe tbody tr th {\n",
       "        vertical-align: top;\n",
       "    }\n",
       "\n",
       "    .dataframe thead th {\n",
       "        text-align: right;\n",
       "    }\n",
       "</style>\n",
       "<table border=\"1\" class=\"dataframe\">\n",
       "  <thead>\n",
       "    <tr style=\"text-align: right;\">\n",
       "      <th></th>\n",
       "      <th></th>\n",
       "      <th>nutrient</th>\n",
       "    </tr>\n",
       "    <tr>\n",
       "      <th>food</th>\n",
       "      <th>nutrient</th>\n",
       "      <th></th>\n",
       "    </tr>\n",
       "  </thead>\n",
       "  <tbody>\n",
       "    <tr>\n",
       "      <th rowspan=\"5\" valign=\"top\">Egg whites</th>\n",
       "      <th>Calcium, Ca</th>\n",
       "      <td>1</td>\n",
       "    </tr>\n",
       "    <tr>\n",
       "      <th>Copper, Cu</th>\n",
       "      <td>1</td>\n",
       "    </tr>\n",
       "    <tr>\n",
       "      <th>Iron, Fe</th>\n",
       "      <td>1</td>\n",
       "    </tr>\n",
       "    <tr>\n",
       "      <th>Magnesium, Mg</th>\n",
       "      <td>1</td>\n",
       "    </tr>\n",
       "    <tr>\n",
       "      <th>Manganese, Mn</th>\n",
       "      <td>1</td>\n",
       "    </tr>\n",
       "    <tr>\n",
       "      <th>...</th>\n",
       "      <th>...</th>\n",
       "      <td>...</td>\n",
       "    </tr>\n",
       "    <tr>\n",
       "      <th rowspan=\"5\" valign=\"top\">{TRAIL MIX}</th>\n",
       "      <th>Sodium, Na</th>\n",
       "      <td>1</td>\n",
       "    </tr>\n",
       "    <tr>\n",
       "      <th>Sugars, total including NLEA</th>\n",
       "      <td>1</td>\n",
       "    </tr>\n",
       "    <tr>\n",
       "      <th>Total lipid (fat)</th>\n",
       "      <td>1</td>\n",
       "    </tr>\n",
       "    <tr>\n",
       "      <th>Vitamin A, IU</th>\n",
       "      <td>1</td>\n",
       "    </tr>\n",
       "    <tr>\n",
       "      <th>Vitamin C, total ascorbic acid</th>\n",
       "      <td>1</td>\n",
       "    </tr>\n",
       "  </tbody>\n",
       "</table>\n",
       "<p>4733021 rows × 1 columns</p>\n",
       "</div>"
      ],
      "text/plain": [
       "                                            nutrient\n",
       "food        nutrient                                \n",
       " Egg whites Calcium, Ca                            1\n",
       "            Copper, Cu                             1\n",
       "            Iron, Fe                               1\n",
       "            Magnesium, Mg                          1\n",
       "            Manganese, Mn                          1\n",
       "...                                              ...\n",
       "{TRAIL MIX} Sodium, Na                             1\n",
       "            Sugars, total including NLEA           1\n",
       "            Total lipid (fat)                      1\n",
       "            Vitamin A, IU                          1\n",
       "            Vitamin C, total ascorbic acid         1\n",
       "\n",
       "[4733021 rows x 1 columns]"
      ]
     },
     "execution_count": 405,
     "metadata": {},
     "output_type": "execute_result"
    }
   ],
   "source": [
    "# relacionarlos con porcentaje de nutrients, count() sum()\n",
    "usda[[\"food\", \"nutrient\"]].groupby(by=[\"food\"]).agg({\"nutrient\":\"value_counts\"})\n"
   ]
  },
  {
   "attachments": {},
   "cell_type": "markdown",
   "metadata": {},
   "source": [
    "## 2. HEALTH CARE.\n",
    "### 2.1. Exploration."
   ]
  },
  {
   "attachments": {},
   "cell_type": "markdown",
   "metadata": {},
   "source": [
    "-enfermedades carenciales\n",
    "-cronicas\n",
    "1. sacar informacion de las paginas web.\n",
    "2. web scraping.\n",
    "\n",
    "## que hipothesis? \n",
    "1. alguna mezcla de enfermedades, sacar pocas enfermedades y relacionarlo con la comida para ver que tipo de alimento necesits para recuperarte de cada enfermedad.\n",
    "2. que nutriente tienen en comun la mayoria de los alimentos para ver cual es el plato o la comida mas saludable del mundo \n",
    "## cual es la comida mas sana del universo? \n",
    "    - which food is the helthier in the world\n",
    "     - que nutriente es el mas popular \n",
    "            sacar un comun demnominador en la mayoria de comidas\n",
    "    -  cual es la comida mas sana del mundo\n",
    "            *sacar un porcentaje de cuales son los nutrientes mas populares \n",
    "            *buscar una comida que tenga la mayoria de los nutrientes \n",
    "            *agrupar los nutrientes? \n",
    "            *sacar porcentaje de nutrientes en food\n",
    "            *buscar en las enfermedades cuales son los nutrientes mas usados.\n",
    "                buscar que comida tiene la mayoria de esos nutrientes.\n",
    "                sacar porcentajes count()sum() pero relacionados.\n",
    "\n"
   ]
  },
  {
   "cell_type": "code",
   "execution_count": 187,
   "metadata": {},
   "outputs": [
    {
     "data": {
      "text/plain": [
       "<module 'src.extraction' from 'd:\\\\ironhack\\\\proyectos\\\\PipeLine_proy2\\\\src\\\\extraction.py'>"
      ]
     },
     "execution_count": 187,
     "metadata": {},
     "output_type": "execute_result"
    }
   ],
   "source": [
    "import requests\n",
    "from bs4 import BeautifulSoup\n",
    "import pandas as pd\n",
    "import requests\n",
    "import re\n",
    "import lxml\n",
    "import importlib\n",
    "import src.extraction as ex\n",
    "importlib.reload(ex)"
   ]
  },
  {
   "attachments": {},
   "cell_type": "markdown",
   "metadata": {},
   "source": [
    "The total of the url link its not complete, its divided and reloaded every time I scroll down, will have to look for all the url links by separate and add them in a dataftame by separate, will apply a function that adds every link and make the same acctions in each.\n",
    "After merge them all."
   ]
  },
  {
   "attachments": {},
   "cell_type": "markdown",
   "metadata": {},
   "source": [
    "#### 2.1.1 First link."
   ]
  },
  {
   "attachments": {},
   "cell_type": "markdown",
   "metadata": {},
   "source": [
    "get the text of what we want in the web page link."
   ]
  },
  {
   "cell_type": "code",
   "execution_count": 180,
   "metadata": {},
   "outputs": [],
   "source": [
    "url = \"https://www.vedantu.com/biology/deficiency-diseases\"\n",
    "tags = ex.get_text(url)"
   ]
  },
  {
   "cell_type": "code",
   "execution_count": 181,
   "metadata": {},
   "outputs": [],
   "source": [
    "tag_1 = tags[37:55]\n",
    "tag_2 = tags[60:68]\n",
    "tag_3 = tags[73:91]"
   ]
  },
  {
   "attachments": {},
   "cell_type": "markdown",
   "metadata": {},
   "source": [
    "clean and filter the text to what actualy we need."
   ]
  },
  {
   "cell_type": "code",
   "execution_count": 182,
   "metadata": {},
   "outputs": [],
   "source": [
    "info_1 = ex.text_filtered(tag_1)\n",
    "info_2 = ex.text_filtered(tag_2)\n",
    "info_3 = ex.text_filtered(tag_3)"
   ]
  },
  {
   "attachments": {},
   "cell_type": "markdown",
   "metadata": {},
   "source": [
    "Creating the lists info a data frame, it made it into a single column frame, had to separate the information into 2 columns, nutrients and the information, and at the end put the 3 data frames into 1."
   ]
  },
  {
   "cell_type": "code",
   "execution_count": 188,
   "metadata": {},
   "outputs": [
    {
     "data": {
      "text/html": [
       "<div>\n",
       "<style scoped>\n",
       "    .dataframe tbody tr th:only-of-type {\n",
       "        vertical-align: middle;\n",
       "    }\n",
       "\n",
       "    .dataframe tbody tr th {\n",
       "        vertical-align: top;\n",
       "    }\n",
       "\n",
       "    .dataframe thead th {\n",
       "        text-align: right;\n",
       "    }\n",
       "</style>\n",
       "<table border=\"1\" class=\"dataframe\">\n",
       "  <thead>\n",
       "    <tr style=\"text-align: right;\">\n",
       "      <th></th>\n",
       "      <th>nutrients</th>\n",
       "      <th>info</th>\n",
       "    </tr>\n",
       "  </thead>\n",
       "  <tbody>\n",
       "    <tr>\n",
       "      <th>0</th>\n",
       "      <td>thiamine (vitamin b1)</td>\n",
       "      <td>severe deficiency causes beriberi with symptom...</td>\n",
       "    </tr>\n",
       "    <tr>\n",
       "      <th>1</th>\n",
       "      <td>riboflavin (vitamin b2)</td>\n",
       "      <td>the deficiency of this vitamin causes angular ...</td>\n",
       "    </tr>\n",
       "    <tr>\n",
       "      <th>2</th>\n",
       "      <td>niacin (vitamin b3)</td>\n",
       "      <td>causes pellagra which is a life-threatening di...</td>\n",
       "    </tr>\n",
       "    <tr>\n",
       "      <th>3</th>\n",
       "      <td>pantothenic acid (vitamin b5)</td>\n",
       "      <td>vitamin b5 deficiency is rare and the symptoms...</td>\n",
       "    </tr>\n",
       "    <tr>\n",
       "      <th>4</th>\n",
       "      <td>vitamin b6</td>\n",
       "      <td>end-stage kidney diseases such as celiac disea...</td>\n",
       "    </tr>\n",
       "    <tr>\n",
       "      <th>5</th>\n",
       "      <td>biotin (vitamin b7)</td>\n",
       "      <td>the deficiency affects the growth of hair and ...</td>\n",
       "    </tr>\n",
       "    <tr>\n",
       "      <th>6</th>\n",
       "      <td>folate (vitamin b9)</td>\n",
       "      <td>it is very common and the deficiency is associ...</td>\n",
       "    </tr>\n",
       "    <tr>\n",
       "      <th>7</th>\n",
       "      <td>vitamin b12</td>\n",
       "      <td>deficiency of this disease leads to pernicious...</td>\n",
       "    </tr>\n",
       "    <tr>\n",
       "      <th>8</th>\n",
       "      <td>ascorbic acid (vitamin c)</td>\n",
       "      <td>deficiency results in scurvy and the symptoms ...</td>\n",
       "    </tr>\n",
       "    <tr>\n",
       "      <th>0</th>\n",
       "      <td>retinol (vitamin a)</td>\n",
       "      <td>the deficiency causes night blindness or nycta...</td>\n",
       "    </tr>\n",
       "    <tr>\n",
       "      <th>1</th>\n",
       "      <td>calciferol (vitamin d)</td>\n",
       "      <td>it causes a disease known as rickets. the symp...</td>\n",
       "    </tr>\n",
       "    <tr>\n",
       "      <th>2</th>\n",
       "      <td>phylloquinone (vitamin k)</td>\n",
       "      <td>the deficiency of vitamin k leads to decreased...</td>\n",
       "    </tr>\n",
       "    <tr>\n",
       "      <th>3</th>\n",
       "      <td>tocopherol (vitamin e)</td>\n",
       "      <td>the major problems associated are muscle and n...</td>\n",
       "    </tr>\n",
       "    <tr>\n",
       "      <th>0</th>\n",
       "      <td>calcium</td>\n",
       "      <td>the deficiency of calcium leads to decreased c...</td>\n",
       "    </tr>\n",
       "    <tr>\n",
       "      <th>1</th>\n",
       "      <td>iron deficiency</td>\n",
       "      <td>iron deficiency in the body results in anaemia...</td>\n",
       "    </tr>\n",
       "    <tr>\n",
       "      <th>2</th>\n",
       "      <td>magnesium deficiency</td>\n",
       "      <td>magnesium deficiency is uncommon. however, in ...</td>\n",
       "    </tr>\n",
       "    <tr>\n",
       "      <th>3</th>\n",
       "      <td>potassium deficiency</td>\n",
       "      <td>the common cause of potassium deficiency is ex...</td>\n",
       "    </tr>\n",
       "    <tr>\n",
       "      <th>4</th>\n",
       "      <td>zinc</td>\n",
       "      <td>zinc deficiency causes loss of taste, smell, a...</td>\n",
       "    </tr>\n",
       "    <tr>\n",
       "      <th>5</th>\n",
       "      <td>iodine</td>\n",
       "      <td>the deficiency of this mineral can result in g...</td>\n",
       "    </tr>\n",
       "    <tr>\n",
       "      <th>6</th>\n",
       "      <td>sodium</td>\n",
       "      <td>sodium deficiency is also known as hyponatremi...</td>\n",
       "    </tr>\n",
       "    <tr>\n",
       "      <th>7</th>\n",
       "      <td>phosphorus</td>\n",
       "      <td>the deficiency of phosphorus leads to the form...</td>\n",
       "    </tr>\n",
       "    <tr>\n",
       "      <th>8</th>\n",
       "      <td>manganese</td>\n",
       "      <td>manganese is important for bone growth and car...</td>\n",
       "    </tr>\n",
       "  </tbody>\n",
       "</table>\n",
       "</div>"
      ],
      "text/plain": [
       "                       nutrients  \\\n",
       "0          thiamine (vitamin b1)   \n",
       "1        riboflavin (vitamin b2)   \n",
       "2            niacin (vitamin b3)   \n",
       "3  pantothenic acid (vitamin b5)   \n",
       "4                     vitamin b6   \n",
       "5            biotin (vitamin b7)   \n",
       "6            folate (vitamin b9)   \n",
       "7                    vitamin b12   \n",
       "8      ascorbic acid (vitamin c)   \n",
       "0            retinol (vitamin a)   \n",
       "1         calciferol (vitamin d)   \n",
       "2      phylloquinone (vitamin k)   \n",
       "3         tocopherol (vitamin e)   \n",
       "0                        calcium   \n",
       "1                iron deficiency   \n",
       "2           magnesium deficiency   \n",
       "3           potassium deficiency   \n",
       "4                           zinc   \n",
       "5                         iodine   \n",
       "6                         sodium   \n",
       "7                     phosphorus   \n",
       "8                      manganese   \n",
       "\n",
       "                                                info  \n",
       "0  severe deficiency causes beriberi with symptom...  \n",
       "1  the deficiency of this vitamin causes angular ...  \n",
       "2  causes pellagra which is a life-threatening di...  \n",
       "3  vitamin b5 deficiency is rare and the symptoms...  \n",
       "4  end-stage kidney diseases such as celiac disea...  \n",
       "5  the deficiency affects the growth of hair and ...  \n",
       "6  it is very common and the deficiency is associ...  \n",
       "7  deficiency of this disease leads to pernicious...  \n",
       "8  deficiency results in scurvy and the symptoms ...  \n",
       "0  the deficiency causes night blindness or nycta...  \n",
       "1  it causes a disease known as rickets. the symp...  \n",
       "2  the deficiency of vitamin k leads to decreased...  \n",
       "3  the major problems associated are muscle and n...  \n",
       "0  the deficiency of calcium leads to decreased c...  \n",
       "1  iron deficiency in the body results in anaemia...  \n",
       "2  magnesium deficiency is uncommon. however, in ...  \n",
       "3  the common cause of potassium deficiency is ex...  \n",
       "4  zinc deficiency causes loss of taste, smell, a...  \n",
       "5  the deficiency of this mineral can result in g...  \n",
       "6  sodium deficiency is also known as hyponatremi...  \n",
       "7  the deficiency of phosphorus leads to the form...  \n",
       "8  manganese is important for bone growth and car...  "
      ]
     },
     "execution_count": 188,
     "metadata": {},
     "output_type": "execute_result"
    }
   ],
   "source": [
    "df = ex.db_concat (info_1, info_2, info_3)\n",
    "df"
   ]
  },
  {
   "attachments": {},
   "cell_type": "markdown",
   "metadata": {},
   "source": [
    "df1"
   ]
  },
  {
   "cell_type": "code",
   "execution_count": 175,
   "metadata": {},
   "outputs": [
    {
     "ename": "ValueError",
     "evalue": "cannot reshape array of size 17 into shape (2)",
     "output_type": "error",
     "traceback": [
      "\u001b[1;31m---------------------------------------------------------------------------\u001b[0m",
      "\u001b[1;31mValueError\u001b[0m                                Traceback (most recent call last)",
      "\u001b[1;32md:\\ironhack\\proyectos\\PipeLine_proy2\\Analizing.ipynb Cell 94\u001b[0m in \u001b[0;36m<cell line: 1>\u001b[1;34m()\u001b[0m\n\u001b[1;32m----> <a href='vscode-notebook-cell:/d%3A/ironhack/proyectos/PipeLine_proy2/Analizing.ipynb#Y251sZmlsZQ%3D%3D?line=0'>1</a>\u001b[0m df1 \u001b[39m=\u001b[39m pd\u001b[39m.\u001b[39mDataFrame(df1[\u001b[39m0\u001b[39;49m]\u001b[39m.\u001b[39;49mvalues\u001b[39m.\u001b[39;49mreshape(\u001b[39m-\u001b[39;49m\u001b[39m1\u001b[39;49m, \u001b[39m2\u001b[39;49m), columns\u001b[39m=\u001b[39m[\u001b[39m'\u001b[39m\u001b[39mnutrientes\u001b[39m\u001b[39m'\u001b[39m, \u001b[39m'\u001b[39m\u001b[39minfo\u001b[39m\u001b[39m'\u001b[39m])\n\u001b[0;32m      <a href='vscode-notebook-cell:/d%3A/ironhack/proyectos/PipeLine_proy2/Analizing.ipynb#Y251sZmlsZQ%3D%3D?line=1'>2</a>\u001b[0m df1\n",
      "\u001b[1;31mValueError\u001b[0m: cannot reshape array of size 17 into shape (2)"
     ]
    }
   ],
   "source": [
    "df1 = pd.DataFrame(df1[0].values.reshape(-1, 2), columns=['nutrientes', 'info'])\n",
    "df1"
   ]
  },
  {
   "cell_type": "code",
   "execution_count": 126,
   "metadata": {},
   "outputs": [],
   "source": [
    "prueba = \"which results in a condition called osteopenia\""
   ]
  },
  {
   "cell_type": "code",
   "execution_count": 127,
   "metadata": {},
   "outputs": [
    {
     "name": "stdout",
     "output_type": "stream",
     "text": [
      "['osteopenia']\n"
     ]
    }
   ],
   "source": [
    "disease = [\"beriberi\",\"weight loss\", \"weakness\", \"angular cheilitis\", \"chapped\", \"anemia\", \"cracked lips\", \"pellagra\", \"diarrhoea\", \"dermatitis\", \"dementia\", \"fatigue\", \"apathy\", \"irritability\", \"celiac disease\", \"crohn\", \"skin health\", \"neural tube defects\", \"methylmalonic acidemia\", \"scurvy\", \"skin spots\", \"nyctalopia\", \"keratomalacia\", \"blindness\", \"rickets\", \"weakening of bones\", \"decreased coagulation of blood\", \"muscle weakness\", \"nerve weakness\", \"osteopenia\", \"nausea\", \"vomiting\", \"kidney disease\", \"loss of taste, smell\", \"goitre\", \"hyponatremia\", \"dehydration\", \"heart diseases\", \"muscle contractions\", \"hypertension\"]\n",
    "y = []\n",
    "for i in disease:\n",
    "    if i in prueba:\n",
    "        y.append(i)\n",
    "print(y)"
   ]
  },
  {
   "cell_type": "code",
   "execution_count": 122,
   "metadata": {},
   "outputs": [
    {
     "name": "stdout",
     "output_type": "stream",
     "text": [
      "['weakness', 'fatigue', 'osteopenia', 'nausea', 'vomiting', 'vomiting', 'kidney disease', 'loss of taste, smell', 'goitre', 'hyponatremia', 'dehydration', 'heart diseases', 'heart diseases', 'muscle contractions', 'hypertension', 'weakness', 'fatigue', 'osteopenia', 'nausea', 'vomiting', 'vomiting', 'kidney disease', 'loss of taste, smell', 'goitre', 'hyponatremia', 'dehydration', 'heart diseases', 'heart diseases', 'muscle contractions', 'hypertension', 'weakness', 'fatigue', 'osteopenia', 'nausea', 'vomiting', 'vomiting', 'kidney disease', 'loss of taste, smell', 'goitre', 'hyponatremia', 'dehydration', 'heart diseases', 'heart diseases', 'muscle contractions', 'hypertension', 'weakness', 'fatigue', 'osteopenia', 'nausea', 'vomiting', 'vomiting', 'kidney disease', 'loss of taste, smell', 'goitre', 'hyponatremia', 'dehydration', 'heart diseases', 'heart diseases', 'muscle contractions', 'hypertension']\n"
     ]
    }
   ],
   "source": [
    "for e in info_3:\n",
    "    for i in disease:\n",
    "        if e in i:\n",
    "            y.append(e)\n",
    "print(y)"
   ]
  },
  {
   "cell_type": "code",
   "execution_count": 14,
   "metadata": {},
   "outputs": [],
   "source": [
    "url = \"https://www.britannica.com/science/nutritional-disease/Carbohydrates\""
   ]
  },
  {
   "cell_type": "code",
   "execution_count": 15,
   "metadata": {},
   "outputs": [
    {
     "ename": "NameError",
     "evalue": "name 'get_name' is not defined",
     "output_type": "error",
     "traceback": [
      "\u001b[1;31m---------------------------------------------------------------------------\u001b[0m",
      "\u001b[1;31mNameError\u001b[0m                                 Traceback (most recent call last)",
      "\u001b[1;32md:\\ironhack\\proyectos\\PipeLine_proy2\\Analizing.ipynb Cell 83\u001b[0m in \u001b[0;36m<cell line: 1>\u001b[1;34m()\u001b[0m\n\u001b[1;32m----> <a href='vscode-notebook-cell:/d%3A/ironhack/proyectos/PipeLine_proy2/Analizing.ipynb#Y133sZmlsZQ%3D%3D?line=0'>1</a>\u001b[0m lst_1 \u001b[39m=\u001b[39m get_name (url)\n\u001b[0;32m      <a href='vscode-notebook-cell:/d%3A/ironhack/proyectos/PipeLine_proy2/Analizing.ipynb#Y133sZmlsZQ%3D%3D?line=1'>2</a>\u001b[0m lst_1\n",
      "\u001b[1;31mNameError\u001b[0m: name 'get_name' is not defined"
     ]
    }
   ],
   "source": [
    "lst_1 = get_name (url)\n",
    "lst_1"
   ]
  },
  {
   "attachments": {},
   "cell_type": "markdown",
   "metadata": {},
   "source": [
    "total leng of each url link, only 5 nutrients aprox."
   ]
  },
  {
   "cell_type": "code",
   "execution_count": 17,
   "metadata": {},
   "outputs": [
    {
     "data": {
      "text/plain": [
       "[<h2 class=\"h2\"><span id=\"ref848933\"></span><a class=\"md-crosslink\" href=\"https://www.britannica.com/science/essential-fatty-acid\">Essential fatty acids</a></h2>,\n",
       " <h2 class=\"h2\"><span id=\"ref414323\"></span><a class=\"md-crosslink\" href=\"https://www.britannica.com/science/vitamin-deficiency-disease\">Vitamins</a></h2>,\n",
       " <h2 class=\"h3\"><span id=\"ref848936\"></span><a class=\"md-crosslink\" data-show-preview=\"true\" href=\"https://www.britannica.com/science/vitamin-A\">Vitamin A</a></h2>,\n",
       " <h2 class=\"h3\"><span id=\"ref414337\"></span><a class=\"md-crosslink\" data-show-preview=\"true\" href=\"https://www.britannica.com/science/vitamin-D\">Vitamin D</a></h2>,\n",
       " <h2 class=\"h3\"><span id=\"ref414342\"></span><a class=\"md-crosslink\" data-show-preview=\"true\" href=\"https://www.britannica.com/science/vitamin-E\">Vitamin E</a></h2>]"
      ]
     },
     "execution_count": 17,
     "metadata": {},
     "output_type": "execute_result"
    }
   ],
   "source": [
    "\n",
    "#to get the names of the vitamin from each of the pages.\n",
    "html = requests.get(url)\n",
    "soup = BeautifulSoup(html.content,\"html.parser\")\n",
    "tags = soup.find_all(\"h2\")\n",
    "x = [i.getText() for i in tags]\n",
    "x\n",
    "    "
   ]
  },
  {
   "attachments": {},
   "cell_type": "markdown",
   "metadata": {},
   "source": [
    "finding the diseases of each nutrient"
   ]
  },
  {
   "cell_type": "code",
   "execution_count": 111,
   "metadata": {},
   "outputs": [
    {
     "data": {
      "text/plain": [
       "'There is also a minimum requirement for fat—not for total fat, but only for the fatty acids linoleic acid (a so-called omega-6 fatty acid) and alpha-linolenic acid (an omega-3 fatty acid). Deficiencies of these two fatty acids have been seen in hospitalized patients fed exclusively with intravenous fluids containing no fat for weeks, patients with medical conditions affecting fat absorption, infants given formulas low in fat, and young children fed nonfat milk or low-fat diets. Symptoms of deficiency include dry skin, hair loss, and impaired wound healing. Essential fatty acid requirements—a few grams a day—can be met by consuming approximately a tablespoon of polyunsaturated plant oils daily. Fatty fish also provides a rich source of omega-3 fatty acids. Even individuals following a low-fat diet generally consume sufficient fat to meet requirements.'"
      ]
     },
     "execution_count": 111,
     "metadata": {},
     "output_type": "execute_result"
    }
   ],
   "source": [
    "\n",
    "tags = soup.find_all(\"p\")\n",
    "# for i in tags ======\n",
    "tag_text = tags[1].getText()\n",
    "tag_text"
   ]
  },
  {
   "cell_type": "code",
   "execution_count": 130,
   "metadata": {},
   "outputs": [
    {
     "data": {
      "text/plain": [
       "6"
      ]
     },
     "execution_count": 130,
     "metadata": {},
     "output_type": "execute_result"
    }
   ],
   "source": [
    "# para preguntar, la formula para sacar las enfermedades\n",
    "tagsix=[]\n",
    "for i in tags:\n",
    "    tagsix.append(i.getText())\n",
    "len(tagsix)"
   ]
  },
  {
   "cell_type": "code",
   "execution_count": 174,
   "metadata": {},
   "outputs": [
    {
     "data": {
      "text/plain": [
       "6"
      ]
     },
     "execution_count": 174,
     "metadata": {},
     "output_type": "execute_result"
    }
   ],
   "source": [
    "\n",
    "x = []\n",
    "for e in tagsix:\n",
    "    e.replace(\",\", \"\").strip()\n",
    "    x.append(e)\n",
    "len(x)\n"
   ]
  },
  {
   "cell_type": "code",
   "execution_count": 139,
   "metadata": {},
   "outputs": [
    {
     "name": "stdout",
     "output_type": "stream",
     "text": [
      ".\n"
     ]
    }
   ],
   "source": [
    "disease = [\"dry skin\", \"hair loss\", \"impaired wound healing\"]\n",
    "# me quede en folic acid - dis_totales = [0, \"dry skin\", \"hair loss\", \"impaired wound healing\", 0, \"blindness\", \"hardening of epithelial cells\",-- \"rickets\", \"skeletal deformities\", \"osteomalacia\", \"osteoporosis\", --\"hemolysis\", \"muscle weakness\", \"visual disturbances\", -- \"liver disease\", \"internal bleeding\", \"beriberi\", \"loss of appetite\", \"confussion\", \"muscle weakness\", \"calf muscles\", \"heart failure\", -- \"cracks in the skin\", \"fissures of the lips\", -- \"diarrhea\", \"dermatitis\", \"dementia\", -- \"dermatitis\", \"anemia\", \"depression\", \"confusion\", \"convulsions\", -- #me quede en folic acid\"weakness\", ]\n",
    "y = []\n",
    "for i in x:\n",
    "    if i in disease:\n",
    "        y.append(e)\n",
    "print(e)"
   ]
  },
  {
   "cell_type": "code",
   "execution_count": 116,
   "metadata": {},
   "outputs": [
    {
     "ename": "AttributeError",
     "evalue": "'list' object has no attribute 'replace'",
     "output_type": "error",
     "traceback": [
      "\u001b[1;31m---------------------------------------------------------------------------\u001b[0m",
      "\u001b[1;31mAttributeError\u001b[0m                            Traceback (most recent call last)",
      "\u001b[1;32md:\\ironhack\\proyectos\\PipeLine_proy2\\Analizing.ipynb Cell 98\u001b[0m in \u001b[0;36m<cell line: 2>\u001b[1;34m()\u001b[0m\n\u001b[0;32m      <a href='vscode-notebook-cell:/d%3A/ironhack/proyectos/PipeLine_proy2/Analizing.ipynb#Y151sZmlsZQ%3D%3D?line=1'>2</a>\u001b[0m \u001b[39mfor\u001b[39;00m i \u001b[39min\u001b[39;00m tags:\n\u001b[0;32m      <a href='vscode-notebook-cell:/d%3A/ironhack/proyectos/PipeLine_proy2/Analizing.ipynb#Y151sZmlsZQ%3D%3D?line=2'>3</a>\u001b[0m     tagsix\u001b[39m.\u001b[39mappend(i\u001b[39m.\u001b[39mgetText())\n\u001b[1;32m----> <a href='vscode-notebook-cell:/d%3A/ironhack/proyectos/PipeLine_proy2/Analizing.ipynb#Y151sZmlsZQ%3D%3D?line=4'>5</a>\u001b[0m     tag_text \u001b[39m=\u001b[39m tagsix\u001b[39m.\u001b[39;49mreplace(\u001b[39m\"\u001b[39m\u001b[39m,\u001b[39m\u001b[39m\"\u001b[39m, \u001b[39m\"\u001b[39m\u001b[39m\"\u001b[39m)\u001b[39m.\u001b[39mstrip()\n",
      "\u001b[1;31mAttributeError\u001b[0m: 'list' object has no attribute 'replace'"
     ]
    }
   ],
   "source": [
    "tagsix=[]\n",
    "for i in tags:\n",
    "    tagsix.append(i.getText())\n",
    "\n",
    "    tag_text = tagsix.replace(\",\", \"\").strip()"
   ]
  },
  {
   "cell_type": "code",
   "execution_count": 115,
   "metadata": {},
   "outputs": [
    {
     "ename": "NameError",
     "evalue": "name 'tag_text' is not defined",
     "output_type": "error",
     "traceback": [
      "\u001b[1;31m---------------------------------------------------------------------------\u001b[0m",
      "\u001b[1;31mNameError\u001b[0m                                 Traceback (most recent call last)",
      "\u001b[1;32md:\\ironhack\\proyectos\\PipeLine_proy2\\Analizing.ipynb Cell 99\u001b[0m in \u001b[0;36m<cell line: 1>\u001b[1;34m()\u001b[0m\n\u001b[1;32m----> <a href='vscode-notebook-cell:/d%3A/ironhack/proyectos/PipeLine_proy2/Analizing.ipynb#Y201sZmlsZQ%3D%3D?line=0'>1</a>\u001b[0m \u001b[39mtype\u001b[39m(tag_text)\n",
      "\u001b[1;31mNameError\u001b[0m: name 'tag_text' is not defined"
     ]
    }
   ],
   "source": [
    "type(tag_text)"
   ]
  },
  {
   "cell_type": "code",
   "execution_count": 87,
   "metadata": {},
   "outputs": [
    {
     "name": "stdout",
     "output_type": "stream",
     "text": [
      "['dry skin', 'hair loss', 'impaired wound healing']\n"
     ]
    }
   ],
   "source": [
    "disease = [\"dry skin\", \"hair loss\", \"impaired wound healing\"]\n",
    "x = []\n",
    "for i in disease:\n",
    "    if i in tag_text:\n",
    "        x.append(i)\n",
    "print(x)"
   ]
  },
  {
   "cell_type": "code",
   "execution_count": 170,
   "metadata": {},
   "outputs": [
    {
     "name": "stdout",
     "output_type": "stream",
     "text": [
      "Under most circumstances there is no absolute dietary requirement for carbohydrates—simple sugars complex carbohydrates such as starches and the indigestible plant carbohydrates known as dietary fibre. Certain cells such as brain cells require the simple carbohydrate glucose as fuel. If dietary carbohydrate is insufficient glucose synthesis depends on the breakdown of amino acids derived from body protein and dietary protein and the compound glycerol which is derived from fat. Long-term carbohydrate inadequacy results in increased production of organic compounds called ketones (a condition known as ketosis) which imparts a distinctive sweet odour to the breath. Ketosis and other untoward effects of a very-low-carbohydrate diet can be prevented by the daily consumption of 50 to 100 grams of carbohydrate; however obtaining at least half of the daily energy intake from carbohydrates is recommended and is typical of human diets corresponding to at least 250 grams of carbohydrate (1000 calories in a 2000-calorie diet). A varied diet containing fruits vegetables legumes and whole-grain cereals which are all abundant in carbohydrates also provides a desirable intake of dietary fibre.\n",
      "There is also a minimum requirement for fat—not for total fat but only for the fatty acids linoleic acid (a so-called omega-6 fatty acid) and alpha-linolenic acid (an omega-3 fatty acid). Deficiencies of these two fatty acids have been seen in hospitalized patients fed exclusively with intravenous fluids containing no fat for weeks patients with medical conditions affecting fat absorption infants given formulas low in fat and young children fed nonfat milk or low-fat diets. Symptoms of deficiency include dry skin hair loss and impaired wound healing. Essential fatty acid requirements—a few grams a day—can be met by consuming approximately a tablespoon of polyunsaturated plant oils daily. Fatty fish also provides a rich source of omega-3 fatty acids. Even individuals following a low-fat diet generally consume sufficient fat to meet requirements.\n",
      "Although deficiency diseases have been described in laboratory animals and humans deprived of single vitamins in human experience multiple deficiencies are usually present simultaneously. The eight B-complex vitamins function in coordination in numerous enzyme systems and metabolic pathways; thus a deficiency of one may affect the functioning of others.\n",
      "Vitamin A deficiency is the leading cause of preventable blindness in children and is a major problem in the developing world especially in Africa and Southeast Asia; in the poorest countries hundreds of thousands of children become blind each year due to a deficiency of the vitamin. Even a mild deficiency can impair immune function thereby reducing resistance to disease. Night blindness is an early sign of vitamin A deficiency followed by abnormal dryness of the eye and ultimately scarring of the cornea a condition known as xerophthalmia. Other symptoms include dry skin hardening of epithelial cells elsewhere in the body (such as mucous membranes) and impaired growth and development. In many areas where vitamin A deficiency is endemic the incidence is being reduced by giving children a single large dose of vitamin A every six months. A genetically modified form of rice containing beta-carotene a precursor of vitamin A has the potential to reduce greatly the incidence of vitamin A deficiency but the use of this so-called golden rice is controversial.\n",
      "Vitamin D (also known as vitamin D hormone) is synthesized in the body in a series of steps starting in the skin by the action of sunlight’s ultraviolet rays on a precursor compound; thus without adequate food sources of vitamin D a deficiency of the vitamin can occur when exposure to sunlight is limited. Lack of vitamin D in children causes rickets a disease characterized by inadequate mineralization of bone growth retardation and skeletal deformities such as bowed legs. The adult form of rickets known as osteomalacia results in weak muscles as well as weak bones. Inadequate vitamin D may also contribute to the thinning of bones seen in osteoporosis. Individuals with limited sun exposure (including women who completely cover their bodies for religious reasons) elderly or homebound persons and those with dark skin particularly those who live in northern latitudes are at risk of vitamin D deficiency. Vitamin D is found in very few foods naturally; thus fortification of milk and other foods (e.g. margarine cereals and breads) with the vitamin has helped protect those populations in which sun exposure is inadequate. Supplemental vitamin D also may help protect against bone fractures in the elderly who make and activate vitamin D less efficiently even if exposed to sunlight.\n",
      "Vitamin Edeficiency is rare in humans although it may develop in premature infants and in people with impaired fat absorption or metabolism. In the former fragility of red blood cells (hemolysis) is seen; in the latter where deficiency is more prolonged neuromuscular dysfunction involving the spinal cord and retina may result in loss of reflexes impaired balance and coordination muscle weakness and visual disturbances. No specific metabolic function has been established for vitamin E; however it is an important part of the antioxidant system that inhibits lipid peroxidation—i.e. it protects cells and their membranes against the damaging effects of free radicals (reactive oxygen and nitrogen species) that are produced metabolically or enter the body from the environment. The requirement for vitamin E is increased with increasing consumption of polyunsaturated fatty acids. People who smoke or are subjected to air pollution may also need more of the vitamin to protect against oxidative damage to the lungs.\n"
     ]
    }
   ],
   "source": [
    "y = []\n",
    "x = []\n",
    "tags2 = soup.find_all(\"p\")\n",
    "disease = [\"dry skin\", \"hair loss\", \"impaired wound healing\"]\n",
    "for i in tags2:\n",
    "    i = i.getText()\n",
    "    x.append(i.replace(\",\", \"\").strip())\n",
    "\n",
    "for e in x:\n",
    "    print(e)\n",
    "    if e in disease:\n",
    "        y.append(e)\n",
    "    print(y)"
   ]
  },
  {
   "cell_type": "code",
   "execution_count": 168,
   "metadata": {},
   "outputs": [
    {
     "name": "stdout",
     "output_type": "stream",
     "text": [
      "[]\n"
     ]
    }
   ],
   "source": [
    "print(y)"
   ]
  },
  {
   "cell_type": "code",
   "execution_count": 148,
   "metadata": {},
   "outputs": [
    {
     "name": "stdout",
     "output_type": "stream",
     "text": [
      "[]\n",
      "['dry skin', 'hair loss', 'impaired wound healing']\n",
      "['dry skin', 'hair loss', 'impaired wound healing']\n",
      "['dry skin', 'hair loss', 'impaired wound healing', 'dry skin']\n",
      "['dry skin', 'hair loss', 'impaired wound healing', 'dry skin']\n",
      "['dry skin', 'hair loss', 'impaired wound healing', 'dry skin']\n"
     ]
    }
   ],
   "source": [
    "x = []\n",
    "tags2 = soup.find_all(\"p\")\n",
    "disease = [\"dry skin\", \"hair loss\", \"impaired wound healing\"]\n",
    "for i in tags2:\n",
    "    tag_text = i.getText()\n",
    "    tag_text = tag_text.replace(\",\", \"\").strip()\n",
    "\n",
    "    for e in disease:\n",
    "        if e in tag_text:\n",
    "            x.append(e)\n",
    "    print(x)"
   ]
  },
  {
   "attachments": {},
   "cell_type": "markdown",
   "metadata": {},
   "source": [
    "need to be carfull to match the exact text with their name."
   ]
  },
  {
   "cell_type": "code",
   "execution_count": 57,
   "metadata": {},
   "outputs": [],
   "source": [
    "url2 = \"https://www.britannica.com/science/nutritional-disease/Vitamin-K\""
   ]
  },
  {
   "cell_type": "code",
   "execution_count": 61,
   "metadata": {},
   "outputs": [
    {
     "data": {
      "text/plain": [
       "['Thiamin', 'Riboflavin', 'Niacin', 'Vitamin B6', 'Folic acid']"
      ]
     },
     "execution_count": 61,
     "metadata": {},
     "output_type": "execute_result"
    }
   ],
   "source": [
    "get_name (url2)"
   ]
  },
  {
   "cell_type": "code",
   "execution_count": 177,
   "metadata": {},
   "outputs": [],
   "source": [
    "url3 = \"https://www.britannica.com/science/nutritional-disease/Vitamin-B12\""
   ]
  },
  {
   "cell_type": "code",
   "execution_count": 178,
   "metadata": {},
   "outputs": [
    {
     "data": {
      "text/plain": [
       "['Pantothenic acid', 'Biotin', 'Vitamin C', 'Minerals', 'Iron']"
      ]
     },
     "execution_count": 178,
     "metadata": {},
     "output_type": "execute_result"
    }
   ],
   "source": [
    "get_name (url3)"
   ]
  },
  {
   "cell_type": "code",
   "execution_count": 179,
   "metadata": {},
   "outputs": [],
   "source": [
    "url4 = \"https://www.britannica.com/science/nutritional-disease/Iodine\""
   ]
  },
  {
   "cell_type": "code",
   "execution_count": 180,
   "metadata": {},
   "outputs": [
    {
     "data": {
      "text/plain": [
       "['Zinc', 'Calcium', 'Fluoride', 'Sodium', 'Potassium']"
      ]
     },
     "execution_count": 180,
     "metadata": {},
     "output_type": "execute_result"
    }
   ],
   "source": [
    "get_name (url4)"
   ]
  },
  {
   "attachments": {},
   "cell_type": "markdown",
   "metadata": {},
   "source": [
    "### importar csv de alimentacion"
   ]
  },
  {
   "cell_type": "markdown",
   "metadata": {},
   "source": []
  }
 ],
 "metadata": {
  "kernelspec": {
   "display_name": "ironhack",
   "language": "python",
   "name": "python3"
  },
  "language_info": {
   "codemirror_mode": {
    "name": "ipython",
    "version": 3
   },
   "file_extension": ".py",
   "mimetype": "text/x-python",
   "name": "python",
   "nbconvert_exporter": "python",
   "pygments_lexer": "ipython3",
   "version": "3.10.4"
  },
  "orig_nbformat": 4,
  "vscode": {
   "interpreter": {
    "hash": "91a84e6b8351ad3ec71ce9fb2308d8cc98e807eebbcac368689e5c7e13990fb4"
   }
  }
 },
 "nbformat": 4,
 "nbformat_minor": 2
}
