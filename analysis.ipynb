{
 "cells": [
  {
   "attachments": {},
   "cell_type": "markdown",
   "metadata": {},
   "source": [
    "# Analysis."
   ]
  },
  {
   "cell_type": "code",
   "execution_count": 1345,
   "metadata": {},
   "outputs": [
    {
     "data": {
      "text/plain": [
       "<module 'src.extraction' from 'd:\\\\ironhack\\\\proyectos\\\\PipeLine_proy2\\\\src\\\\extraction.py'>"
      ]
     },
     "execution_count": 1345,
     "metadata": {},
     "output_type": "execute_result"
    }
   ],
   "source": [
    "import pandas as pd\n",
    "from pandas import json_normalize\n",
    "import numpy as np\n",
    "\n",
    "import requests \n",
    "import json\n",
    "import os\n",
    "from dotenv import load_dotenv #conda install -c conda-forge python-dotenv\n",
    "\n",
    "import time\n",
    "import importlib\n",
    "import src.extraction as ex\n",
    "importlib.reload(ex)"
   ]
  },
  {
   "attachments": {},
   "cell_type": "markdown",
   "metadata": {},
   "source": [
    "## 1. USDA food database.\n",
    "### 1.1. Exploration."
   ]
  },
  {
   "attachments": {},
   "cell_type": "markdown",
   "metadata": {},
   "source": [
    "Did a research of all the USDA csv files and select only the more relevant for this proyect, they have a lot of information about comples dishes, lab tests, market prices, etc. 1. Searching for the right tables with value information for the proyect. 2. Cleaning each table, droping the columns and probably some rows with no need it information. ----try to merge it in python by changing the name of tha columns to the same in each. exported as csv 3. Merge the tables -- prbably on SQL exported again in csv and put it back on python."
   ]
  },
  {
   "attachments": {},
   "cell_type": "markdown",
   "metadata": {},
   "source": [
    "#### 1.1.1. \"Food csv\".\n",
    "Data frame of food, it has its id number and name of food."
   ]
  },
  {
   "cell_type": "code",
   "execution_count": 1346,
   "metadata": {},
   "outputs": [],
   "source": [
    "url = \"D:\\ironhack\\proyectos\\PipeLine_proy2\\\\USDA_main_csv\\\\food.csv\""
   ]
  },
  {
   "cell_type": "code",
   "execution_count": 1347,
   "metadata": {},
   "outputs": [
    {
     "data": {
      "text/html": [
       "<div>\n",
       "<style scoped>\n",
       "    .dataframe tbody tr th:only-of-type {\n",
       "        vertical-align: middle;\n",
       "    }\n",
       "\n",
       "    .dataframe tbody tr th {\n",
       "        vertical-align: top;\n",
       "    }\n",
       "\n",
       "    .dataframe thead th {\n",
       "        text-align: right;\n",
       "    }\n",
       "</style>\n",
       "<table border=\"1\" class=\"dataframe\">\n",
       "  <thead>\n",
       "    <tr style=\"text-align: right;\">\n",
       "      <th></th>\n",
       "      <th>fdc_id</th>\n",
       "      <th>data_type</th>\n",
       "      <th>description</th>\n",
       "      <th>food_category_id</th>\n",
       "      <th>publication_date</th>\n",
       "    </tr>\n",
       "  </thead>\n",
       "  <tbody>\n",
       "    <tr>\n",
       "      <th>615728</th>\n",
       "      <td>1188027</td>\n",
       "      <td>branded_food</td>\n",
       "      <td>BEEF TERIYAKI STIR-FRY TENDER BEEF WITH BROCCO...</td>\n",
       "      <td>NaN</td>\n",
       "      <td>2021-02-26</td>\n",
       "    </tr>\n",
       "  </tbody>\n",
       "</table>\n",
       "</div>"
      ],
      "text/plain": [
       "         fdc_id     data_type  \\\n",
       "615728  1188027  branded_food   \n",
       "\n",
       "                                              description  food_category_id  \\\n",
       "615728  BEEF TERIYAKI STIR-FRY TENDER BEEF WITH BROCCO...               NaN   \n",
       "\n",
       "       publication_date  \n",
       "615728       2021-02-26  "
      ]
     },
     "execution_count": 1347,
     "metadata": {},
     "output_type": "execute_result"
    }
   ],
   "source": [
    "food = ex.import_csv (url)\n",
    "food.sample()"
   ]
  },
  {
   "cell_type": "code",
   "execution_count": 1348,
   "metadata": {},
   "outputs": [
    {
     "data": {
      "text/plain": [
       "(1185090, 5)"
      ]
     },
     "execution_count": 1348,
     "metadata": {},
     "output_type": "execute_result"
    }
   ],
   "source": [
    "food.shape"
   ]
  },
  {
   "attachments": {},
   "cell_type": "markdown",
   "metadata": {},
   "source": [
    "##### 1.1.1.1. Deleting.\n",
    "Will remove the \"food_category_id\", \"data_type\" and the \"publication_date\" column and try to remove the index column, it appears that it does not do much, it doest have a column name for identification"
   ]
  },
  {
   "cell_type": "code",
   "execution_count": 1349,
   "metadata": {},
   "outputs": [
    {
     "data": {
      "text/html": [
       "<div>\n",
       "<style scoped>\n",
       "    .dataframe tbody tr th:only-of-type {\n",
       "        vertical-align: middle;\n",
       "    }\n",
       "\n",
       "    .dataframe tbody tr th {\n",
       "        vertical-align: top;\n",
       "    }\n",
       "\n",
       "    .dataframe thead th {\n",
       "        text-align: right;\n",
       "    }\n",
       "</style>\n",
       "<table border=\"1\" class=\"dataframe\">\n",
       "  <thead>\n",
       "    <tr style=\"text-align: right;\">\n",
       "      <th></th>\n",
       "      <th>fdc_id</th>\n",
       "      <th>description</th>\n",
       "    </tr>\n",
       "  </thead>\n",
       "  <tbody>\n",
       "    <tr>\n",
       "      <th>0</th>\n",
       "      <td>1105904</td>\n",
       "      <td>WESSON Vegetable Oil 1 GAL</td>\n",
       "    </tr>\n",
       "    <tr>\n",
       "      <th>1</th>\n",
       "      <td>1105905</td>\n",
       "      <td>SWANSON BROTH BEEF</td>\n",
       "    </tr>\n",
       "    <tr>\n",
       "      <th>2</th>\n",
       "      <td>1105906</td>\n",
       "      <td>CAMPBELL'S SLOW KETTLE SOUP CLAM CHOWDER</td>\n",
       "    </tr>\n",
       "    <tr>\n",
       "      <th>3</th>\n",
       "      <td>1105907</td>\n",
       "      <td>CAMPBELL'S SLOW KETTLE SOUP CHEESE BROCCOLI</td>\n",
       "    </tr>\n",
       "    <tr>\n",
       "      <th>4</th>\n",
       "      <td>1105898</td>\n",
       "      <td>Discrepancy between the Atwater factor predict...</td>\n",
       "    </tr>\n",
       "    <tr>\n",
       "      <th>...</th>\n",
       "      <td>...</td>\n",
       "      <td>...</td>\n",
       "    </tr>\n",
       "    <tr>\n",
       "      <th>1185077</th>\n",
       "      <td>1757377</td>\n",
       "      <td>MUSHROOMS, SHIITAKE</td>\n",
       "    </tr>\n",
       "    <tr>\n",
       "      <th>1185078</th>\n",
       "      <td>1757378</td>\n",
       "      <td>MUSHROOMS, SHIITAKE</td>\n",
       "    </tr>\n",
       "    <tr>\n",
       "      <th>1185079</th>\n",
       "      <td>1757379</td>\n",
       "      <td>MUSHROOMS, SHIITAKE</td>\n",
       "    </tr>\n",
       "    <tr>\n",
       "      <th>1185080</th>\n",
       "      <td>1757380</td>\n",
       "      <td>MUSHROOMS, SHIITAKE</td>\n",
       "    </tr>\n",
       "    <tr>\n",
       "      <th>1185081</th>\n",
       "      <td>1757381</td>\n",
       "      <td>MUSHROOMS, SHIITAKE</td>\n",
       "    </tr>\n",
       "  </tbody>\n",
       "</table>\n",
       "<p>1185081 rows × 2 columns</p>\n",
       "</div>"
      ],
      "text/plain": [
       "          fdc_id                                        description\n",
       "0        1105904                         WESSON Vegetable Oil 1 GAL\n",
       "1        1105905                                 SWANSON BROTH BEEF\n",
       "2        1105906           CAMPBELL'S SLOW KETTLE SOUP CLAM CHOWDER\n",
       "3        1105907        CAMPBELL'S SLOW KETTLE SOUP CHEESE BROCCOLI\n",
       "4        1105898  Discrepancy between the Atwater factor predict...\n",
       "...          ...                                                ...\n",
       "1185077  1757377                                MUSHROOMS, SHIITAKE\n",
       "1185078  1757378                                MUSHROOMS, SHIITAKE\n",
       "1185079  1757379                                MUSHROOMS, SHIITAKE\n",
       "1185080  1757380                                MUSHROOMS, SHIITAKE\n",
       "1185081  1757381                                MUSHROOMS, SHIITAKE\n",
       "\n",
       "[1185081 rows x 2 columns]"
      ]
     },
     "execution_count": 1349,
     "metadata": {},
     "output_type": "execute_result"
    }
   ],
   "source": [
    "food = ex.delete_food (food)\n",
    "food"
   ]
  },
  {
   "cell_type": "code",
   "execution_count": 1350,
   "metadata": {},
   "outputs": [
    {
     "data": {
      "text/plain": [
       "0"
      ]
     },
     "execution_count": 1350,
     "metadata": {},
     "output_type": "execute_result"
    }
   ],
   "source": [
    "food.duplicated().sum()"
   ]
  },
  {
   "attachments": {},
   "cell_type": "markdown",
   "metadata": {},
   "source": [
    "#### 1.1.2. \"Nutrients Table\".\n",
    "In this table can relate the data of nutrients and in wich food they are. they specifie the mount of the nutrient per 100g of food. Specified in unit defined in the nutrient table."
   ]
  },
  {
   "cell_type": "code",
   "execution_count": 1351,
   "metadata": {},
   "outputs": [
    {
     "data": {
      "text/html": [
       "<div>\n",
       "<style scoped>\n",
       "    .dataframe tbody tr th:only-of-type {\n",
       "        vertical-align: middle;\n",
       "    }\n",
       "\n",
       "    .dataframe tbody tr th {\n",
       "        vertical-align: top;\n",
       "    }\n",
       "\n",
       "    .dataframe thead th {\n",
       "        text-align: right;\n",
       "    }\n",
       "</style>\n",
       "<table border=\"1\" class=\"dataframe\">\n",
       "  <thead>\n",
       "    <tr style=\"text-align: right;\">\n",
       "      <th></th>\n",
       "      <th>id</th>\n",
       "      <th>name</th>\n",
       "      <th>unit_name</th>\n",
       "      <th>nutrient_nbr</th>\n",
       "      <th>rank</th>\n",
       "    </tr>\n",
       "  </thead>\n",
       "  <tbody>\n",
       "    <tr>\n",
       "      <th>183</th>\n",
       "      <td>1186</td>\n",
       "      <td>Folic acid</td>\n",
       "      <td>UG</td>\n",
       "      <td>431.0</td>\n",
       "      <td>7000.0</td>\n",
       "    </tr>\n",
       "  </tbody>\n",
       "</table>\n",
       "</div>"
      ],
      "text/plain": [
       "       id        name unit_name  nutrient_nbr    rank\n",
       "183  1186  Folic acid        UG         431.0  7000.0"
      ]
     },
     "execution_count": 1351,
     "metadata": {},
     "output_type": "execute_result"
    }
   ],
   "source": [
    "url2 = \"D:\\ironhack\\proyectos\\PipeLine_proy2\\\\USDA_main_csv\\\\nutrient.csv\"\n",
    "nutrient = ex.import_csv(url2)\n",
    "nutrient.sample()"
   ]
  },
  {
   "cell_type": "code",
   "execution_count": 1352,
   "metadata": {},
   "outputs": [
    {
     "data": {
      "text/plain": [
       "(463, 5)"
      ]
     },
     "execution_count": 1352,
     "metadata": {},
     "output_type": "execute_result"
    }
   ],
   "source": [
    "nutrient.shape"
   ]
  },
  {
   "attachments": {},
   "cell_type": "markdown",
   "metadata": {},
   "source": [
    "##### 1.1.2.1. Deleting.\n",
    "will delete must of the columns, except name and id, but will create a copy so i dont lose the information, could help me in the future."
   ]
  },
  {
   "cell_type": "code",
   "execution_count": 1353,
   "metadata": {},
   "outputs": [
    {
     "data": {
      "text/html": [
       "<div>\n",
       "<style scoped>\n",
       "    .dataframe tbody tr th:only-of-type {\n",
       "        vertical-align: middle;\n",
       "    }\n",
       "\n",
       "    .dataframe tbody tr th {\n",
       "        vertical-align: top;\n",
       "    }\n",
       "\n",
       "    .dataframe thead th {\n",
       "        text-align: right;\n",
       "    }\n",
       "</style>\n",
       "<table border=\"1\" class=\"dataframe\">\n",
       "  <thead>\n",
       "    <tr style=\"text-align: right;\">\n",
       "      <th></th>\n",
       "      <th>id</th>\n",
       "      <th>name</th>\n",
       "    </tr>\n",
       "  </thead>\n",
       "  <tbody>\n",
       "    <tr>\n",
       "      <th>83</th>\n",
       "      <td>1085</td>\n",
       "      <td>Total fat (NLEA)</td>\n",
       "    </tr>\n",
       "  </tbody>\n",
       "</table>\n",
       "</div>"
      ],
      "text/plain": [
       "      id              name\n",
       "83  1085  Total fat (NLEA)"
      ]
     },
     "execution_count": 1353,
     "metadata": {},
     "output_type": "execute_result"
    }
   ],
   "source": [
    "nutrient = ex.delete_nutrient (nutrient)\n",
    "nutrient.sample()"
   ]
  },
  {
   "attachments": {},
   "cell_type": "markdown",
   "metadata": {},
   "source": [
    "#### 1.1.3. \"Food_id Nutrient_id\"\n",
    "This table doesn´t appear in the information docs, but it loocks really helfull allready matching the nutrient with the food and the portion per 100g. Wont delete any column, but will start to change names of each Data Frame to matched them later. "
   ]
  },
  {
   "cell_type": "code",
   "execution_count": 1354,
   "metadata": {},
   "outputs": [
    {
     "data": {
      "text/html": [
       "<div>\n",
       "<style scoped>\n",
       "    .dataframe tbody tr th:only-of-type {\n",
       "        vertical-align: middle;\n",
       "    }\n",
       "\n",
       "    .dataframe tbody tr th {\n",
       "        vertical-align: top;\n",
       "    }\n",
       "\n",
       "    .dataframe thead th {\n",
       "        text-align: right;\n",
       "    }\n",
       "</style>\n",
       "<table border=\"1\" class=\"dataframe\">\n",
       "  <thead>\n",
       "    <tr style=\"text-align: right;\">\n",
       "      <th></th>\n",
       "      <th>FoodId</th>\n",
       "      <th>NutrientId</th>\n",
       "      <th>Per100g</th>\n",
       "    </tr>\n",
       "  </thead>\n",
       "  <tbody>\n",
       "    <tr>\n",
       "      <th>11881851</th>\n",
       "      <td>1546901</td>\n",
       "      <td>606</td>\n",
       "      <td>9.46</td>\n",
       "    </tr>\n",
       "  </tbody>\n",
       "</table>\n",
       "</div>"
      ],
      "text/plain": [
       "           FoodId  NutrientId  Per100g \n",
       "11881851  1546901         606      9.46"
      ]
     },
     "execution_count": 1354,
     "metadata": {},
     "output_type": "execute_result"
    }
   ],
   "source": [
    "url3 = \"D:\\ironhack\\proyectos\\PipeLine_proy2\\\\USDA_main_csv\\\\JCS_FoodId-NutrientId-Per100g.csv\"\n",
    "ides = ex.import_csv (url3)\n",
    "ides.sample()"
   ]
  },
  {
   "attachments": {},
   "cell_type": "markdown",
   "metadata": {},
   "source": [
    "### 1.2. Merging.\n",
    "Will merge all data frames into one, will chose the right tables for it and clean it more.\n",
    "\n",
    "Looking for same elements in different tables at the ID rows, will change the names to matched them."
   ]
  },
  {
   "attachments": {},
   "cell_type": "markdown",
   "metadata": {},
   "source": [
    "#### 1.2.1. Rename."
   ]
  },
  {
   "cell_type": "code",
   "execution_count": 1355,
   "metadata": {},
   "outputs": [
    {
     "data": {
      "text/html": [
       "<div>\n",
       "<style scoped>\n",
       "    .dataframe tbody tr th:only-of-type {\n",
       "        vertical-align: middle;\n",
       "    }\n",
       "\n",
       "    .dataframe tbody tr th {\n",
       "        vertical-align: top;\n",
       "    }\n",
       "\n",
       "    .dataframe thead th {\n",
       "        text-align: right;\n",
       "    }\n",
       "</style>\n",
       "<table border=\"1\" class=\"dataframe\">\n",
       "  <thead>\n",
       "    <tr style=\"text-align: right;\">\n",
       "      <th></th>\n",
       "      <th>food_id</th>\n",
       "      <th>food</th>\n",
       "    </tr>\n",
       "  </thead>\n",
       "  <tbody>\n",
       "    <tr>\n",
       "      <th>500913</th>\n",
       "      <td>981133</td>\n",
       "      <td>NATURAL PEANUT BUTTER WITH HONEY, CREAMY</td>\n",
       "    </tr>\n",
       "  </tbody>\n",
       "</table>\n",
       "</div>"
      ],
      "text/plain": [
       "        food_id                                      food\n",
       "500913   981133  NATURAL PEANUT BUTTER WITH HONEY, CREAMY"
      ]
     },
     "execution_count": 1355,
     "metadata": {},
     "output_type": "execute_result"
    }
   ],
   "source": [
    "# change decription to food\n",
    "# change fdc_id to food_id\n",
    "food.rename(columns= {\"fdc_id\" : \"food_id\", \"description\" : \"food\"}, inplace=True)\n",
    "food.sample()"
   ]
  },
  {
   "cell_type": "code",
   "execution_count": 1356,
   "metadata": {},
   "outputs": [
    {
     "data": {
      "text/html": [
       "<div>\n",
       "<style scoped>\n",
       "    .dataframe tbody tr th:only-of-type {\n",
       "        vertical-align: middle;\n",
       "    }\n",
       "\n",
       "    .dataframe tbody tr th {\n",
       "        vertical-align: top;\n",
       "    }\n",
       "\n",
       "    .dataframe thead th {\n",
       "        text-align: right;\n",
       "    }\n",
       "</style>\n",
       "<table border=\"1\" class=\"dataframe\">\n",
       "  <thead>\n",
       "    <tr style=\"text-align: right;\">\n",
       "      <th></th>\n",
       "      <th>food_id</th>\n",
       "      <th>nutrient_id</th>\n",
       "      <th>Per100g</th>\n",
       "    </tr>\n",
       "  </thead>\n",
       "  <tbody>\n",
       "    <tr>\n",
       "      <th>13813336</th>\n",
       "      <td>1621497</td>\n",
       "      <td>303</td>\n",
       "      <td>1.2</td>\n",
       "    </tr>\n",
       "  </tbody>\n",
       "</table>\n",
       "</div>"
      ],
      "text/plain": [
       "          food_id  nutrient_id  Per100g\n",
       "13813336  1621497          303      1.2"
      ]
     },
     "execution_count": 1356,
     "metadata": {},
     "output_type": "execute_result"
    }
   ],
   "source": [
    "#change NutrientId to nutrient_id\n",
    "#change foodId to food_id\n",
    "ides.rename(columns= {\"FoodId\" : \"food_id\", \"NutrientId\" : \"nutrient_id\", 'Per100g ' : \"Per100g\"}, inplace=True)\n",
    "ides.sample()"
   ]
  },
  {
   "cell_type": "code",
   "execution_count": 1357,
   "metadata": {},
   "outputs": [
    {
     "data": {
      "text/html": [
       "<div>\n",
       "<style scoped>\n",
       "    .dataframe tbody tr th:only-of-type {\n",
       "        vertical-align: middle;\n",
       "    }\n",
       "\n",
       "    .dataframe tbody tr th {\n",
       "        vertical-align: top;\n",
       "    }\n",
       "\n",
       "    .dataframe thead th {\n",
       "        text-align: right;\n",
       "    }\n",
       "</style>\n",
       "<table border=\"1\" class=\"dataframe\">\n",
       "  <thead>\n",
       "    <tr style=\"text-align: right;\">\n",
       "      <th></th>\n",
       "      <th>nutrient_id</th>\n",
       "      <th>nutrient</th>\n",
       "    </tr>\n",
       "  </thead>\n",
       "  <tbody>\n",
       "    <tr>\n",
       "      <th>403</th>\n",
       "      <td>1407</td>\n",
       "      <td>PUFA 2:4 n-3</td>\n",
       "    </tr>\n",
       "  </tbody>\n",
       "</table>\n",
       "</div>"
      ],
      "text/plain": [
       "     nutrient_id      nutrient\n",
       "403         1407  PUFA 2:4 n-3"
      ]
     },
     "execution_count": 1357,
     "metadata": {},
     "output_type": "execute_result"
    }
   ],
   "source": [
    "# change id to nutrient_id\n",
    "# change name to nutrient\n",
    "nutrient.rename(columns= {\"name\" : \"nutrient\", \"id\" : \"nutrient_id\"}, inplace=True)\n",
    "nutrient.sample()"
   ]
  },
  {
   "attachments": {},
   "cell_type": "markdown",
   "metadata": {},
   "source": [
    "#### 1.2.2. Merge.\n",
    "Will do a inner merge, now with the same column name. also cleaned some other columns by doing drop, the id columns."
   ]
  },
  {
   "cell_type": "code",
   "execution_count": 1358,
   "metadata": {},
   "outputs": [
    {
     "name": "stderr",
     "output_type": "stream",
     "text": [
      "d:\\ironhack\\proyectos\\PipeLine_proy2\\src\\extraction.py:37: SettingWithCopyWarning: \n",
      "A value is trying to be set on a copy of a slice from a DataFrame\n",
      "\n",
      "See the caveats in the documentation: https://pandas.pydata.org/pandas-docs/stable/user_guide/indexing.html#returning-a-view-versus-a-copy\n",
      "  usda.drop(columns = [\"food_id\", \"nutrient_id\"], inplace= True, axis=1)\n"
     ]
    },
    {
     "data": {
      "text/html": [
       "<div>\n",
       "<style scoped>\n",
       "    .dataframe tbody tr th:only-of-type {\n",
       "        vertical-align: middle;\n",
       "    }\n",
       "\n",
       "    .dataframe tbody tr th {\n",
       "        vertical-align: top;\n",
       "    }\n",
       "\n",
       "    .dataframe thead th {\n",
       "        text-align: right;\n",
       "    }\n",
       "</style>\n",
       "<table border=\"1\" class=\"dataframe\">\n",
       "  <thead>\n",
       "    <tr style=\"text-align: right;\">\n",
       "      <th></th>\n",
       "      <th>food</th>\n",
       "      <th>nutrient</th>\n",
       "      <th>Per100g</th>\n",
       "    </tr>\n",
       "  </thead>\n",
       "  <tbody>\n",
       "    <tr>\n",
       "      <th>2132500</th>\n",
       "      <td>PREMIUM ROASTED SEAWEED</td>\n",
       "      <td>Protein</td>\n",
       "      <td>20.0</td>\n",
       "    </tr>\n",
       "  </tbody>\n",
       "</table>\n",
       "</div>"
      ],
      "text/plain": [
       "                            food nutrient  Per100g\n",
       "2132500  PREMIUM ROASTED SEAWEED  Protein     20.0"
      ]
     },
     "execution_count": 1358,
     "metadata": {},
     "output_type": "execute_result"
    }
   ],
   "source": [
    "usda = ex.merge (nutrient, ides, food)\n",
    "usda.sample()"
   ]
  },
  {
   "cell_type": "code",
   "execution_count": 1359,
   "metadata": {},
   "outputs": [],
   "source": [
    "usda[\"nutrient\"] = usda[\"nutrient\"].apply(lambda x: x.lower())\n",
    "usda[\"nutrient\"] = usda[\"nutrient\"].apply(lambda x: x.split(\",\")[0])"
   ]
  },
  {
   "cell_type": "code",
   "execution_count": 1360,
   "metadata": {},
   "outputs": [
    {
     "data": {
      "text/html": [
       "<div>\n",
       "<style scoped>\n",
       "    .dataframe tbody tr th:only-of-type {\n",
       "        vertical-align: middle;\n",
       "    }\n",
       "\n",
       "    .dataframe tbody tr th {\n",
       "        vertical-align: top;\n",
       "    }\n",
       "\n",
       "    .dataframe thead th {\n",
       "        text-align: right;\n",
       "    }\n",
       "</style>\n",
       "<table border=\"1\" class=\"dataframe\">\n",
       "  <thead>\n",
       "    <tr style=\"text-align: right;\">\n",
       "      <th></th>\n",
       "      <th>food</th>\n",
       "      <th>nutrient</th>\n",
       "      <th>Per100g</th>\n",
       "    </tr>\n",
       "  </thead>\n",
       "  <tbody>\n",
       "    <tr>\n",
       "      <th>1958903</th>\n",
       "      <td>WHOLE ROASTED CHICKEN</td>\n",
       "      <td>total lipid (fat)</td>\n",
       "      <td>9.52</td>\n",
       "    </tr>\n",
       "    <tr>\n",
       "      <th>3912280</th>\n",
       "      <td>ALMOND BARK, VANILLA</td>\n",
       "      <td>vitamin c</td>\n",
       "      <td>0.00</td>\n",
       "    </tr>\n",
       "    <tr>\n",
       "      <th>7334206</th>\n",
       "      <td>Macaroni, tomatoes, and beef, baby food, NS as...</td>\n",
       "      <td>pufa 22:5 n-3 (dpa)</td>\n",
       "      <td>0.00</td>\n",
       "    </tr>\n",
       "    <tr>\n",
       "      <th>7006572</th>\n",
       "      <td>Milk, condensed, sweetened</td>\n",
       "      <td>vitamin c</td>\n",
       "      <td>2.60</td>\n",
       "    </tr>\n",
       "    <tr>\n",
       "      <th>5918198</th>\n",
       "      <td>GORGONZOLA CRUMBLED CHEESE, GORGONZOLA</td>\n",
       "      <td>protein</td>\n",
       "      <td>21.43</td>\n",
       "    </tr>\n",
       "  </tbody>\n",
       "</table>\n",
       "</div>"
      ],
      "text/plain": [
       "                                                      food  \\\n",
       "1958903                              WHOLE ROASTED CHICKEN   \n",
       "3912280                               ALMOND BARK, VANILLA   \n",
       "7334206  Macaroni, tomatoes, and beef, baby food, NS as...   \n",
       "7006572                         Milk, condensed, sweetened   \n",
       "5918198             GORGONZOLA CRUMBLED CHEESE, GORGONZOLA   \n",
       "\n",
       "                    nutrient  Per100g  \n",
       "1958903    total lipid (fat)     9.52  \n",
       "3912280            vitamin c     0.00  \n",
       "7334206  pufa 22:5 n-3 (dpa)     0.00  \n",
       "7006572            vitamin c     2.60  \n",
       "5918198              protein    21.43  "
      ]
     },
     "execution_count": 1360,
     "metadata": {},
     "output_type": "execute_result"
    }
   ],
   "source": [
    "usda.sample(5)"
   ]
  },
  {
   "cell_type": "code",
   "execution_count": 1361,
   "metadata": {},
   "outputs": [
    {
     "data": {
      "text/plain": [
       "(7555511, 3)"
      ]
     },
     "execution_count": 1361,
     "metadata": {},
     "output_type": "execute_result"
    }
   ],
   "source": [
    "usda.shape"
   ]
  },
  {
   "cell_type": "code",
   "execution_count": 1362,
   "metadata": {},
   "outputs": [
    {
     "data": {
      "text/plain": [
       "2397702"
      ]
     },
     "execution_count": 1362,
     "metadata": {},
     "output_type": "execute_result"
    }
   ],
   "source": [
    "usda.duplicated().sum()"
   ]
  },
  {
   "cell_type": "code",
   "execution_count": 1363,
   "metadata": {},
   "outputs": [
    {
     "data": {
      "text/html": [
       "<div>\n",
       "<style scoped>\n",
       "    .dataframe tbody tr th:only-of-type {\n",
       "        vertical-align: middle;\n",
       "    }\n",
       "\n",
       "    .dataframe tbody tr th {\n",
       "        vertical-align: top;\n",
       "    }\n",
       "\n",
       "    .dataframe thead th {\n",
       "        text-align: right;\n",
       "    }\n",
       "</style>\n",
       "<table border=\"1\" class=\"dataframe\">\n",
       "  <thead>\n",
       "    <tr style=\"text-align: right;\">\n",
       "      <th></th>\n",
       "      <th>food</th>\n",
       "      <th>nutrient</th>\n",
       "      <th>Per100g</th>\n",
       "    </tr>\n",
       "  </thead>\n",
       "  <tbody>\n",
       "    <tr>\n",
       "      <th>354607</th>\n",
       "      <td>Soup, tomato bisque, canned, prepared with equ...</td>\n",
       "      <td>folic acid</td>\n",
       "      <td>0.0</td>\n",
       "    </tr>\n",
       "  </tbody>\n",
       "</table>\n",
       "</div>"
      ],
      "text/plain": [
       "                                                     food    nutrient  Per100g\n",
       "354607  Soup, tomato bisque, canned, prepared with equ...  folic acid      0.0"
      ]
     },
     "execution_count": 1363,
     "metadata": {},
     "output_type": "execute_result"
    }
   ],
   "source": [
    "usda.drop_duplicates(keep='first')\n",
    "usda.sample()"
   ]
  },
  {
   "cell_type": "code",
   "execution_count": 1364,
   "metadata": {},
   "outputs": [],
   "source": [
    "usda = (usda.loc[(usda['nutrient'] == \"thiamine\") | (usda['nutrient'] == \"riboflavin\") | (usda['nutrient'] == \"niacin\") | (usda['nutrient'] == \"pantothenic\") | (usda['nutrient'] == \"vitamin b6\") | (usda['nutrient'] == \"biotin\") | (usda['nutrient'] == \"folate\") | (usda['nutrient'] == \"vitamin b12\") | (usda['nutrient'] == \"ascorbic acid\") | (usda['nutrient'] == \"retinol\") | (usda['nutrient'] == \"calciferol\") | (usda['nutrient'] == \"phylloquinone\") | (usda['nutrient'] == \"tocopherol\") | (usda['nutrient'] == \"calcium\") | (usda['nutrient'] == \"iron\") | (usda['nutrient'] == \"magnesium\") | (usda['nutrient'] == \"potassium\") | (usda['nutrient'] == \"zinc\") | (usda['nutrient'] == \"iodine\") | (usda['nutrient'] == \"sodium\") | (usda['nutrient'] == \"phosphorus\") | (usda['nutrient'] == \"manganese\")])"
   ]
  },
  {
   "cell_type": "code",
   "execution_count": 1365,
   "metadata": {},
   "outputs": [],
   "source": [
    "usda.drop_duplicates(subset=['food', 'nutrient'], keep='first', inplace= True)"
   ]
  },
  {
   "cell_type": "code",
   "execution_count": 1366,
   "metadata": {},
   "outputs": [
    {
     "data": {
      "text/plain": [
       "(1029410, 3)"
      ]
     },
     "execution_count": 1366,
     "metadata": {},
     "output_type": "execute_result"
    }
   ],
   "source": [
    "usda.shape"
   ]
  },
  {
   "cell_type": "code",
   "execution_count": 1367,
   "metadata": {},
   "outputs": [
    {
     "data": {
      "text/plain": [
       "0.00       180643\n",
       "71.00        9447\n",
       "1.29         6919\n",
       "67.00        6456\n",
       "8.00         6345\n",
       "            ...  \n",
       "34.90           1\n",
       "5818.00         1\n",
       "3508.77         1\n",
       "2649.00         1\n",
       "41.90           1\n",
       "Name: Per100g, Length: 11144, dtype: int64"
      ]
     },
     "execution_count": 1367,
     "metadata": {},
     "output_type": "execute_result"
    }
   ],
   "source": [
    "usda.Per100g.value_counts()"
   ]
  },
  {
   "attachments": {},
   "cell_type": "markdown",
   "metadata": {},
   "source": [
    "drop rows with conditions, filtering"
   ]
  },
  {
   "cell_type": "code",
   "execution_count": 1368,
   "metadata": {},
   "outputs": [],
   "source": [
    "usda = (usda.loc[(usda['nutrient'] == \"thiamine\") | (usda['nutrient'] == \"riboflavin\") | (usda['nutrient'] == \"niacin\") | (usda['nutrient'] == \"pantothenic\") | (usda['nutrient'] == \"vitamin b6\") | (usda['nutrient'] == \"biotin\") | (usda['nutrient'] == \"folate\") | (usda['nutrient'] == \"vitamin b12\") | (usda['nutrient'] == \"ascorbic acid\") | (usda['nutrient'] == \"retinol\") | (usda['nutrient'] == \"calciferol\") | (usda['nutrient'] == \"phylloquinone\") | (usda['nutrient'] == \"tocopherol\") | (usda['nutrient'] == \"calcium\") | (usda['nutrient'] == \"iron\") | (usda['nutrient'] == \"magnesium\") | (usda['nutrient'] == \"potassium\") | (usda['nutrient'] == \"zinc\") | (usda['nutrient'] == \"iodine\") | (usda['nutrient'] == \"sodium\") | (usda['nutrient'] == \"phosphorus\") | (usda['nutrient'] == \"manganese\")])"
   ]
  },
  {
   "cell_type": "code",
   "execution_count": 1369,
   "metadata": {},
   "outputs": [],
   "source": [
    "usda.drop(usda[usda[\"Per100g\"] < 8.00].index, inplace = True)"
   ]
  },
  {
   "cell_type": "code",
   "execution_count": 1370,
   "metadata": {},
   "outputs": [],
   "source": [
    "usda.drop(usda[usda[\"nutrient\"] == \"water\"].index, inplace = True)"
   ]
  },
  {
   "cell_type": "code",
   "execution_count": 1371,
   "metadata": {},
   "outputs": [],
   "source": [
    "#usda[\"Per100g\"] = usda[\"Per100g\"].astype(float).map(lambda n: \"{:.2}\")"
   ]
  },
  {
   "cell_type": "code",
   "execution_count": 1372,
   "metadata": {},
   "outputs": [],
   "source": [
    "#usda = usda[[\"food\", \"nutrient\",'Per100g']].groupby(by=[\"food\"]).agg({\"nutrient\":\"value_counts\"})\n",
    "\n",
    "#usda"
   ]
  },
  {
   "attachments": {},
   "cell_type": "markdown",
   "metadata": {},
   "source": [
    "Create a new column thata has the count of how many nutrients has each food."
   ]
  },
  {
   "cell_type": "code",
   "execution_count": 1373,
   "metadata": {},
   "outputs": [
    {
     "data": {
      "text/plain": [
       "Index(['food', 'nutrient', 'Per100g'], dtype='object')"
      ]
     },
     "execution_count": 1373,
     "metadata": {},
     "output_type": "execute_result"
    }
   ],
   "source": [
    "usda.columns"
   ]
  },
  {
   "cell_type": "code",
   "execution_count": 1374,
   "metadata": {},
   "outputs": [
    {
     "data": {
      "text/html": [
       "<div>\n",
       "<style scoped>\n",
       "    .dataframe tbody tr th:only-of-type {\n",
       "        vertical-align: middle;\n",
       "    }\n",
       "\n",
       "    .dataframe tbody tr th {\n",
       "        vertical-align: top;\n",
       "    }\n",
       "\n",
       "    .dataframe thead th {\n",
       "        text-align: right;\n",
       "    }\n",
       "</style>\n",
       "<table border=\"1\" class=\"dataframe\">\n",
       "  <thead>\n",
       "    <tr style=\"text-align: right;\">\n",
       "      <th></th>\n",
       "      <th>food</th>\n",
       "      <th>nutrient</th>\n",
       "      <th>Per100g</th>\n",
       "      <th>nutri_counts</th>\n",
       "    </tr>\n",
       "  </thead>\n",
       "  <tbody>\n",
       "    <tr>\n",
       "      <th>183</th>\n",
       "      <td>Hummus, commercial</td>\n",
       "      <td>calcium</td>\n",
       "      <td>41.0</td>\n",
       "      <td>6</td>\n",
       "    </tr>\n",
       "    <tr>\n",
       "      <th>185</th>\n",
       "      <td>Hummus, commercial</td>\n",
       "      <td>magnesium</td>\n",
       "      <td>71.1</td>\n",
       "      <td>6</td>\n",
       "    </tr>\n",
       "    <tr>\n",
       "      <th>186</th>\n",
       "      <td>Hummus, commercial</td>\n",
       "      <td>phosphorus</td>\n",
       "      <td>166.0</td>\n",
       "      <td>6</td>\n",
       "    </tr>\n",
       "    <tr>\n",
       "      <th>187</th>\n",
       "      <td>Hummus, commercial</td>\n",
       "      <td>potassium</td>\n",
       "      <td>289.0</td>\n",
       "      <td>6</td>\n",
       "    </tr>\n",
       "    <tr>\n",
       "      <th>188</th>\n",
       "      <td>Hummus, commercial</td>\n",
       "      <td>sodium</td>\n",
       "      <td>438.0</td>\n",
       "      <td>6</td>\n",
       "    </tr>\n",
       "  </tbody>\n",
       "</table>\n",
       "</div>"
      ],
      "text/plain": [
       "                   food    nutrient  Per100g  nutri_counts\n",
       "183  Hummus, commercial     calcium     41.0             6\n",
       "185  Hummus, commercial   magnesium     71.1             6\n",
       "186  Hummus, commercial  phosphorus    166.0             6\n",
       "187  Hummus, commercial   potassium    289.0             6\n",
       "188  Hummus, commercial      sodium    438.0             6"
      ]
     },
     "execution_count": 1374,
     "metadata": {},
     "output_type": "execute_result"
    }
   ],
   "source": [
    "usda['nutri_counts'] = usda.groupby(['food'])['nutrient'].transform('count')\n",
    "usda.head(5)"
   ]
  },
  {
   "cell_type": "code",
   "execution_count": 1375,
   "metadata": {},
   "outputs": [
    {
     "data": {
      "text/html": [
       "<div>\n",
       "<style scoped>\n",
       "    .dataframe tbody tr th:only-of-type {\n",
       "        vertical-align: middle;\n",
       "    }\n",
       "\n",
       "    .dataframe tbody tr th {\n",
       "        vertical-align: top;\n",
       "    }\n",
       "\n",
       "    .dataframe thead th {\n",
       "        text-align: right;\n",
       "    }\n",
       "</style>\n",
       "<table border=\"1\" class=\"dataframe\">\n",
       "  <thead>\n",
       "    <tr style=\"text-align: right;\">\n",
       "      <th></th>\n",
       "      <th>food</th>\n",
       "      <th>nutrient</th>\n",
       "      <th>Per100g</th>\n",
       "      <th>nutri_counts</th>\n",
       "      <th>sum</th>\n",
       "    </tr>\n",
       "  </thead>\n",
       "  <tbody>\n",
       "    <tr>\n",
       "      <th>183</th>\n",
       "      <td>Hummus, commercial</td>\n",
       "      <td>calcium</td>\n",
       "      <td>41.0</td>\n",
       "      <td>6</td>\n",
       "      <td>1041.1</td>\n",
       "    </tr>\n",
       "    <tr>\n",
       "      <th>185</th>\n",
       "      <td>Hummus, commercial</td>\n",
       "      <td>magnesium</td>\n",
       "      <td>71.1</td>\n",
       "      <td>6</td>\n",
       "      <td>1041.1</td>\n",
       "    </tr>\n",
       "    <tr>\n",
       "      <th>186</th>\n",
       "      <td>Hummus, commercial</td>\n",
       "      <td>phosphorus</td>\n",
       "      <td>166.0</td>\n",
       "      <td>6</td>\n",
       "      <td>1041.1</td>\n",
       "    </tr>\n",
       "    <tr>\n",
       "      <th>187</th>\n",
       "      <td>Hummus, commercial</td>\n",
       "      <td>potassium</td>\n",
       "      <td>289.0</td>\n",
       "      <td>6</td>\n",
       "      <td>1041.1</td>\n",
       "    </tr>\n",
       "    <tr>\n",
       "      <th>188</th>\n",
       "      <td>Hummus, commercial</td>\n",
       "      <td>sodium</td>\n",
       "      <td>438.0</td>\n",
       "      <td>6</td>\n",
       "      <td>1041.1</td>\n",
       "    </tr>\n",
       "  </tbody>\n",
       "</table>\n",
       "</div>"
      ],
      "text/plain": [
       "                   food    nutrient  Per100g  nutri_counts     sum\n",
       "183  Hummus, commercial     calcium     41.0             6  1041.1\n",
       "185  Hummus, commercial   magnesium     71.1             6  1041.1\n",
       "186  Hummus, commercial  phosphorus    166.0             6  1041.1\n",
       "187  Hummus, commercial   potassium    289.0             6  1041.1\n",
       "188  Hummus, commercial      sodium    438.0             6  1041.1"
      ]
     },
     "execution_count": 1375,
     "metadata": {},
     "output_type": "execute_result"
    }
   ],
   "source": [
    "usda['sum'] = usda.groupby(['food'])['Per100g'].transform('sum')\n",
    "usda.head(5)"
   ]
  },
  {
   "attachments": {},
   "cell_type": "markdown",
   "metadata": {},
   "source": [
    "filtering with the food that has more than 5 of our selected nutrients."
   ]
  },
  {
   "cell_type": "code",
   "execution_count": 1394,
   "metadata": {},
   "outputs": [],
   "source": [
    "usda = (usda.loc[(usda['nutri_counts'] > 10)])"
   ]
  },
  {
   "cell_type": "code",
   "execution_count": 1395,
   "metadata": {},
   "outputs": [],
   "source": [
    "usda = (usda.loc[(usda['sum'] > 10309.875)])"
   ]
  },
  {
   "cell_type": "code",
   "execution_count": 1396,
   "metadata": {},
   "outputs": [
    {
     "data": {
      "text/html": [
       "<div>\n",
       "<style scoped>\n",
       "    .dataframe tbody tr th:only-of-type {\n",
       "        vertical-align: middle;\n",
       "    }\n",
       "\n",
       "    .dataframe tbody tr th {\n",
       "        vertical-align: top;\n",
       "    }\n",
       "\n",
       "    .dataframe thead th {\n",
       "        text-align: right;\n",
       "    }\n",
       "</style>\n",
       "<table border=\"1\" class=\"dataframe\">\n",
       "  <thead>\n",
       "    <tr style=\"text-align: right;\">\n",
       "      <th></th>\n",
       "      <th>food</th>\n",
       "      <th>nutrient</th>\n",
       "      <th>Per100g</th>\n",
       "      <th>nutri_counts</th>\n",
       "      <th>sum</th>\n",
       "    </tr>\n",
       "  </thead>\n",
       "  <tbody>\n",
       "    <tr>\n",
       "      <th>5395460</th>\n",
       "      <td>HOMEMADE VANILLA WITH CARB STEADY SHAKE, HOMEM...</td>\n",
       "      <td>calcium</td>\n",
       "      <td>3125.00</td>\n",
       "      <td>11</td>\n",
       "      <td>14338.00</td>\n",
       "    </tr>\n",
       "    <tr>\n",
       "      <th>5395462</th>\n",
       "      <td>HOMEMADE VANILLA WITH CARB STEADY SHAKE, HOMEM...</td>\n",
       "      <td>iron</td>\n",
       "      <td>56.25</td>\n",
       "      <td>11</td>\n",
       "      <td>14338.00</td>\n",
       "    </tr>\n",
       "    <tr>\n",
       "      <th>5395463</th>\n",
       "      <td>HOMEMADE VANILLA WITH CARB STEADY SHAKE, HOMEM...</td>\n",
       "      <td>magnesium</td>\n",
       "      <td>625.00</td>\n",
       "      <td>11</td>\n",
       "      <td>14338.00</td>\n",
       "    </tr>\n",
       "    <tr>\n",
       "      <th>5395464</th>\n",
       "      <td>HOMEMADE VANILLA WITH CARB STEADY SHAKE, HOMEM...</td>\n",
       "      <td>phosphorus</td>\n",
       "      <td>2125.00</td>\n",
       "      <td>11</td>\n",
       "      <td>14338.00</td>\n",
       "    </tr>\n",
       "    <tr>\n",
       "      <th>5395465</th>\n",
       "      <td>HOMEMADE VANILLA WITH CARB STEADY SHAKE, HOMEM...</td>\n",
       "      <td>potassium</td>\n",
       "      <td>3125.00</td>\n",
       "      <td>11</td>\n",
       "      <td>14338.00</td>\n",
       "    </tr>\n",
       "    <tr>\n",
       "      <th>...</th>\n",
       "      <td>...</td>\n",
       "      <td>...</td>\n",
       "      <td>...</td>\n",
       "      <td>...</td>\n",
       "      <td>...</td>\n",
       "    </tr>\n",
       "    <tr>\n",
       "      <th>6639440</th>\n",
       "      <td>ORIGINAL NUTRITION SHAKE, COFFEE LATTE</td>\n",
       "      <td>zinc</td>\n",
       "      <td>46.88</td>\n",
       "      <td>11</td>\n",
       "      <td>17149.63</td>\n",
       "    </tr>\n",
       "    <tr>\n",
       "      <th>6639442</th>\n",
       "      <td>ORIGINAL NUTRITION SHAKE, COFFEE LATTE</td>\n",
       "      <td>iodine</td>\n",
       "      <td>469.00</td>\n",
       "      <td>11</td>\n",
       "      <td>17149.63</td>\n",
       "    </tr>\n",
       "    <tr>\n",
       "      <th>6639443</th>\n",
       "      <td>ORIGINAL NUTRITION SHAKE, COFFEE LATTE</td>\n",
       "      <td>manganese</td>\n",
       "      <td>15.00</td>\n",
       "      <td>11</td>\n",
       "      <td>17149.63</td>\n",
       "    </tr>\n",
       "    <tr>\n",
       "      <th>6639450</th>\n",
       "      <td>ORIGINAL NUTRITION SHAKE, COFFEE LATTE</td>\n",
       "      <td>niacin</td>\n",
       "      <td>62.50</td>\n",
       "      <td>11</td>\n",
       "      <td>17149.63</td>\n",
       "    </tr>\n",
       "    <tr>\n",
       "      <th>6639453</th>\n",
       "      <td>ORIGINAL NUTRITION SHAKE, COFFEE LATTE</td>\n",
       "      <td>folate</td>\n",
       "      <td>1250.00</td>\n",
       "      <td>11</td>\n",
       "      <td>17149.63</td>\n",
       "    </tr>\n",
       "  </tbody>\n",
       "</table>\n",
       "<p>266 rows × 5 columns</p>\n",
       "</div>"
      ],
      "text/plain": [
       "                                                      food    nutrient  \\\n",
       "5395460  HOMEMADE VANILLA WITH CARB STEADY SHAKE, HOMEM...     calcium   \n",
       "5395462  HOMEMADE VANILLA WITH CARB STEADY SHAKE, HOMEM...        iron   \n",
       "5395463  HOMEMADE VANILLA WITH CARB STEADY SHAKE, HOMEM...   magnesium   \n",
       "5395464  HOMEMADE VANILLA WITH CARB STEADY SHAKE, HOMEM...  phosphorus   \n",
       "5395465  HOMEMADE VANILLA WITH CARB STEADY SHAKE, HOMEM...   potassium   \n",
       "...                                                    ...         ...   \n",
       "6639440             ORIGINAL NUTRITION SHAKE, COFFEE LATTE        zinc   \n",
       "6639442             ORIGINAL NUTRITION SHAKE, COFFEE LATTE      iodine   \n",
       "6639443             ORIGINAL NUTRITION SHAKE, COFFEE LATTE   manganese   \n",
       "6639450             ORIGINAL NUTRITION SHAKE, COFFEE LATTE      niacin   \n",
       "6639453             ORIGINAL NUTRITION SHAKE, COFFEE LATTE      folate   \n",
       "\n",
       "         Per100g  nutri_counts       sum  \n",
       "5395460  3125.00            11  14338.00  \n",
       "5395462    56.25            11  14338.00  \n",
       "5395463   625.00            11  14338.00  \n",
       "5395464  2125.00            11  14338.00  \n",
       "5395465  3125.00            11  14338.00  \n",
       "...          ...           ...       ...  \n",
       "6639440    46.88            11  17149.63  \n",
       "6639442   469.00            11  17149.63  \n",
       "6639443    15.00            11  17149.63  \n",
       "6639450    62.50            11  17149.63  \n",
       "6639453  1250.00            11  17149.63  \n",
       "\n",
       "[266 rows x 5 columns]"
      ]
     },
     "execution_count": 1396,
     "metadata": {},
     "output_type": "execute_result"
    }
   ],
   "source": [
    "usda"
   ]
  },
  {
   "cell_type": "code",
   "execution_count": 1397,
   "metadata": {},
   "outputs": [
    {
     "data": {
      "text/plain": [
       "266"
      ]
     },
     "execution_count": 1397,
     "metadata": {},
     "output_type": "execute_result"
    }
   ],
   "source": [
    "len(usda)"
   ]
  },
  {
   "cell_type": "code",
   "execution_count": 1398,
   "metadata": {},
   "outputs": [],
   "source": [
    "import seaborn as sns\n",
    "import matplotlib.pyplot as plt\n",
    "import pandas as pd"
   ]
  },
  {
   "cell_type": "code",
   "execution_count": 1401,
   "metadata": {},
   "outputs": [
    {
     "data": {
      "image/png": "[encoded data removed]",
      "text/plain": [
       "<Figure size 432x288 with 1 Axes>"
      ]
     },
     "metadata": {
      "needs_background": "light"
     },
     "output_type": "display_data"
    }
   ],
   "source": [
    "barplot = sns.barplot(y=\"food\", x=\"sum\", data=usda);"
   ]
  },
  {
   "cell_type": "code",
   "execution_count": 1400,
   "metadata": {},
   "outputs": [
    {
     "data": {
      "image/png": "[encoded data removed]",
      "text/plain": [
       "<Figure size 432x288 with 1 Axes>"
      ]
     },
     "metadata": {
      "needs_background": "light"
     },
     "output_type": "display_data"
    }
   ],
   "source": [
    "sns.countplot(y=usda[\"food\"], hue=usda[\"sum\"]);"
   ]
  },
  {
   "cell_type": "code",
   "execution_count": null,
   "metadata": {},
   "outputs": [],
   "source": []
  },
  {
   "attachments": {},
   "cell_type": "markdown",
   "metadata": {},
   "source": [
    "##### filter the DF."
   ]
  },
  {
   "attachments": {},
   "cell_type": "markdown",
   "metadata": {},
   "source": [
    "## 2. HEALTH CARE web scraping.\n",
    "### 2.1. Exploration.\n",
    "Got the information from the page vedantu, about some nutrients and what causes the lak of them.\n",
    "#### 2.1.1. Get the link."
   ]
  },
  {
   "cell_type": "code",
   "execution_count": 1383,
   "metadata": {},
   "outputs": [
    {
     "data": {
      "text/plain": [
       "<module 'src.extraction' from 'd:\\\\ironhack\\\\proyectos\\\\PipeLine_proy2\\\\src\\\\extraction.py'>"
      ]
     },
     "execution_count": 1383,
     "metadata": {},
     "output_type": "execute_result"
    }
   ],
   "source": [
    "import requests\n",
    "from bs4 import BeautifulSoup\n",
    "import pandas as pd\n",
    "import requests\n",
    "import re\n",
    "import lxml\n",
    "import importlib\n",
    "import src.extraction as ex\n",
    "importlib.reload(ex)"
   ]
  },
  {
   "cell_type": "code",
   "execution_count": 1384,
   "metadata": {},
   "outputs": [],
   "source": [
    "url = \"https://www.vedantu.com/biology/deficiency-diseases\"\n",
    "tags = ex.get_text(url)"
   ]
  },
  {
   "attachments": {},
   "cell_type": "markdown",
   "metadata": {},
   "source": [
    "Filter the elements to the info we need."
   ]
  },
  {
   "cell_type": "code",
   "execution_count": 1385,
   "metadata": {},
   "outputs": [],
   "source": [
    "tag_1 = tags[37:55]\n",
    "tag_2 = tags[60:68]\n",
    "tag_3 = tags[73:91]"
   ]
  },
  {
   "cell_type": "code",
   "execution_count": 1386,
   "metadata": {},
   "outputs": [],
   "source": [
    "info_1 = ex.text_filtered(tag_1)\n",
    "info_2 = ex.text_filtered(tag_2)\n",
    "info_3 = ex.text_filtered(tag_3)"
   ]
  },
  {
   "attachments": {},
   "cell_type": "markdown",
   "metadata": {},
   "source": [
    "Creating the lists into a data frame, it made it into a single column frame, had to separate the information into 2 columns, nutrients and the information, and at the end put the 3 data frames into 1."
   ]
  },
  {
   "cell_type": "code",
   "execution_count": 1387,
   "metadata": {},
   "outputs": [
    {
     "data": {
      "text/html": [
       "<div>\n",
       "<style scoped>\n",
       "    .dataframe tbody tr th:only-of-type {\n",
       "        vertical-align: middle;\n",
       "    }\n",
       "\n",
       "    .dataframe tbody tr th {\n",
       "        vertical-align: top;\n",
       "    }\n",
       "\n",
       "    .dataframe thead th {\n",
       "        text-align: right;\n",
       "    }\n",
       "</style>\n",
       "<table border=\"1\" class=\"dataframe\">\n",
       "  <thead>\n",
       "    <tr style=\"text-align: right;\">\n",
       "      <th></th>\n",
       "      <th>nutrients</th>\n",
       "      <th>info</th>\n",
       "    </tr>\n",
       "  </thead>\n",
       "  <tbody>\n",
       "    <tr>\n",
       "      <th>0</th>\n",
       "      <td>thiamine (vitamin b1)</td>\n",
       "      <td>severe deficiency causes beriberi with symptom...</td>\n",
       "    </tr>\n",
       "    <tr>\n",
       "      <th>1</th>\n",
       "      <td>riboflavin (vitamin b2)</td>\n",
       "      <td>the deficiency of this vitamin causes angular ...</td>\n",
       "    </tr>\n",
       "    <tr>\n",
       "      <th>2</th>\n",
       "      <td>niacin (vitamin b3)</td>\n",
       "      <td>causes pellagra which is a life-threatening di...</td>\n",
       "    </tr>\n",
       "    <tr>\n",
       "      <th>3</th>\n",
       "      <td>pantothenic acid (vitamin b5)</td>\n",
       "      <td>vitamin b5 deficiency is rare and the symptoms...</td>\n",
       "    </tr>\n",
       "    <tr>\n",
       "      <th>4</th>\n",
       "      <td>vitamin b6</td>\n",
       "      <td>end-stage kidney diseases such as celiac disea...</td>\n",
       "    </tr>\n",
       "    <tr>\n",
       "      <th>5</th>\n",
       "      <td>biotin (vitamin b7)</td>\n",
       "      <td>the deficiency affects the growth of hair and ...</td>\n",
       "    </tr>\n",
       "    <tr>\n",
       "      <th>6</th>\n",
       "      <td>folate (vitamin b9)</td>\n",
       "      <td>it is very common and the deficiency is associ...</td>\n",
       "    </tr>\n",
       "    <tr>\n",
       "      <th>7</th>\n",
       "      <td>vitamin b12</td>\n",
       "      <td>deficiency of this disease leads to pernicious...</td>\n",
       "    </tr>\n",
       "    <tr>\n",
       "      <th>8</th>\n",
       "      <td>ascorbic acid (vitamin c)</td>\n",
       "      <td>deficiency results in scurvy and the symptoms ...</td>\n",
       "    </tr>\n",
       "    <tr>\n",
       "      <th>9</th>\n",
       "      <td>retinol (vitamin a)</td>\n",
       "      <td>the deficiency causes night blindness or nycta...</td>\n",
       "    </tr>\n",
       "    <tr>\n",
       "      <th>10</th>\n",
       "      <td>calciferol (vitamin d)</td>\n",
       "      <td>it causes a disease known as rickets. the symp...</td>\n",
       "    </tr>\n",
       "    <tr>\n",
       "      <th>11</th>\n",
       "      <td>phylloquinone (vitamin k)</td>\n",
       "      <td>the deficiency of vitamin k leads to decreased...</td>\n",
       "    </tr>\n",
       "    <tr>\n",
       "      <th>12</th>\n",
       "      <td>tocopherol (vitamin e)</td>\n",
       "      <td>the major problems associated are muscle and n...</td>\n",
       "    </tr>\n",
       "    <tr>\n",
       "      <th>13</th>\n",
       "      <td>calcium</td>\n",
       "      <td>the deficiency of calcium leads to decreased c...</td>\n",
       "    </tr>\n",
       "    <tr>\n",
       "      <th>14</th>\n",
       "      <td>iron deficiency</td>\n",
       "      <td>iron deficiency in the body results in anaemia...</td>\n",
       "    </tr>\n",
       "    <tr>\n",
       "      <th>15</th>\n",
       "      <td>magnesium deficiency</td>\n",
       "      <td>magnesium deficiency is uncommon. however, in ...</td>\n",
       "    </tr>\n",
       "    <tr>\n",
       "      <th>16</th>\n",
       "      <td>potassium deficiency</td>\n",
       "      <td>the common cause of potassium deficiency is ex...</td>\n",
       "    </tr>\n",
       "    <tr>\n",
       "      <th>17</th>\n",
       "      <td>zinc</td>\n",
       "      <td>zinc deficiency causes loss of taste, smell, a...</td>\n",
       "    </tr>\n",
       "    <tr>\n",
       "      <th>18</th>\n",
       "      <td>iodine</td>\n",
       "      <td>the deficiency of this mineral can result in g...</td>\n",
       "    </tr>\n",
       "    <tr>\n",
       "      <th>19</th>\n",
       "      <td>sodium</td>\n",
       "      <td>sodium deficiency is also known as hyponatremi...</td>\n",
       "    </tr>\n",
       "    <tr>\n",
       "      <th>20</th>\n",
       "      <td>phosphorus</td>\n",
       "      <td>the deficiency of phosphorus leads to the form...</td>\n",
       "    </tr>\n",
       "    <tr>\n",
       "      <th>21</th>\n",
       "      <td>manganese</td>\n",
       "      <td>manganese is important for bone growth and car...</td>\n",
       "    </tr>\n",
       "  </tbody>\n",
       "</table>\n",
       "</div>"
      ],
      "text/plain": [
       "                        nutrients  \\\n",
       "0           thiamine (vitamin b1)   \n",
       "1         riboflavin (vitamin b2)   \n",
       "2             niacin (vitamin b3)   \n",
       "3   pantothenic acid (vitamin b5)   \n",
       "4                      vitamin b6   \n",
       "5             biotin (vitamin b7)   \n",
       "6             folate (vitamin b9)   \n",
       "7                     vitamin b12   \n",
       "8       ascorbic acid (vitamin c)   \n",
       "9             retinol (vitamin a)   \n",
       "10         calciferol (vitamin d)   \n",
       "11      phylloquinone (vitamin k)   \n",
       "12         tocopherol (vitamin e)   \n",
       "13                        calcium   \n",
       "14                iron deficiency   \n",
       "15           magnesium deficiency   \n",
       "16           potassium deficiency   \n",
       "17                           zinc   \n",
       "18                         iodine   \n",
       "19                         sodium   \n",
       "20                     phosphorus   \n",
       "21                      manganese   \n",
       "\n",
       "                                                 info  \n",
       "0   severe deficiency causes beriberi with symptom...  \n",
       "1   the deficiency of this vitamin causes angular ...  \n",
       "2   causes pellagra which is a life-threatening di...  \n",
       "3   vitamin b5 deficiency is rare and the symptoms...  \n",
       "4   end-stage kidney diseases such as celiac disea...  \n",
       "5   the deficiency affects the growth of hair and ...  \n",
       "6   it is very common and the deficiency is associ...  \n",
       "7   deficiency of this disease leads to pernicious...  \n",
       "8   deficiency results in scurvy and the symptoms ...  \n",
       "9   the deficiency causes night blindness or nycta...  \n",
       "10  it causes a disease known as rickets. the symp...  \n",
       "11  the deficiency of vitamin k leads to decreased...  \n",
       "12  the major problems associated are muscle and n...  \n",
       "13  the deficiency of calcium leads to decreased c...  \n",
       "14  iron deficiency in the body results in anaemia...  \n",
       "15  magnesium deficiency is uncommon. however, in ...  \n",
       "16  the common cause of potassium deficiency is ex...  \n",
       "17  zinc deficiency causes loss of taste, smell, a...  \n",
       "18  the deficiency of this mineral can result in g...  \n",
       "19  sodium deficiency is also known as hyponatremi...  \n",
       "20  the deficiency of phosphorus leads to the form...  \n",
       "21  manganese is important for bone growth and car...  "
      ]
     },
     "execution_count": 1387,
     "metadata": {},
     "output_type": "execute_result"
    }
   ],
   "source": [
    "df = ex.db_concat (info_1, info_2, info_3)\n",
    "df.reset_index(drop=True, inplace=True)\n",
    "df"
   ]
  },
  {
   "attachments": {},
   "cell_type": "markdown",
   "metadata": {},
   "source": [
    "Had to do the searching for the disease manually."
   ]
  },
  {
   "cell_type": "code",
   "execution_count": 1388,
   "metadata": {},
   "outputs": [
    {
     "data": {
      "text/plain": [
       "'the deficiency of phosphorus leads to the formation of underdeveloped teeth and bones.'"
      ]
     },
     "execution_count": 1388,
     "metadata": {},
     "output_type": "execute_result"
    }
   ],
   "source": [
    "lsttotal = list(df[\"info\"])\n",
    "lsttotal[20]"
   ]
  },
  {
   "cell_type": "code",
   "execution_count": 1389,
   "metadata": {},
   "outputs": [],
   "source": [
    "lsttotal = list(df[\"info\"])\n",
    "lst0 = lsttotal[0]\n",
    "lst1 = lsttotal[1]\n",
    "lst2 = lsttotal[2]\n",
    "lst3 = lsttotal[3]\n",
    "lst4 = lsttotal[4]\n",
    "lst5 = lsttotal[5]\n",
    "lst6 = lsttotal[6]\n",
    "lst7 = lsttotal[7]\n",
    "lst8 = lsttotal[8]\n",
    "lst9 = lsttotal[9]\n",
    "lst10 = lsttotal[10]\n",
    "lst11 = lsttotal[11]\n",
    "lst12 = lsttotal[12]\n",
    "lst13 = lsttotal[13]\n",
    "lst14 = lsttotal[14]\n",
    "lst15 = lsttotal[15]\n",
    "lst16 = lsttotal[16]\n",
    "lst17 = lsttotal[17]\n",
    "lst18 = lsttotal[18]\n",
    "lst19 = lsttotal[19]\n",
    "lst20 = lsttotal[20]\n",
    "lst21 = lsttotal[21]\n"
   ]
  },
  {
   "cell_type": "code",
   "execution_count": 1390,
   "metadata": {},
   "outputs": [],
   "source": [
    "dis0 = ex.diseases (lst0)\n",
    "dis1 = ex.diseases (lst1)\n",
    "dis2 = ex.diseases (lst2)\n",
    "dis3 = ex.diseases (lst3)\n",
    "dis4 = ex.diseases (lst4)\n",
    "dis5 = ex.diseases (lst5)\n",
    "dis6 = ex.diseases (lst6)\n",
    "dis7 = ex.diseases (lst7)\n",
    "dis8 = ex.diseases (lst8)\n",
    "dis9 = ex.diseases (lst9)\n",
    "dis10 = ex.diseases (lst10)\n",
    "dis11 = ex.diseases (lst11)\n",
    "dis12 = ex.diseases (lst12)\n",
    "dis13 = ex.diseases (lst13)\n",
    "dis14 = ex.diseases (lst14)\n",
    "dis15 = ex.diseases (lst15)\n",
    "dis16 = ex.diseases (lst16)\n",
    "dis17 = ex.diseases (lst17)\n",
    "dis18 = ex.diseases (lst18)\n",
    "dis19 = ex.diseases (lst19)\n",
    "dis20 = ex.diseases (lst20)\n",
    "dis21 = ex.diseases (lst21)"
   ]
  },
  {
   "cell_type": "code",
   "execution_count": 1391,
   "metadata": {},
   "outputs": [],
   "source": [
    "lista = ex.diseases_total (dis0, dis1, dis2, dis3, dis4, dis5, dis6, dis7, dis8, dis9, dis10, dis11, dis12, dis13, dis14, dis15, dis16, dis17, dis18, dis19, dis20, dis21) "
   ]
  },
  {
   "attachments": {},
   "cell_type": "markdown",
   "metadata": {},
   "source": [
    "Makiing them a data frame."
   ]
  },
  {
   "cell_type": "code",
   "execution_count": 1392,
   "metadata": {},
   "outputs": [
    {
     "data": {
      "text/html": [
       "<div>\n",
       "<style scoped>\n",
       "    .dataframe tbody tr th:only-of-type {\n",
       "        vertical-align: middle;\n",
       "    }\n",
       "\n",
       "    .dataframe tbody tr th {\n",
       "        vertical-align: top;\n",
       "    }\n",
       "\n",
       "    .dataframe thead th {\n",
       "        text-align: right;\n",
       "    }\n",
       "</style>\n",
       "<table border=\"1\" class=\"dataframe\">\n",
       "  <thead>\n",
       "    <tr style=\"text-align: right;\">\n",
       "      <th></th>\n",
       "      <th>diseases</th>\n",
       "    </tr>\n",
       "  </thead>\n",
       "  <tbody>\n",
       "    <tr>\n",
       "      <th>0</th>\n",
       "      <td>beriberi/ weight loss/ weakness</td>\n",
       "    </tr>\n",
       "    <tr>\n",
       "      <th>1</th>\n",
       "      <td>anaemia/ angular cheilitis/ chapped/ cracked lips</td>\n",
       "    </tr>\n",
       "    <tr>\n",
       "      <th>2</th>\n",
       "      <td>pellagra/ diarrhoea/ dermatitis/ dementia</td>\n",
       "    </tr>\n",
       "    <tr>\n",
       "      <th>3</th>\n",
       "      <td>fatigue/ apathy/ irritability</td>\n",
       "    </tr>\n",
       "    <tr>\n",
       "      <th>4</th>\n",
       "      <td>anaemia/ dermatitis/ celiac disease/ crohn/ ki...</td>\n",
       "    </tr>\n",
       "    <tr>\n",
       "      <th>5</th>\n",
       "      <td>skin health</td>\n",
       "    </tr>\n",
       "    <tr>\n",
       "      <th>6</th>\n",
       "      <td>neural tube defects</td>\n",
       "    </tr>\n",
       "    <tr>\n",
       "      <th>7</th>\n",
       "      <td>anaemia/ methylmalonic acidemia</td>\n",
       "    </tr>\n",
       "    <tr>\n",
       "      <th>8</th>\n",
       "      <td>scurvy/ skin spots</td>\n",
       "    </tr>\n",
       "    <tr>\n",
       "      <th>9</th>\n",
       "      <td>nyctalopia/ keratomalacia/ blindness</td>\n",
       "    </tr>\n",
       "    <tr>\n",
       "      <th>10</th>\n",
       "      <td>rickets/ weakening of bones</td>\n",
       "    </tr>\n",
       "    <tr>\n",
       "      <th>11</th>\n",
       "      <td>decreased coagulation of blood</td>\n",
       "    </tr>\n",
       "    <tr>\n",
       "      <th>12</th>\n",
       "      <td>weakness/ muscle weakness/ nerve weakness</td>\n",
       "    </tr>\n",
       "    <tr>\n",
       "      <th>13</th>\n",
       "      <td>fatigue/ osteopenia</td>\n",
       "    </tr>\n",
       "    <tr>\n",
       "      <th>14</th>\n",
       "      <td>anaemia/ feeling weak and tired</td>\n",
       "    </tr>\n",
       "    <tr>\n",
       "      <th>15</th>\n",
       "      <td>weakness/ nausea/ vomiting</td>\n",
       "    </tr>\n",
       "    <tr>\n",
       "      <th>16</th>\n",
       "      <td>vomiting/ kidney disease</td>\n",
       "    </tr>\n",
       "    <tr>\n",
       "      <th>17</th>\n",
       "      <td>loss of taste, smell</td>\n",
       "    </tr>\n",
       "    <tr>\n",
       "      <th>18</th>\n",
       "      <td>goitre</td>\n",
       "    </tr>\n",
       "    <tr>\n",
       "      <th>19</th>\n",
       "      <td>hyponatremia/ dehydration/ heart diseases</td>\n",
       "    </tr>\n",
       "    <tr>\n",
       "      <th>20</th>\n",
       "      <td>underdeveloped teeth and bones</td>\n",
       "    </tr>\n",
       "    <tr>\n",
       "      <th>21</th>\n",
       "      <td>atherosclerosis/ heart diseases/ muscle contra...</td>\n",
       "    </tr>\n",
       "  </tbody>\n",
       "</table>\n",
       "</div>"
      ],
      "text/plain": [
       "                                             diseases\n",
       "0                     beriberi/ weight loss/ weakness\n",
       "1   anaemia/ angular cheilitis/ chapped/ cracked lips\n",
       "2           pellagra/ diarrhoea/ dermatitis/ dementia\n",
       "3                       fatigue/ apathy/ irritability\n",
       "4   anaemia/ dermatitis/ celiac disease/ crohn/ ki...\n",
       "5                                         skin health\n",
       "6                                 neural tube defects\n",
       "7                     anaemia/ methylmalonic acidemia\n",
       "8                                  scurvy/ skin spots\n",
       "9                nyctalopia/ keratomalacia/ blindness\n",
       "10                        rickets/ weakening of bones\n",
       "11                     decreased coagulation of blood\n",
       "12          weakness/ muscle weakness/ nerve weakness\n",
       "13                                fatigue/ osteopenia\n",
       "14                    anaemia/ feeling weak and tired\n",
       "15                         weakness/ nausea/ vomiting\n",
       "16                           vomiting/ kidney disease\n",
       "17                               loss of taste, smell\n",
       "18                                             goitre\n",
       "19          hyponatremia/ dehydration/ heart diseases\n",
       "20                     underdeveloped teeth and bones\n",
       "21  atherosclerosis/ heart diseases/ muscle contra..."
      ]
     },
     "execution_count": 1392,
     "metadata": {},
     "output_type": "execute_result"
    }
   ],
   "source": [
    "enf = ex.df_diseases (lista)\n",
    "enf.columns=[\"diseases\"]\n",
    "enf"
   ]
  },
  {
   "attachments": {},
   "cell_type": "markdown",
   "metadata": {},
   "source": [
    "Merging the frames."
   ]
  },
  {
   "cell_type": "code",
   "execution_count": 1393,
   "metadata": {},
   "outputs": [
    {
     "data": {
      "text/html": [
       "<div>\n",
       "<style scoped>\n",
       "    .dataframe tbody tr th:only-of-type {\n",
       "        vertical-align: middle;\n",
       "    }\n",
       "\n",
       "    .dataframe tbody tr th {\n",
       "        vertical-align: top;\n",
       "    }\n",
       "\n",
       "    .dataframe thead th {\n",
       "        text-align: right;\n",
       "    }\n",
       "</style>\n",
       "<table border=\"1\" class=\"dataframe\">\n",
       "  <thead>\n",
       "    <tr style=\"text-align: right;\">\n",
       "      <th></th>\n",
       "      <th>nutrients</th>\n",
       "      <th>diseases</th>\n",
       "      <th>info</th>\n",
       "    </tr>\n",
       "  </thead>\n",
       "  <tbody>\n",
       "    <tr>\n",
       "      <th>0</th>\n",
       "      <td>thiamine (vitamin b1)</td>\n",
       "      <td>beriberi/ weight loss/ weakness</td>\n",
       "      <td>severe deficiency causes beriberi with symptom...</td>\n",
       "    </tr>\n",
       "    <tr>\n",
       "      <th>1</th>\n",
       "      <td>riboflavin (vitamin b2)</td>\n",
       "      <td>anaemia/ angular cheilitis/ chapped/ cracked lips</td>\n",
       "      <td>the deficiency of this vitamin causes angular ...</td>\n",
       "    </tr>\n",
       "    <tr>\n",
       "      <th>2</th>\n",
       "      <td>niacin (vitamin b3)</td>\n",
       "      <td>pellagra/ diarrhoea/ dermatitis/ dementia</td>\n",
       "      <td>causes pellagra which is a life-threatening di...</td>\n",
       "    </tr>\n",
       "    <tr>\n",
       "      <th>3</th>\n",
       "      <td>pantothenic acid (vitamin b5)</td>\n",
       "      <td>fatigue/ apathy/ irritability</td>\n",
       "      <td>vitamin b5 deficiency is rare and the symptoms...</td>\n",
       "    </tr>\n",
       "    <tr>\n",
       "      <th>4</th>\n",
       "      <td>vitamin b6</td>\n",
       "      <td>anaemia/ dermatitis/ celiac disease/ crohn/ ki...</td>\n",
       "      <td>end-stage kidney diseases such as celiac disea...</td>\n",
       "    </tr>\n",
       "    <tr>\n",
       "      <th>5</th>\n",
       "      <td>biotin (vitamin b7)</td>\n",
       "      <td>skin health</td>\n",
       "      <td>the deficiency affects the growth of hair and ...</td>\n",
       "    </tr>\n",
       "    <tr>\n",
       "      <th>6</th>\n",
       "      <td>folate (vitamin b9)</td>\n",
       "      <td>neural tube defects</td>\n",
       "      <td>it is very common and the deficiency is associ...</td>\n",
       "    </tr>\n",
       "    <tr>\n",
       "      <th>7</th>\n",
       "      <td>vitamin b12</td>\n",
       "      <td>anaemia/ methylmalonic acidemia</td>\n",
       "      <td>deficiency of this disease leads to pernicious...</td>\n",
       "    </tr>\n",
       "    <tr>\n",
       "      <th>8</th>\n",
       "      <td>ascorbic acid (vitamin c)</td>\n",
       "      <td>scurvy/ skin spots</td>\n",
       "      <td>deficiency results in scurvy and the symptoms ...</td>\n",
       "    </tr>\n",
       "    <tr>\n",
       "      <th>9</th>\n",
       "      <td>retinol (vitamin a)</td>\n",
       "      <td>nyctalopia/ keratomalacia/ blindness</td>\n",
       "      <td>the deficiency causes night blindness or nycta...</td>\n",
       "    </tr>\n",
       "    <tr>\n",
       "      <th>10</th>\n",
       "      <td>calciferol (vitamin d)</td>\n",
       "      <td>rickets/ weakening of bones</td>\n",
       "      <td>it causes a disease known as rickets. the symp...</td>\n",
       "    </tr>\n",
       "    <tr>\n",
       "      <th>11</th>\n",
       "      <td>phylloquinone (vitamin k)</td>\n",
       "      <td>decreased coagulation of blood</td>\n",
       "      <td>the deficiency of vitamin k leads to decreased...</td>\n",
       "    </tr>\n",
       "    <tr>\n",
       "      <th>12</th>\n",
       "      <td>tocopherol (vitamin e)</td>\n",
       "      <td>weakness/ muscle weakness/ nerve weakness</td>\n",
       "      <td>the major problems associated are muscle and n...</td>\n",
       "    </tr>\n",
       "    <tr>\n",
       "      <th>13</th>\n",
       "      <td>calcium</td>\n",
       "      <td>fatigue/ osteopenia</td>\n",
       "      <td>the deficiency of calcium leads to decreased c...</td>\n",
       "    </tr>\n",
       "    <tr>\n",
       "      <th>14</th>\n",
       "      <td>iron deficiency</td>\n",
       "      <td>anaemia/ feeling weak and tired</td>\n",
       "      <td>iron deficiency in the body results in anaemia...</td>\n",
       "    </tr>\n",
       "    <tr>\n",
       "      <th>15</th>\n",
       "      <td>magnesium deficiency</td>\n",
       "      <td>weakness/ nausea/ vomiting</td>\n",
       "      <td>magnesium deficiency is uncommon. however, in ...</td>\n",
       "    </tr>\n",
       "    <tr>\n",
       "      <th>16</th>\n",
       "      <td>potassium deficiency</td>\n",
       "      <td>vomiting/ kidney disease</td>\n",
       "      <td>the common cause of potassium deficiency is ex...</td>\n",
       "    </tr>\n",
       "    <tr>\n",
       "      <th>17</th>\n",
       "      <td>zinc</td>\n",
       "      <td>loss of taste, smell</td>\n",
       "      <td>zinc deficiency causes loss of taste, smell, a...</td>\n",
       "    </tr>\n",
       "    <tr>\n",
       "      <th>18</th>\n",
       "      <td>iodine</td>\n",
       "      <td>goitre</td>\n",
       "      <td>the deficiency of this mineral can result in g...</td>\n",
       "    </tr>\n",
       "    <tr>\n",
       "      <th>19</th>\n",
       "      <td>sodium</td>\n",
       "      <td>hyponatremia/ dehydration/ heart diseases</td>\n",
       "      <td>sodium deficiency is also known as hyponatremi...</td>\n",
       "    </tr>\n",
       "    <tr>\n",
       "      <th>20</th>\n",
       "      <td>phosphorus</td>\n",
       "      <td>underdeveloped teeth and bones</td>\n",
       "      <td>the deficiency of phosphorus leads to the form...</td>\n",
       "    </tr>\n",
       "    <tr>\n",
       "      <th>21</th>\n",
       "      <td>manganese</td>\n",
       "      <td>atherosclerosis/ heart diseases/ muscle contra...</td>\n",
       "      <td>manganese is important for bone growth and car...</td>\n",
       "    </tr>\n",
       "  </tbody>\n",
       "</table>\n",
       "</div>"
      ],
      "text/plain": [
       "                        nutrients  \\\n",
       "0           thiamine (vitamin b1)   \n",
       "1         riboflavin (vitamin b2)   \n",
       "2             niacin (vitamin b3)   \n",
       "3   pantothenic acid (vitamin b5)   \n",
       "4                      vitamin b6   \n",
       "5             biotin (vitamin b7)   \n",
       "6             folate (vitamin b9)   \n",
       "7                     vitamin b12   \n",
       "8       ascorbic acid (vitamin c)   \n",
       "9             retinol (vitamin a)   \n",
       "10         calciferol (vitamin d)   \n",
       "11      phylloquinone (vitamin k)   \n",
       "12         tocopherol (vitamin e)   \n",
       "13                        calcium   \n",
       "14                iron deficiency   \n",
       "15           magnesium deficiency   \n",
       "16           potassium deficiency   \n",
       "17                           zinc   \n",
       "18                         iodine   \n",
       "19                         sodium   \n",
       "20                     phosphorus   \n",
       "21                      manganese   \n",
       "\n",
       "                                             diseases  \\\n",
       "0                     beriberi/ weight loss/ weakness   \n",
       "1   anaemia/ angular cheilitis/ chapped/ cracked lips   \n",
       "2           pellagra/ diarrhoea/ dermatitis/ dementia   \n",
       "3                       fatigue/ apathy/ irritability   \n",
       "4   anaemia/ dermatitis/ celiac disease/ crohn/ ki...   \n",
       "5                                         skin health   \n",
       "6                                 neural tube defects   \n",
       "7                     anaemia/ methylmalonic acidemia   \n",
       "8                                  scurvy/ skin spots   \n",
       "9                nyctalopia/ keratomalacia/ blindness   \n",
       "10                        rickets/ weakening of bones   \n",
       "11                     decreased coagulation of blood   \n",
       "12          weakness/ muscle weakness/ nerve weakness   \n",
       "13                                fatigue/ osteopenia   \n",
       "14                    anaemia/ feeling weak and tired   \n",
       "15                         weakness/ nausea/ vomiting   \n",
       "16                           vomiting/ kidney disease   \n",
       "17                               loss of taste, smell   \n",
       "18                                             goitre   \n",
       "19          hyponatremia/ dehydration/ heart diseases   \n",
       "20                     underdeveloped teeth and bones   \n",
       "21  atherosclerosis/ heart diseases/ muscle contra...   \n",
       "\n",
       "                                                 info  \n",
       "0   severe deficiency causes beriberi with symptom...  \n",
       "1   the deficiency of this vitamin causes angular ...  \n",
       "2   causes pellagra which is a life-threatening di...  \n",
       "3   vitamin b5 deficiency is rare and the symptoms...  \n",
       "4   end-stage kidney diseases such as celiac disea...  \n",
       "5   the deficiency affects the growth of hair and ...  \n",
       "6   it is very common and the deficiency is associ...  \n",
       "7   deficiency of this disease leads to pernicious...  \n",
       "8   deficiency results in scurvy and the symptoms ...  \n",
       "9   the deficiency causes night blindness or nycta...  \n",
       "10  it causes a disease known as rickets. the symp...  \n",
       "11  the deficiency of vitamin k leads to decreased...  \n",
       "12  the major problems associated are muscle and n...  \n",
       "13  the deficiency of calcium leads to decreased c...  \n",
       "14  iron deficiency in the body results in anaemia...  \n",
       "15  magnesium deficiency is uncommon. however, in ...  \n",
       "16  the common cause of potassium deficiency is ex...  \n",
       "17  zinc deficiency causes loss of taste, smell, a...  \n",
       "18  the deficiency of this mineral can result in g...  \n",
       "19  sodium deficiency is also known as hyponatremi...  \n",
       "20  the deficiency of phosphorus leads to the form...  \n",
       "21  manganese is important for bone growth and car...  "
      ]
     },
     "execution_count": 1393,
     "metadata": {},
     "output_type": "execute_result"
    }
   ],
   "source": [
    "disess = ex.df_concat (df, enf)\n",
    "disess = disess.reindex(columns = ['nutrients','diseases','info'])\n",
    "disess"
   ]
  },
  {
   "cell_type": "code",
   "execution_count": null,
   "metadata": {},
   "outputs": [],
   "source": []
  }
 ],
 "metadata": {
  "kernelspec": {
   "display_name": "ironhack",
   "language": "python",
   "name": "python3"
  },
  "language_info": {
   "codemirror_mode": {
    "name": "ipython",
    "version": 3
   },
   "file_extension": ".py",
   "mimetype": "text/x-python",
   "name": "python",
   "nbconvert_exporter": "python",
   "pygments_lexer": "ipython3",
   "version": "3.10.4"
  },
  "orig_nbformat": 4,
  "vscode": {
   "interpreter": {
    "hash": "91a84e6b8351ad3ec71ce9fb2308d8cc98e807eebbcac368689e5c7e13990fb4"
   }
  }
 },
 "nbformat": 4,
 "nbformat_minor": 2
}
