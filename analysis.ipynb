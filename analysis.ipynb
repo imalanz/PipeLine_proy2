{
 "cells": [
  {
   "attachments": {},
   "cell_type": "markdown",
   "metadata": {},
   "source": [
    "# Analysis."
   ]
  },
  {
   "cell_type": "code",
   "execution_count": 128,
   "metadata": {},
   "outputs": [
    {
     "data": {
      "text/plain": [
       "<module 'src.extraction' from 'd:\\\\ironhack\\\\proyectos\\\\PipeLine_proy2\\\\src\\\\extraction.py'>"
      ]
     },
     "execution_count": 128,
     "metadata": {},
     "output_type": "execute_result"
    }
   ],
   "source": [
    "import pandas as pd\n",
    "from pandas import json_normalize\n",
    "\n",
    "import requests \n",
    "import json\n",
    "import os\n",
    "from dotenv import load_dotenv #conda install -c conda-forge python-dotenv\n",
    "\n",
    "import time\n",
    "import importlib\n",
    "import src.extraction as ex\n",
    "importlib.reload(ex)"
   ]
  },
  {
   "attachments": {},
   "cell_type": "markdown",
   "metadata": {},
   "source": [
    "## 1. USDA food database.\n",
    "### 1.1. Exploration."
   ]
  },
  {
   "attachments": {},
   "cell_type": "markdown",
   "metadata": {},
   "source": [
    "Did a research of all the USDA csv files and select only the more relevant for this proyect, they have a lot of information about comples dishes, lab tests, market prices, etc. 1. Searching for the right tables with value information for the proyect. 2. Cleaning each table, droping the columns and probably some rows with no need it information. ----try to merge it in python by changing the name of tha columns to the same in each. exported as csv 3. Merge the tables -- prbably on SQL exported again in csv and put it back on python."
   ]
  },
  {
   "attachments": {},
   "cell_type": "markdown",
   "metadata": {},
   "source": [
    "#### 1.1.1. \"Food csv\".\n",
    "Data frame of food, it has its id number and name of food."
   ]
  },
  {
   "cell_type": "code",
   "execution_count": 129,
   "metadata": {},
   "outputs": [],
   "source": [
    "url = \"D:\\ironhack\\proyectos\\PipeLine_proy2\\\\USDA_main_csv\\\\food.csv\""
   ]
  },
  {
   "cell_type": "code",
   "execution_count": 130,
   "metadata": {},
   "outputs": [
    {
     "data": {
      "text/html": [
       "<div>\n",
       "<style scoped>\n",
       "    .dataframe tbody tr th:only-of-type {\n",
       "        vertical-align: middle;\n",
       "    }\n",
       "\n",
       "    .dataframe tbody tr th {\n",
       "        vertical-align: top;\n",
       "    }\n",
       "\n",
       "    .dataframe thead th {\n",
       "        text-align: right;\n",
       "    }\n",
       "</style>\n",
       "<table border=\"1\" class=\"dataframe\">\n",
       "  <thead>\n",
       "    <tr style=\"text-align: right;\">\n",
       "      <th></th>\n",
       "      <th>fdc_id</th>\n",
       "      <th>data_type</th>\n",
       "      <th>description</th>\n",
       "      <th>food_category_id</th>\n",
       "      <th>publication_date</th>\n",
       "    </tr>\n",
       "  </thead>\n",
       "  <tbody>\n",
       "    <tr>\n",
       "      <th>136849</th>\n",
       "      <td>424416</td>\n",
       "      <td>branded_food</td>\n",
       "      <td>GIANT, CANDY CANES, CHERRY</td>\n",
       "      <td>NaN</td>\n",
       "      <td>2019-04-01</td>\n",
       "    </tr>\n",
       "  </tbody>\n",
       "</table>\n",
       "</div>"
      ],
      "text/plain": [
       "        fdc_id     data_type                 description  food_category_id  \\\n",
       "136849  424416  branded_food  GIANT, CANDY CANES, CHERRY               NaN   \n",
       "\n",
       "       publication_date  \n",
       "136849       2019-04-01  "
      ]
     },
     "execution_count": 130,
     "metadata": {},
     "output_type": "execute_result"
    }
   ],
   "source": [
    "food = ex.import_csv (url)\n",
    "food.sample()"
   ]
  },
  {
   "cell_type": "code",
   "execution_count": 131,
   "metadata": {},
   "outputs": [
    {
     "data": {
      "text/plain": [
       "(1185090, 5)"
      ]
     },
     "execution_count": 131,
     "metadata": {},
     "output_type": "execute_result"
    }
   ],
   "source": [
    "food.shape"
   ]
  },
  {
   "attachments": {},
   "cell_type": "markdown",
   "metadata": {},
   "source": [
    "##### 1.1.1.1. Deleting.\n",
    "Will remove the \"food_category_id\", \"data_type\" and the \"publication_date\" column and try to remove the index column, it appears that it does not do much, it doest have a column name for identification"
   ]
  },
  {
   "cell_type": "code",
   "execution_count": 132,
   "metadata": {},
   "outputs": [
    {
     "data": {
      "text/html": [
       "<div>\n",
       "<style scoped>\n",
       "    .dataframe tbody tr th:only-of-type {\n",
       "        vertical-align: middle;\n",
       "    }\n",
       "\n",
       "    .dataframe tbody tr th {\n",
       "        vertical-align: top;\n",
       "    }\n",
       "\n",
       "    .dataframe thead th {\n",
       "        text-align: right;\n",
       "    }\n",
       "</style>\n",
       "<table border=\"1\" class=\"dataframe\">\n",
       "  <thead>\n",
       "    <tr style=\"text-align: right;\">\n",
       "      <th></th>\n",
       "      <th>fdc_id</th>\n",
       "      <th>description</th>\n",
       "    </tr>\n",
       "  </thead>\n",
       "  <tbody>\n",
       "    <tr>\n",
       "      <th>0</th>\n",
       "      <td>1105904</td>\n",
       "      <td>WESSON Vegetable Oil 1 GAL</td>\n",
       "    </tr>\n",
       "    <tr>\n",
       "      <th>1</th>\n",
       "      <td>1105905</td>\n",
       "      <td>SWANSON BROTH BEEF</td>\n",
       "    </tr>\n",
       "    <tr>\n",
       "      <th>2</th>\n",
       "      <td>1105906</td>\n",
       "      <td>CAMPBELL'S SLOW KETTLE SOUP CLAM CHOWDER</td>\n",
       "    </tr>\n",
       "    <tr>\n",
       "      <th>3</th>\n",
       "      <td>1105907</td>\n",
       "      <td>CAMPBELL'S SLOW KETTLE SOUP CHEESE BROCCOLI</td>\n",
       "    </tr>\n",
       "    <tr>\n",
       "      <th>4</th>\n",
       "      <td>1105898</td>\n",
       "      <td>Discrepancy between the Atwater factor predict...</td>\n",
       "    </tr>\n",
       "    <tr>\n",
       "      <th>...</th>\n",
       "      <td>...</td>\n",
       "      <td>...</td>\n",
       "    </tr>\n",
       "    <tr>\n",
       "      <th>1185077</th>\n",
       "      <td>1757377</td>\n",
       "      <td>MUSHROOMS, SHIITAKE</td>\n",
       "    </tr>\n",
       "    <tr>\n",
       "      <th>1185078</th>\n",
       "      <td>1757378</td>\n",
       "      <td>MUSHROOMS, SHIITAKE</td>\n",
       "    </tr>\n",
       "    <tr>\n",
       "      <th>1185079</th>\n",
       "      <td>1757379</td>\n",
       "      <td>MUSHROOMS, SHIITAKE</td>\n",
       "    </tr>\n",
       "    <tr>\n",
       "      <th>1185080</th>\n",
       "      <td>1757380</td>\n",
       "      <td>MUSHROOMS, SHIITAKE</td>\n",
       "    </tr>\n",
       "    <tr>\n",
       "      <th>1185081</th>\n",
       "      <td>1757381</td>\n",
       "      <td>MUSHROOMS, SHIITAKE</td>\n",
       "    </tr>\n",
       "  </tbody>\n",
       "</table>\n",
       "<p>1185081 rows × 2 columns</p>\n",
       "</div>"
      ],
      "text/plain": [
       "          fdc_id                                        description\n",
       "0        1105904                         WESSON Vegetable Oil 1 GAL\n",
       "1        1105905                                 SWANSON BROTH BEEF\n",
       "2        1105906           CAMPBELL'S SLOW KETTLE SOUP CLAM CHOWDER\n",
       "3        1105907        CAMPBELL'S SLOW KETTLE SOUP CHEESE BROCCOLI\n",
       "4        1105898  Discrepancy between the Atwater factor predict...\n",
       "...          ...                                                ...\n",
       "1185077  1757377                                MUSHROOMS, SHIITAKE\n",
       "1185078  1757378                                MUSHROOMS, SHIITAKE\n",
       "1185079  1757379                                MUSHROOMS, SHIITAKE\n",
       "1185080  1757380                                MUSHROOMS, SHIITAKE\n",
       "1185081  1757381                                MUSHROOMS, SHIITAKE\n",
       "\n",
       "[1185081 rows x 2 columns]"
      ]
     },
     "execution_count": 132,
     "metadata": {},
     "output_type": "execute_result"
    }
   ],
   "source": [
    "food = ex.delete_food (food)\n",
    "food"
   ]
  },
  {
   "cell_type": "code",
   "execution_count": 133,
   "metadata": {},
   "outputs": [
    {
     "data": {
      "text/plain": [
       "0"
      ]
     },
     "execution_count": 133,
     "metadata": {},
     "output_type": "execute_result"
    }
   ],
   "source": [
    "food.duplicated().sum()"
   ]
  },
  {
   "attachments": {},
   "cell_type": "markdown",
   "metadata": {},
   "source": [
    "#### 1.1.2. \"Nutrients Table\".\n",
    "In this table can relate the data of nutrients and in wich food they are. they specifie the mount of the nutrient per 100g of food. Specified in unit defined in the nutrient table."
   ]
  },
  {
   "cell_type": "code",
   "execution_count": 134,
   "metadata": {},
   "outputs": [
    {
     "data": {
      "text/html": [
       "<div>\n",
       "<style scoped>\n",
       "    .dataframe tbody tr th:only-of-type {\n",
       "        vertical-align: middle;\n",
       "    }\n",
       "\n",
       "    .dataframe tbody tr th {\n",
       "        vertical-align: top;\n",
       "    }\n",
       "\n",
       "    .dataframe thead th {\n",
       "        text-align: right;\n",
       "    }\n",
       "</style>\n",
       "<table border=\"1\" class=\"dataframe\">\n",
       "  <thead>\n",
       "    <tr style=\"text-align: right;\">\n",
       "      <th></th>\n",
       "      <th>id</th>\n",
       "      <th>name</th>\n",
       "      <th>unit_name</th>\n",
       "      <th>nutrient_nbr</th>\n",
       "      <th>rank</th>\n",
       "    </tr>\n",
       "  </thead>\n",
       "  <tbody>\n",
       "    <tr>\n",
       "      <th>302</th>\n",
       "      <td>1306</td>\n",
       "      <td>TFA 18:2 t not further defined</td>\n",
       "      <td>G</td>\n",
       "      <td>665.0</td>\n",
       "      <td>15610.0</td>\n",
       "    </tr>\n",
       "  </tbody>\n",
       "</table>\n",
       "</div>"
      ],
      "text/plain": [
       "       id                            name unit_name  nutrient_nbr     rank\n",
       "302  1306  TFA 18:2 t not further defined         G         665.0  15610.0"
      ]
     },
     "execution_count": 134,
     "metadata": {},
     "output_type": "execute_result"
    }
   ],
   "source": [
    "url2 = \"D:\\ironhack\\proyectos\\PipeLine_proy2\\\\USDA_main_csv\\\\nutrient.csv\"\n",
    "nutrient = ex.import_csv(url2)\n",
    "nutrient.sample()"
   ]
  },
  {
   "cell_type": "code",
   "execution_count": 135,
   "metadata": {},
   "outputs": [
    {
     "data": {
      "text/plain": [
       "(463, 5)"
      ]
     },
     "execution_count": 135,
     "metadata": {},
     "output_type": "execute_result"
    }
   ],
   "source": [
    "nutrient.shape"
   ]
  },
  {
   "attachments": {},
   "cell_type": "markdown",
   "metadata": {},
   "source": [
    "##### 1.1.2.1. Deleting.\n",
    "will delete must of the columns, except name and id, but will create a copy so i dont lose the information, could help me in the future."
   ]
  },
  {
   "cell_type": "code",
   "execution_count": 136,
   "metadata": {},
   "outputs": [
    {
     "data": {
      "text/html": [
       "<div>\n",
       "<style scoped>\n",
       "    .dataframe tbody tr th:only-of-type {\n",
       "        vertical-align: middle;\n",
       "    }\n",
       "\n",
       "    .dataframe tbody tr th {\n",
       "        vertical-align: top;\n",
       "    }\n",
       "\n",
       "    .dataframe thead th {\n",
       "        text-align: right;\n",
       "    }\n",
       "</style>\n",
       "<table border=\"1\" class=\"dataframe\">\n",
       "  <thead>\n",
       "    <tr style=\"text-align: right;\">\n",
       "      <th></th>\n",
       "      <th>id</th>\n",
       "      <th>name</th>\n",
       "    </tr>\n",
       "  </thead>\n",
       "  <tbody>\n",
       "    <tr>\n",
       "      <th>206</th>\n",
       "      <td>1209</td>\n",
       "      <td>Polyphenols, total</td>\n",
       "    </tr>\n",
       "  </tbody>\n",
       "</table>\n",
       "</div>"
      ],
      "text/plain": [
       "       id                name\n",
       "206  1209  Polyphenols, total"
      ]
     },
     "execution_count": 136,
     "metadata": {},
     "output_type": "execute_result"
    }
   ],
   "source": [
    "nutrient = ex.delete_nutrient (nutrient)\n",
    "nutrient.sample()"
   ]
  },
  {
   "cell_type": "code",
   "execution_count": 137,
   "metadata": {},
   "outputs": [
    {
     "data": {
      "text/plain": [
       "(463, 2)"
      ]
     },
     "execution_count": 137,
     "metadata": {},
     "output_type": "execute_result"
    }
   ],
   "source": [
    "nutrient.shape"
   ]
  },
  {
   "attachments": {},
   "cell_type": "markdown",
   "metadata": {},
   "source": [
    "#### 1.1.3. \"Food_id Nutrient_id\"\n",
    "This table doesn´t appear in the information docs, but it loocks really helfull allready matching the nutrient with the food and the portion per 100g. Wont delete any column, but will start to change names of each Data Frame to matched them later. "
   ]
  },
  {
   "cell_type": "code",
   "execution_count": 138,
   "metadata": {},
   "outputs": [
    {
     "data": {
      "text/html": [
       "<div>\n",
       "<style scoped>\n",
       "    .dataframe tbody tr th:only-of-type {\n",
       "        vertical-align: middle;\n",
       "    }\n",
       "\n",
       "    .dataframe tbody tr th {\n",
       "        vertical-align: top;\n",
       "    }\n",
       "\n",
       "    .dataframe thead th {\n",
       "        text-align: right;\n",
       "    }\n",
       "</style>\n",
       "<table border=\"1\" class=\"dataframe\">\n",
       "  <thead>\n",
       "    <tr style=\"text-align: right;\">\n",
       "      <th></th>\n",
       "      <th>FoodId</th>\n",
       "      <th>NutrientId</th>\n",
       "      <th>Per100g</th>\n",
       "    </tr>\n",
       "  </thead>\n",
       "  <tbody>\n",
       "    <tr>\n",
       "      <th>9342109</th>\n",
       "      <td>1284840</td>\n",
       "      <td>203</td>\n",
       "      <td>0.0</td>\n",
       "    </tr>\n",
       "  </tbody>\n",
       "</table>\n",
       "</div>"
      ],
      "text/plain": [
       "          FoodId  NutrientId  Per100g \n",
       "9342109  1284840         203       0.0"
      ]
     },
     "execution_count": 138,
     "metadata": {},
     "output_type": "execute_result"
    }
   ],
   "source": [
    "url3 = \"D:\\ironhack\\proyectos\\PipeLine_proy2\\\\USDA_main_csv\\\\JCS_FoodId-NutrientId-Per100g.csv\"\n",
    "ides = ex.import_csv (url3)\n",
    "ides.sample()"
   ]
  },
  {
   "attachments": {},
   "cell_type": "markdown",
   "metadata": {},
   "source": [
    "### 1.2. Merging.\n",
    "Will merge all data frames into one, will chose the right tables for it and clean it more.\n",
    "\n",
    "Looking for same elements in different tables at the ID rows, will change the names to matched them."
   ]
  },
  {
   "attachments": {},
   "cell_type": "markdown",
   "metadata": {},
   "source": [
    "#### 1.2.1. Rename."
   ]
  },
  {
   "cell_type": "code",
   "execution_count": 139,
   "metadata": {},
   "outputs": [
    {
     "data": {
      "text/html": [
       "<div>\n",
       "<style scoped>\n",
       "    .dataframe tbody tr th:only-of-type {\n",
       "        vertical-align: middle;\n",
       "    }\n",
       "\n",
       "    .dataframe tbody tr th {\n",
       "        vertical-align: top;\n",
       "    }\n",
       "\n",
       "    .dataframe thead th {\n",
       "        text-align: right;\n",
       "    }\n",
       "</style>\n",
       "<table border=\"1\" class=\"dataframe\">\n",
       "  <thead>\n",
       "    <tr style=\"text-align: right;\">\n",
       "      <th></th>\n",
       "      <th>food_id</th>\n",
       "      <th>food</th>\n",
       "    </tr>\n",
       "  </thead>\n",
       "  <tbody>\n",
       "    <tr>\n",
       "      <th>1021610</th>\n",
       "      <td>1593909</td>\n",
       "      <td>GUMMY BEARS</td>\n",
       "    </tr>\n",
       "  </tbody>\n",
       "</table>\n",
       "</div>"
      ],
      "text/plain": [
       "         food_id         food\n",
       "1021610  1593909  GUMMY BEARS"
      ]
     },
     "execution_count": 139,
     "metadata": {},
     "output_type": "execute_result"
    }
   ],
   "source": [
    "# change decription to food\n",
    "# change fdc_id to food_id\n",
    "food.rename(columns= {\"fdc_id\" : \"food_id\", \"description\" : \"food\"}, inplace=True)\n",
    "food.sample()"
   ]
  },
  {
   "cell_type": "code",
   "execution_count": 140,
   "metadata": {},
   "outputs": [
    {
     "data": {
      "text/html": [
       "<div>\n",
       "<style scoped>\n",
       "    .dataframe tbody tr th:only-of-type {\n",
       "        vertical-align: middle;\n",
       "    }\n",
       "\n",
       "    .dataframe tbody tr th {\n",
       "        vertical-align: top;\n",
       "    }\n",
       "\n",
       "    .dataframe thead th {\n",
       "        text-align: right;\n",
       "    }\n",
       "</style>\n",
       "<table border=\"1\" class=\"dataframe\">\n",
       "  <thead>\n",
       "    <tr style=\"text-align: right;\">\n",
       "      <th></th>\n",
       "      <th>food_id</th>\n",
       "      <th>nutrient_id</th>\n",
       "      <th>Per100g</th>\n",
       "    </tr>\n",
       "  </thead>\n",
       "  <tbody>\n",
       "    <tr>\n",
       "      <th>7074024</th>\n",
       "      <td>1095997</td>\n",
       "      <td>1008</td>\n",
       "      <td>367.0</td>\n",
       "    </tr>\n",
       "  </tbody>\n",
       "</table>\n",
       "</div>"
      ],
      "text/plain": [
       "         food_id  nutrient_id  Per100g\n",
       "7074024  1095997         1008    367.0"
      ]
     },
     "execution_count": 140,
     "metadata": {},
     "output_type": "execute_result"
    }
   ],
   "source": [
    "#change NutrientId to nutrient_id\n",
    "#change foodId to food_id\n",
    "ides.rename(columns= {\"FoodId\" : \"food_id\", \"NutrientId\" : \"nutrient_id\", 'Per100g ' : \"Per100g\"}, inplace=True)\n",
    "ides.sample()"
   ]
  },
  {
   "cell_type": "code",
   "execution_count": 141,
   "metadata": {},
   "outputs": [
    {
     "data": {
      "text/html": [
       "<div>\n",
       "<style scoped>\n",
       "    .dataframe tbody tr th:only-of-type {\n",
       "        vertical-align: middle;\n",
       "    }\n",
       "\n",
       "    .dataframe tbody tr th {\n",
       "        vertical-align: top;\n",
       "    }\n",
       "\n",
       "    .dataframe thead th {\n",
       "        text-align: right;\n",
       "    }\n",
       "</style>\n",
       "<table border=\"1\" class=\"dataframe\">\n",
       "  <thead>\n",
       "    <tr style=\"text-align: right;\">\n",
       "      <th></th>\n",
       "      <th>nutrient_id</th>\n",
       "      <th>nutrient</th>\n",
       "    </tr>\n",
       "  </thead>\n",
       "  <tbody>\n",
       "    <tr>\n",
       "      <th>72</th>\n",
       "      <td>1074</td>\n",
       "      <td>Xylose</td>\n",
       "    </tr>\n",
       "  </tbody>\n",
       "</table>\n",
       "</div>"
      ],
      "text/plain": [
       "    nutrient_id nutrient\n",
       "72         1074   Xylose"
      ]
     },
     "execution_count": 141,
     "metadata": {},
     "output_type": "execute_result"
    }
   ],
   "source": [
    "# change id to nutrient_id\n",
    "# change name to nutrient\n",
    "nutrient.rename(columns= {\"name\" : \"nutrient\", \"id\" : \"nutrient_id\"}, inplace=True)\n",
    "nutrient.sample()"
   ]
  },
  {
   "attachments": {},
   "cell_type": "markdown",
   "metadata": {},
   "source": [
    "#### 1.2.2. Merge.\n",
    "Will do a inner merge, now with the same column name. also cleaned some other columns by doing drop, the id columns."
   ]
  },
  {
   "cell_type": "code",
   "execution_count": 142,
   "metadata": {},
   "outputs": [
    {
     "name": "stderr",
     "output_type": "stream",
     "text": [
      "d:\\ironhack\\proyectos\\PipeLine_proy2\\src\\extraction.py:37: SettingWithCopyWarning: \n",
      "A value is trying to be set on a copy of a slice from a DataFrame\n",
      "\n",
      "See the caveats in the documentation: https://pandas.pydata.org/pandas-docs/stable/user_guide/indexing.html#returning-a-view-versus-a-copy\n",
      "  usda.drop(columns = [\"food_id\", \"nutrient_id\"], inplace= True, axis=1)\n"
     ]
    },
    {
     "data": {
      "text/html": [
       "<div>\n",
       "<style scoped>\n",
       "    .dataframe tbody tr th:only-of-type {\n",
       "        vertical-align: middle;\n",
       "    }\n",
       "\n",
       "    .dataframe tbody tr th {\n",
       "        vertical-align: top;\n",
       "    }\n",
       "\n",
       "    .dataframe thead th {\n",
       "        text-align: right;\n",
       "    }\n",
       "</style>\n",
       "<table border=\"1\" class=\"dataframe\">\n",
       "  <thead>\n",
       "    <tr style=\"text-align: right;\">\n",
       "      <th></th>\n",
       "      <th>food</th>\n",
       "      <th>nutrient</th>\n",
       "      <th>Per100g</th>\n",
       "    </tr>\n",
       "  </thead>\n",
       "  <tbody>\n",
       "    <tr>\n",
       "      <th>6203663</th>\n",
       "      <td>BUFFALO WING CRUNCHY BROAD BEANS, BUFFALO WING</td>\n",
       "      <td>Sugars, total including NLEA</td>\n",
       "      <td>7.14</td>\n",
       "    </tr>\n",
       "  </tbody>\n",
       "</table>\n",
       "</div>"
      ],
      "text/plain": [
       "                                                   food  \\\n",
       "6203663  BUFFALO WING CRUNCHY BROAD BEANS, BUFFALO WING   \n",
       "\n",
       "                             nutrient  Per100g  \n",
       "6203663  Sugars, total including NLEA     7.14  "
      ]
     },
     "execution_count": 142,
     "metadata": {},
     "output_type": "execute_result"
    }
   ],
   "source": [
    "usda = ex.merge (nutrient, ides, food)\n",
    "usda.sample()"
   ]
  },
  {
   "cell_type": "code",
   "execution_count": 143,
   "metadata": {},
   "outputs": [
    {
     "data": {
      "text/plain": [
       "(7555511, 3)"
      ]
     },
     "execution_count": 143,
     "metadata": {},
     "output_type": "execute_result"
    }
   ],
   "source": [
    "usda.shape"
   ]
  },
  {
   "cell_type": "code",
   "execution_count": 144,
   "metadata": {},
   "outputs": [
    {
     "data": {
      "text/plain": [
       "2243090"
      ]
     },
     "execution_count": 144,
     "metadata": {},
     "output_type": "execute_result"
    }
   ],
   "source": [
    "usda.duplicated().sum()"
   ]
  },
  {
   "cell_type": "code",
   "execution_count": 145,
   "metadata": {},
   "outputs": [
    {
     "data": {
      "text/html": [
       "<div>\n",
       "<style scoped>\n",
       "    .dataframe tbody tr th:only-of-type {\n",
       "        vertical-align: middle;\n",
       "    }\n",
       "\n",
       "    .dataframe tbody tr th {\n",
       "        vertical-align: top;\n",
       "    }\n",
       "\n",
       "    .dataframe thead th {\n",
       "        text-align: right;\n",
       "    }\n",
       "</style>\n",
       "<table border=\"1\" class=\"dataframe\">\n",
       "  <thead>\n",
       "    <tr style=\"text-align: right;\">\n",
       "      <th></th>\n",
       "      <th>food</th>\n",
       "      <th>nutrient</th>\n",
       "      <th>Per100g</th>\n",
       "    </tr>\n",
       "  </thead>\n",
       "  <tbody>\n",
       "    <tr>\n",
       "      <th>0</th>\n",
       "      <td>Hummus</td>\n",
       "      <td>Nitrogen</td>\n",
       "      <td>1.28</td>\n",
       "    </tr>\n",
       "    <tr>\n",
       "      <th>1</th>\n",
       "      <td>Hummus</td>\n",
       "      <td>Total lipid (fat)</td>\n",
       "      <td>19.00</td>\n",
       "    </tr>\n",
       "    <tr>\n",
       "      <th>2</th>\n",
       "      <td>Hummus</td>\n",
       "      <td>Ash</td>\n",
       "      <td>1.98</td>\n",
       "    </tr>\n",
       "    <tr>\n",
       "      <th>3</th>\n",
       "      <td>Hummus</td>\n",
       "      <td>Water</td>\n",
       "      <td>56.30</td>\n",
       "    </tr>\n",
       "    <tr>\n",
       "      <th>4</th>\n",
       "      <td>Hummus</td>\n",
       "      <td>Nitrogen</td>\n",
       "      <td>1.29</td>\n",
       "    </tr>\n",
       "    <tr>\n",
       "      <th>...</th>\n",
       "      <td>...</td>\n",
       "      <td>...</td>\n",
       "      <td>...</td>\n",
       "    </tr>\n",
       "    <tr>\n",
       "      <th>7555478</th>\n",
       "      <td>OIL, OLIVE, EXTRA LIGHT</td>\n",
       "      <td>Delta-7-Stigmastenol</td>\n",
       "      <td>21.90</td>\n",
       "    </tr>\n",
       "    <tr>\n",
       "      <th>7555479</th>\n",
       "      <td>OIL, PEANUT</td>\n",
       "      <td>Stigmastadiene</td>\n",
       "      <td>0.00</td>\n",
       "    </tr>\n",
       "    <tr>\n",
       "      <th>7555487</th>\n",
       "      <td>OIL, SUNFLOWER</td>\n",
       "      <td>Stigmastadiene</td>\n",
       "      <td>0.00</td>\n",
       "    </tr>\n",
       "    <tr>\n",
       "      <th>7555495</th>\n",
       "      <td>OIL, SAFFLOWER</td>\n",
       "      <td>Stigmastadiene</td>\n",
       "      <td>0.00</td>\n",
       "    </tr>\n",
       "    <tr>\n",
       "      <th>7555503</th>\n",
       "      <td>OIL, OLIVE, EXTRA LIGHT</td>\n",
       "      <td>Stigmastadiene</td>\n",
       "      <td>0.00</td>\n",
       "    </tr>\n",
       "  </tbody>\n",
       "</table>\n",
       "<p>5312421 rows × 3 columns</p>\n",
       "</div>"
      ],
      "text/plain": [
       "                            food              nutrient  Per100g\n",
       "0                         Hummus              Nitrogen     1.28\n",
       "1                         Hummus     Total lipid (fat)    19.00\n",
       "2                         Hummus                   Ash     1.98\n",
       "3                         Hummus                 Water    56.30\n",
       "4                         Hummus              Nitrogen     1.29\n",
       "...                          ...                   ...      ...\n",
       "7555478  OIL, OLIVE, EXTRA LIGHT  Delta-7-Stigmastenol    21.90\n",
       "7555479              OIL, PEANUT        Stigmastadiene     0.00\n",
       "7555487           OIL, SUNFLOWER        Stigmastadiene     0.00\n",
       "7555495           OIL, SAFFLOWER        Stigmastadiene     0.00\n",
       "7555503  OIL, OLIVE, EXTRA LIGHT        Stigmastadiene     0.00\n",
       "\n",
       "[5312421 rows x 3 columns]"
      ]
     },
     "execution_count": 145,
     "metadata": {},
     "output_type": "execute_result"
    }
   ],
   "source": [
    "usda.drop_duplicates(keep='first')"
   ]
  },
  {
   "cell_type": "code",
   "execution_count": 146,
   "metadata": {},
   "outputs": [],
   "source": [
    "usda[\"nutrient\"] = [i.strip().replace(\"  \", \" \") for i in list(usda[\"nutrient\"])]\n",
    "usda[\"food\"] = [i.strip().replace(\"  \", \" \") for i in list(usda[\"food\"])]"
   ]
  },
  {
   "cell_type": "code",
   "execution_count": 147,
   "metadata": {},
   "outputs": [],
   "source": [
    "usda.drop_duplicates(subset=['food', 'nutrient'], keep='first', inplace= True)"
   ]
  },
  {
   "cell_type": "code",
   "execution_count": 148,
   "metadata": {},
   "outputs": [
    {
     "data": {
      "text/plain": [
       "(4731512, 3)"
      ]
     },
     "execution_count": 148,
     "metadata": {},
     "output_type": "execute_result"
    }
   ],
   "source": [
    "usda.shape"
   ]
  },
  {
   "cell_type": "code",
   "execution_count": 149,
   "metadata": {},
   "outputs": [
    {
     "data": {
      "text/plain": [
       "0.000        1463803\n",
       "3.570          31016\n",
       "10.000         27565\n",
       "1.000          25760\n",
       "25.000         22938\n",
       "              ...   \n",
       "41.090             1\n",
       "2411.000           1\n",
       "20438.000          1\n",
       "13.606             1\n",
       "12.095             1\n",
       "Name: Per100g, Length: 26134, dtype: int64"
      ]
     },
     "execution_count": 149,
     "metadata": {},
     "output_type": "execute_result"
    }
   ],
   "source": [
    "usda.Per100g.value_counts()"
   ]
  },
  {
   "cell_type": "code",
   "execution_count": 150,
   "metadata": {},
   "outputs": [
    {
     "data": {
      "text/html": [
       "<div>\n",
       "<style scoped>\n",
       "    .dataframe tbody tr th:only-of-type {\n",
       "        vertical-align: middle;\n",
       "    }\n",
       "\n",
       "    .dataframe tbody tr th {\n",
       "        vertical-align: top;\n",
       "    }\n",
       "\n",
       "    .dataframe thead th {\n",
       "        text-align: right;\n",
       "    }\n",
       "</style>\n",
       "<table border=\"1\" class=\"dataframe\">\n",
       "  <thead>\n",
       "    <tr style=\"text-align: right;\">\n",
       "      <th></th>\n",
       "      <th></th>\n",
       "      <th></th>\n",
       "      <th>nutrient</th>\n",
       "    </tr>\n",
       "    <tr>\n",
       "      <th>food</th>\n",
       "      <th>nutrient</th>\n",
       "      <th>nutrient</th>\n",
       "      <th></th>\n",
       "    </tr>\n",
       "  </thead>\n",
       "  <tbody>\n",
       "    <tr>\n",
       "      <th rowspan=\"5\" valign=\"top\">!AJUA!, CAFFEINE FREE SODA, MANDARIN ORANGE</th>\n",
       "      <th>Carbohydrate, by difference</th>\n",
       "      <th>Carbohydrate, by difference</th>\n",
       "      <td>1</td>\n",
       "    </tr>\n",
       "    <tr>\n",
       "      <th>Energy</th>\n",
       "      <th>Energy</th>\n",
       "      <td>1</td>\n",
       "    </tr>\n",
       "    <tr>\n",
       "      <th>Protein</th>\n",
       "      <th>Protein</th>\n",
       "      <td>1</td>\n",
       "    </tr>\n",
       "    <tr>\n",
       "      <th>Sodium, Na</th>\n",
       "      <th>Sodium, Na</th>\n",
       "      <td>1</td>\n",
       "    </tr>\n",
       "    <tr>\n",
       "      <th>Sugars, total including NLEA</th>\n",
       "      <th>Sugars, total including NLEA</th>\n",
       "      <td>1</td>\n",
       "    </tr>\n",
       "    <tr>\n",
       "      <th>...</th>\n",
       "      <th>...</th>\n",
       "      <th>...</th>\n",
       "      <td>...</td>\n",
       "    </tr>\n",
       "    <tr>\n",
       "      <th rowspan=\"5\" valign=\"top\">{TRAIL MIX}</th>\n",
       "      <th>Sodium, Na</th>\n",
       "      <th>Sodium, Na</th>\n",
       "      <td>1</td>\n",
       "    </tr>\n",
       "    <tr>\n",
       "      <th>Sugars, total including NLEA</th>\n",
       "      <th>Sugars, total including NLEA</th>\n",
       "      <td>1</td>\n",
       "    </tr>\n",
       "    <tr>\n",
       "      <th>Total lipid (fat)</th>\n",
       "      <th>Total lipid (fat)</th>\n",
       "      <td>1</td>\n",
       "    </tr>\n",
       "    <tr>\n",
       "      <th>Vitamin A, IU</th>\n",
       "      <th>Vitamin A, IU</th>\n",
       "      <td>1</td>\n",
       "    </tr>\n",
       "    <tr>\n",
       "      <th>Vitamin C, total ascorbic acid</th>\n",
       "      <th>Vitamin C, total ascorbic acid</th>\n",
       "      <td>1</td>\n",
       "    </tr>\n",
       "  </tbody>\n",
       "</table>\n",
       "<p>4731512 rows × 1 columns</p>\n",
       "</div>"
      ],
      "text/plain": [
       "                                                                                                           nutrient\n",
       "food                                        nutrient                       nutrient                                \n",
       "!AJUA!, CAFFEINE FREE SODA, MANDARIN ORANGE Carbohydrate, by difference    Carbohydrate, by difference            1\n",
       "                                            Energy                         Energy                                 1\n",
       "                                            Protein                        Protein                                1\n",
       "                                            Sodium, Na                     Sodium, Na                             1\n",
       "                                            Sugars, total including NLEA   Sugars, total including NLEA           1\n",
       "...                                                                                                             ...\n",
       "{TRAIL MIX}                                 Sodium, Na                     Sodium, Na                             1\n",
       "                                            Sugars, total including NLEA   Sugars, total including NLEA           1\n",
       "                                            Total lipid (fat)              Total lipid (fat)                      1\n",
       "                                            Vitamin A, IU                  Vitamin A, IU                          1\n",
       "                                            Vitamin C, total ascorbic acid Vitamin C, total ascorbic acid         1\n",
       "\n",
       "[4731512 rows x 1 columns]"
      ]
     },
     "execution_count": 150,
     "metadata": {},
     "output_type": "execute_result"
    }
   ],
   "source": [
    "usda[[\"food\", \"Per100g\", \"nutrient\"]].groupby(by=[\"food\", \"nutrient\"]).agg({\"nutrient\":\"value_counts\"})"
   ]
  },
  {
   "attachments": {},
   "cell_type": "markdown",
   "metadata": {},
   "source": [
    "## 2. HEALTH CARE web scraping.\n",
    "### 2.1. Exploration.\n",
    "Got the information from the page vedantu, about some nutrients and what causes the lak of them.\n",
    "#### 2.1.1. Get the link."
   ]
  },
  {
   "cell_type": "code",
   "execution_count": 151,
   "metadata": {},
   "outputs": [
    {
     "data": {
      "text/plain": [
       "<module 'src.extraction' from 'd:\\\\ironhack\\\\proyectos\\\\PipeLine_proy2\\\\src\\\\extraction.py'>"
      ]
     },
     "execution_count": 151,
     "metadata": {},
     "output_type": "execute_result"
    }
   ],
   "source": [
    "import requests\n",
    "from bs4 import BeautifulSoup\n",
    "import pandas as pd\n",
    "import requests\n",
    "import re\n",
    "import lxml\n",
    "import importlib\n",
    "import src.extraction as ex\n",
    "importlib.reload(ex)"
   ]
  },
  {
   "cell_type": "code",
   "execution_count": 152,
   "metadata": {},
   "outputs": [],
   "source": [
    "url = \"https://www.vedantu.com/biology/deficiency-diseases\"\n",
    "tags = ex.get_text(url)"
   ]
  },
  {
   "attachments": {},
   "cell_type": "markdown",
   "metadata": {},
   "source": [
    "Filter the elements to the info we need."
   ]
  },
  {
   "cell_type": "code",
   "execution_count": 153,
   "metadata": {},
   "outputs": [],
   "source": [
    "tag_1 = tags[37:55]\n",
    "tag_2 = tags[60:68]\n",
    "tag_3 = tags[73:91]"
   ]
  },
  {
   "cell_type": "code",
   "execution_count": 154,
   "metadata": {},
   "outputs": [],
   "source": [
    "info_1 = ex.text_filtered(tag_1)\n",
    "info_2 = ex.text_filtered(tag_2)\n",
    "info_3 = ex.text_filtered(tag_3)"
   ]
  },
  {
   "attachments": {},
   "cell_type": "markdown",
   "metadata": {},
   "source": [
    "Creating the lists into a data frame, it made it into a single column frame, had to separate the information into 2 columns, nutrients and the information, and at the end put the 3 data frames into 1."
   ]
  },
  {
   "cell_type": "code",
   "execution_count": 155,
   "metadata": {},
   "outputs": [
    {
     "data": {
      "text/html": [
       "<div>\n",
       "<style scoped>\n",
       "    .dataframe tbody tr th:only-of-type {\n",
       "        vertical-align: middle;\n",
       "    }\n",
       "\n",
       "    .dataframe tbody tr th {\n",
       "        vertical-align: top;\n",
       "    }\n",
       "\n",
       "    .dataframe thead th {\n",
       "        text-align: right;\n",
       "    }\n",
       "</style>\n",
       "<table border=\"1\" class=\"dataframe\">\n",
       "  <thead>\n",
       "    <tr style=\"text-align: right;\">\n",
       "      <th></th>\n",
       "      <th>nutrients</th>\n",
       "      <th>info</th>\n",
       "    </tr>\n",
       "  </thead>\n",
       "  <tbody>\n",
       "    <tr>\n",
       "      <th>0</th>\n",
       "      <td>thiamine (vitamin b1)</td>\n",
       "      <td>severe deficiency causes beriberi with symptom...</td>\n",
       "    </tr>\n",
       "    <tr>\n",
       "      <th>1</th>\n",
       "      <td>riboflavin (vitamin b2)</td>\n",
       "      <td>the deficiency of this vitamin causes angular ...</td>\n",
       "    </tr>\n",
       "    <tr>\n",
       "      <th>2</th>\n",
       "      <td>niacin (vitamin b3)</td>\n",
       "      <td>causes pellagra which is a life-threatening di...</td>\n",
       "    </tr>\n",
       "    <tr>\n",
       "      <th>3</th>\n",
       "      <td>pantothenic acid (vitamin b5)</td>\n",
       "      <td>vitamin b5 deficiency is rare and the symptoms...</td>\n",
       "    </tr>\n",
       "    <tr>\n",
       "      <th>4</th>\n",
       "      <td>vitamin b6</td>\n",
       "      <td>end-stage kidney diseases such as celiac disea...</td>\n",
       "    </tr>\n",
       "    <tr>\n",
       "      <th>5</th>\n",
       "      <td>biotin (vitamin b7)</td>\n",
       "      <td>the deficiency affects the growth of hair and ...</td>\n",
       "    </tr>\n",
       "    <tr>\n",
       "      <th>6</th>\n",
       "      <td>folate (vitamin b9)</td>\n",
       "      <td>it is very common and the deficiency is associ...</td>\n",
       "    </tr>\n",
       "    <tr>\n",
       "      <th>7</th>\n",
       "      <td>vitamin b12</td>\n",
       "      <td>deficiency of this disease leads to pernicious...</td>\n",
       "    </tr>\n",
       "    <tr>\n",
       "      <th>8</th>\n",
       "      <td>ascorbic acid (vitamin c)</td>\n",
       "      <td>deficiency results in scurvy and the symptoms ...</td>\n",
       "    </tr>\n",
       "    <tr>\n",
       "      <th>0</th>\n",
       "      <td>retinol (vitamin a)</td>\n",
       "      <td>the deficiency causes night blindness or nycta...</td>\n",
       "    </tr>\n",
       "    <tr>\n",
       "      <th>1</th>\n",
       "      <td>calciferol (vitamin d)</td>\n",
       "      <td>it causes a disease known as rickets. the symp...</td>\n",
       "    </tr>\n",
       "    <tr>\n",
       "      <th>2</th>\n",
       "      <td>phylloquinone (vitamin k)</td>\n",
       "      <td>the deficiency of vitamin k leads to decreased...</td>\n",
       "    </tr>\n",
       "    <tr>\n",
       "      <th>3</th>\n",
       "      <td>tocopherol (vitamin e)</td>\n",
       "      <td>the major problems associated are muscle and n...</td>\n",
       "    </tr>\n",
       "    <tr>\n",
       "      <th>0</th>\n",
       "      <td>calcium</td>\n",
       "      <td>the deficiency of calcium leads to decreased c...</td>\n",
       "    </tr>\n",
       "    <tr>\n",
       "      <th>1</th>\n",
       "      <td>iron deficiency</td>\n",
       "      <td>iron deficiency in the body results in anaemia...</td>\n",
       "    </tr>\n",
       "    <tr>\n",
       "      <th>2</th>\n",
       "      <td>magnesium deficiency</td>\n",
       "      <td>magnesium deficiency is uncommon. however, in ...</td>\n",
       "    </tr>\n",
       "    <tr>\n",
       "      <th>3</th>\n",
       "      <td>potassium deficiency</td>\n",
       "      <td>the common cause of potassium deficiency is ex...</td>\n",
       "    </tr>\n",
       "    <tr>\n",
       "      <th>4</th>\n",
       "      <td>zinc</td>\n",
       "      <td>zinc deficiency causes loss of taste, smell, a...</td>\n",
       "    </tr>\n",
       "    <tr>\n",
       "      <th>5</th>\n",
       "      <td>iodine</td>\n",
       "      <td>the deficiency of this mineral can result in g...</td>\n",
       "    </tr>\n",
       "    <tr>\n",
       "      <th>6</th>\n",
       "      <td>sodium</td>\n",
       "      <td>sodium deficiency is also known as hyponatremi...</td>\n",
       "    </tr>\n",
       "    <tr>\n",
       "      <th>7</th>\n",
       "      <td>phosphorus</td>\n",
       "      <td>the deficiency of phosphorus leads to the form...</td>\n",
       "    </tr>\n",
       "    <tr>\n",
       "      <th>8</th>\n",
       "      <td>manganese</td>\n",
       "      <td>manganese is important for bone growth and car...</td>\n",
       "    </tr>\n",
       "  </tbody>\n",
       "</table>\n",
       "</div>"
      ],
      "text/plain": [
       "                       nutrients  \\\n",
       "0          thiamine (vitamin b1)   \n",
       "1        riboflavin (vitamin b2)   \n",
       "2            niacin (vitamin b3)   \n",
       "3  pantothenic acid (vitamin b5)   \n",
       "4                     vitamin b6   \n",
       "5            biotin (vitamin b7)   \n",
       "6            folate (vitamin b9)   \n",
       "7                    vitamin b12   \n",
       "8      ascorbic acid (vitamin c)   \n",
       "0            retinol (vitamin a)   \n",
       "1         calciferol (vitamin d)   \n",
       "2      phylloquinone (vitamin k)   \n",
       "3         tocopherol (vitamin e)   \n",
       "0                        calcium   \n",
       "1                iron deficiency   \n",
       "2           magnesium deficiency   \n",
       "3           potassium deficiency   \n",
       "4                           zinc   \n",
       "5                         iodine   \n",
       "6                         sodium   \n",
       "7                     phosphorus   \n",
       "8                      manganese   \n",
       "\n",
       "                                                info  \n",
       "0  severe deficiency causes beriberi with symptom...  \n",
       "1  the deficiency of this vitamin causes angular ...  \n",
       "2  causes pellagra which is a life-threatening di...  \n",
       "3  vitamin b5 deficiency is rare and the symptoms...  \n",
       "4  end-stage kidney diseases such as celiac disea...  \n",
       "5  the deficiency affects the growth of hair and ...  \n",
       "6  it is very common and the deficiency is associ...  \n",
       "7  deficiency of this disease leads to pernicious...  \n",
       "8  deficiency results in scurvy and the symptoms ...  \n",
       "0  the deficiency causes night blindness or nycta...  \n",
       "1  it causes a disease known as rickets. the symp...  \n",
       "2  the deficiency of vitamin k leads to decreased...  \n",
       "3  the major problems associated are muscle and n...  \n",
       "0  the deficiency of calcium leads to decreased c...  \n",
       "1  iron deficiency in the body results in anaemia...  \n",
       "2  magnesium deficiency is uncommon. however, in ...  \n",
       "3  the common cause of potassium deficiency is ex...  \n",
       "4  zinc deficiency causes loss of taste, smell, a...  \n",
       "5  the deficiency of this mineral can result in g...  \n",
       "6  sodium deficiency is also known as hyponatremi...  \n",
       "7  the deficiency of phosphorus leads to the form...  \n",
       "8  manganese is important for bone growth and car...  "
      ]
     },
     "execution_count": 155,
     "metadata": {},
     "output_type": "execute_result"
    }
   ],
   "source": [
    "df = ex.db_concat (info_1, info_2, info_3)\n",
    "df"
   ]
  },
  {
   "attachments": {},
   "cell_type": "markdown",
   "metadata": {},
   "source": [
    "Had to do the searching for the disease manually."
   ]
  },
  {
   "cell_type": "code",
   "execution_count": 156,
   "metadata": {},
   "outputs": [
    {
     "data": {
      "text/plain": [
       "'the deficiency of phosphorus leads to the formation of underdeveloped teeth and bones.'"
      ]
     },
     "execution_count": 156,
     "metadata": {},
     "output_type": "execute_result"
    }
   ],
   "source": [
    "lsttotal = list(df[\"info\"])\n",
    "lsttotal[20]"
   ]
  },
  {
   "cell_type": "code",
   "execution_count": 157,
   "metadata": {},
   "outputs": [],
   "source": [
    "lsttotal = list(df[\"info\"])\n",
    "lst0 = lsttotal[0]\n",
    "lst1 = lsttotal[1]\n",
    "lst2 = lsttotal[2]\n",
    "lst3 = lsttotal[3]\n",
    "lst4 = lsttotal[4]\n",
    "lst5 = lsttotal[5]\n",
    "lst6 = lsttotal[6]\n",
    "lst7 = lsttotal[7]\n",
    "lst8 = lsttotal[8]\n",
    "lst9 = lsttotal[9]\n",
    "lst10 = lsttotal[10]\n",
    "lst11 = lsttotal[11]\n",
    "lst12 = lsttotal[12]\n",
    "lst13 = lsttotal[13]\n",
    "lst14 = lsttotal[14]\n",
    "lst15 = lsttotal[15]\n",
    "lst16 = lsttotal[16]\n",
    "lst17 = lsttotal[17]\n",
    "lst18 = lsttotal[18]\n",
    "lst19 = lsttotal[19]\n",
    "lst20 = lsttotal[20]\n",
    "lst21 = lsttotal[21]\n"
   ]
  },
  {
   "cell_type": "code",
   "execution_count": 158,
   "metadata": {},
   "outputs": [],
   "source": [
    "dis0 = ex.diseases (lst0)\n",
    "dis1 = ex.diseases (lst1)\n",
    "dis2 = ex.diseases (lst2)\n",
    "dis3 = ex.diseases (lst3)\n",
    "dis4 = ex.diseases (lst4)\n",
    "dis5 = ex.diseases (lst5)\n",
    "dis6 = ex.diseases (lst6)\n",
    "dis7 = ex.diseases (lst7)\n",
    "dis8 = ex.diseases (lst8)\n",
    "dis9 = ex.diseases (lst9)\n",
    "dis10 = ex.diseases (lst10)\n",
    "dis11 = ex.diseases (lst11)\n",
    "dis12 = ex.diseases (lst12)\n",
    "dis13 = ex.diseases (lst13)\n",
    "dis14 = ex.diseases (lst14)\n",
    "dis15 = ex.diseases (lst15)\n",
    "dis16 = ex.diseases (lst16)\n",
    "dis17 = ex.diseases (lst17)\n",
    "dis18 = ex.diseases (lst18)\n",
    "dis19 = ex.diseases (lst19)\n",
    "dis20 = ex.diseases (lst20)\n",
    "dis21 = ex.diseases (lst21)"
   ]
  },
  {
   "cell_type": "code",
   "execution_count": 159,
   "metadata": {},
   "outputs": [],
   "source": [
    "lista = ex.diseases_total (dis0, dis1, dis2, dis3, dis4, dis5, dis6, dis7, dis8, dis9, dis10, dis11, dis12, dis13, dis14, dis15, dis16, dis17, dis18, dis19, dis20, dis21) "
   ]
  },
  {
   "attachments": {},
   "cell_type": "markdown",
   "metadata": {},
   "source": [
    "Makiing them a data frame."
   ]
  },
  {
   "cell_type": "code",
   "execution_count": 162,
   "metadata": {},
   "outputs": [
    {
     "ename": "TypeError",
     "evalue": "cannot concatenate object of type '<class 'list'>'; only Series and DataFrame objs are valid",
     "output_type": "error",
     "traceback": [
      "\u001b[1;31m---------------------------------------------------------------------------\u001b[0m",
      "\u001b[1;31mTypeError\u001b[0m                                 Traceback (most recent call last)",
      "\u001b[1;32md:\\ironhack\\proyectos\\PipeLine_proy2\\analysis.ipynb Cell 49\u001b[0m in \u001b[0;36m<cell line: 1>\u001b[1;34m()\u001b[0m\n\u001b[1;32m----> <a href='vscode-notebook-cell:/d%3A/ironhack/proyectos/PipeLine_proy2/analysis.ipynb#Y102sZmlsZQ%3D%3D?line=0'>1</a>\u001b[0m enf \u001b[39m=\u001b[39m ex\u001b[39m.\u001b[39;49mdf_diseases (df, lista)\n\u001b[0;32m      <a href='vscode-notebook-cell:/d%3A/ironhack/proyectos/PipeLine_proy2/analysis.ipynb#Y102sZmlsZQ%3D%3D?line=1'>2</a>\u001b[0m enf\u001b[39m.\u001b[39msample()\n",
      "File \u001b[1;32md:\\ironhack\\proyectos\\PipeLine_proy2\\src\\extraction.py:103\u001b[0m, in \u001b[0;36mdf_diseases\u001b[1;34m(lst, df2)\u001b[0m\n\u001b[0;32m    101\u001b[0m enf \u001b[39m=\u001b[39m pd\u001b[39m.\u001b[39mDataFrame(nueva)\n\u001b[0;32m    102\u001b[0m \u001b[39m# concat to the other table.\u001b[39;00m\n\u001b[1;32m--> 103\u001b[0m \u001b[39mreturn\u001b[39;00m pd\u001b[39m.\u001b[39;49mconcat([enf, df2, ], axis\u001b[39m=\u001b[39;49m\u001b[39m0\u001b[39;49m)\n",
      "File \u001b[1;32mc:\\Users\\ima_n\\miniconda2\\envs\\ironhack\\lib\\site-packages\\pandas\\util\\_decorators.py:331\u001b[0m, in \u001b[0;36mdeprecate_nonkeyword_arguments.<locals>.decorate.<locals>.wrapper\u001b[1;34m(*args, **kwargs)\u001b[0m\n\u001b[0;32m    325\u001b[0m \u001b[39mif\u001b[39;00m \u001b[39mlen\u001b[39m(args) \u001b[39m>\u001b[39m num_allow_args:\n\u001b[0;32m    326\u001b[0m     warnings\u001b[39m.\u001b[39mwarn(\n\u001b[0;32m    327\u001b[0m         msg\u001b[39m.\u001b[39mformat(arguments\u001b[39m=\u001b[39m_format_argument_list(allow_args)),\n\u001b[0;32m    328\u001b[0m         \u001b[39mFutureWarning\u001b[39;00m,\n\u001b[0;32m    329\u001b[0m         stacklevel\u001b[39m=\u001b[39mfind_stack_level(),\n\u001b[0;32m    330\u001b[0m     )\n\u001b[1;32m--> 331\u001b[0m \u001b[39mreturn\u001b[39;00m func(\u001b[39m*\u001b[39margs, \u001b[39m*\u001b[39m\u001b[39m*\u001b[39mkwargs)\n",
      "File \u001b[1;32mc:\\Users\\ima_n\\miniconda2\\envs\\ironhack\\lib\\site-packages\\pandas\\core\\reshape\\concat.py:368\u001b[0m, in \u001b[0;36mconcat\u001b[1;34m(objs, axis, join, ignore_index, keys, levels, names, verify_integrity, sort, copy)\u001b[0m\n\u001b[0;32m    146\u001b[0m \u001b[39m@deprecate_nonkeyword_arguments\u001b[39m(version\u001b[39m=\u001b[39m\u001b[39mNone\u001b[39;00m, allowed_args\u001b[39m=\u001b[39m[\u001b[39m\"\u001b[39m\u001b[39mobjs\u001b[39m\u001b[39m\"\u001b[39m])\n\u001b[0;32m    147\u001b[0m \u001b[39mdef\u001b[39;00m \u001b[39mconcat\u001b[39m(\n\u001b[0;32m    148\u001b[0m     objs: Iterable[NDFrame] \u001b[39m|\u001b[39m Mapping[HashableT, NDFrame],\n\u001b[1;32m   (...)\u001b[0m\n\u001b[0;32m    157\u001b[0m     copy: \u001b[39mbool\u001b[39m \u001b[39m=\u001b[39m \u001b[39mTrue\u001b[39;00m,\n\u001b[0;32m    158\u001b[0m ) \u001b[39m-\u001b[39m\u001b[39m>\u001b[39m DataFrame \u001b[39m|\u001b[39m Series:\n\u001b[0;32m    159\u001b[0m     \u001b[39m\"\"\"\u001b[39;00m\n\u001b[0;32m    160\u001b[0m \u001b[39m    Concatenate pandas objects along a particular axis.\u001b[39;00m\n\u001b[0;32m    161\u001b[0m \n\u001b[1;32m   (...)\u001b[0m\n\u001b[0;32m    366\u001b[0m \u001b[39m    1   3   4\u001b[39;00m\n\u001b[0;32m    367\u001b[0m \u001b[39m    \"\"\"\u001b[39;00m\n\u001b[1;32m--> 368\u001b[0m     op \u001b[39m=\u001b[39m _Concatenator(\n\u001b[0;32m    369\u001b[0m         objs,\n\u001b[0;32m    370\u001b[0m         axis\u001b[39m=\u001b[39;49maxis,\n\u001b[0;32m    371\u001b[0m         ignore_index\u001b[39m=\u001b[39;49mignore_index,\n\u001b[0;32m    372\u001b[0m         join\u001b[39m=\u001b[39;49mjoin,\n\u001b[0;32m    373\u001b[0m         keys\u001b[39m=\u001b[39;49mkeys,\n\u001b[0;32m    374\u001b[0m         levels\u001b[39m=\u001b[39;49mlevels,\n\u001b[0;32m    375\u001b[0m         names\u001b[39m=\u001b[39;49mnames,\n\u001b[0;32m    376\u001b[0m         verify_integrity\u001b[39m=\u001b[39;49mverify_integrity,\n\u001b[0;32m    377\u001b[0m         copy\u001b[39m=\u001b[39;49mcopy,\n\u001b[0;32m    378\u001b[0m         sort\u001b[39m=\u001b[39;49msort,\n\u001b[0;32m    379\u001b[0m     )\n\u001b[0;32m    381\u001b[0m     \u001b[39mreturn\u001b[39;00m op\u001b[39m.\u001b[39mget_result()\n",
      "File \u001b[1;32mc:\\Users\\ima_n\\miniconda2\\envs\\ironhack\\lib\\site-packages\\pandas\\core\\reshape\\concat.py:458\u001b[0m, in \u001b[0;36m_Concatenator.__init__\u001b[1;34m(self, objs, axis, join, keys, levels, names, ignore_index, verify_integrity, copy, sort)\u001b[0m\n\u001b[0;32m    453\u001b[0m     \u001b[39mif\u001b[39;00m \u001b[39mnot\u001b[39;00m \u001b[39misinstance\u001b[39m(obj, (ABCSeries, ABCDataFrame)):\n\u001b[0;32m    454\u001b[0m         msg \u001b[39m=\u001b[39m (\n\u001b[0;32m    455\u001b[0m             \u001b[39mf\u001b[39m\u001b[39m\"\u001b[39m\u001b[39mcannot concatenate object of type \u001b[39m\u001b[39m'\u001b[39m\u001b[39m{\u001b[39;00m\u001b[39mtype\u001b[39m(obj)\u001b[39m}\u001b[39;00m\u001b[39m'\u001b[39m\u001b[39m; \u001b[39m\u001b[39m\"\u001b[39m\n\u001b[0;32m    456\u001b[0m             \u001b[39m\"\u001b[39m\u001b[39monly Series and DataFrame objs are valid\u001b[39m\u001b[39m\"\u001b[39m\n\u001b[0;32m    457\u001b[0m         )\n\u001b[1;32m--> 458\u001b[0m         \u001b[39mraise\u001b[39;00m \u001b[39mTypeError\u001b[39;00m(msg)\n\u001b[0;32m    460\u001b[0m     ndims\u001b[39m.\u001b[39madd(obj\u001b[39m.\u001b[39mndim)\n\u001b[0;32m    462\u001b[0m \u001b[39m# get the sample\u001b[39;00m\n\u001b[0;32m    463\u001b[0m \u001b[39m# want the highest ndim that we have, and must be non-empty\u001b[39;00m\n\u001b[0;32m    464\u001b[0m \u001b[39m# unless all objs are empty\u001b[39;00m\n",
      "\u001b[1;31mTypeError\u001b[0m: cannot concatenate object of type '<class 'list'>'; only Series and DataFrame objs are valid"
     ]
    }
   ],
   "source": [
    "enf = ex.df_diseases (df, lista)\n",
    "enf.sample()"
   ]
  },
  {
   "attachments": {},
   "cell_type": "markdown",
   "metadata": {},
   "source": [
    "Merging the frames."
   ]
  },
  {
   "cell_type": "code",
   "execution_count": null,
   "metadata": {},
   "outputs": [
    {
     "data": {
      "text/html": [
       "<div>\n",
       "<style scoped>\n",
       "    .dataframe tbody tr th:only-of-type {\n",
       "        vertical-align: middle;\n",
       "    }\n",
       "\n",
       "    .dataframe tbody tr th {\n",
       "        vertical-align: top;\n",
       "    }\n",
       "\n",
       "    .dataframe thead th {\n",
       "        text-align: right;\n",
       "    }\n",
       "</style>\n",
       "<table border=\"1\" class=\"dataframe\">\n",
       "  <thead>\n",
       "    <tr style=\"text-align: right;\">\n",
       "      <th></th>\n",
       "      <th>nutrients</th>\n",
       "      <th>info</th>\n",
       "      <th>0</th>\n",
       "    </tr>\n",
       "  </thead>\n",
       "  <tbody>\n",
       "    <tr>\n",
       "      <th>0</th>\n",
       "      <td>thiamine (vitamin b1)</td>\n",
       "      <td>severe deficiency causes beriberi with symptom...</td>\n",
       "      <td>NaN</td>\n",
       "    </tr>\n",
       "    <tr>\n",
       "      <th>1</th>\n",
       "      <td>riboflavin (vitamin b2)</td>\n",
       "      <td>the deficiency of this vitamin causes angular ...</td>\n",
       "      <td>NaN</td>\n",
       "    </tr>\n",
       "    <tr>\n",
       "      <th>2</th>\n",
       "      <td>niacin (vitamin b3)</td>\n",
       "      <td>causes pellagra which is a life-threatening di...</td>\n",
       "      <td>NaN</td>\n",
       "    </tr>\n",
       "    <tr>\n",
       "      <th>3</th>\n",
       "      <td>pantothenic acid (vitamin b5)</td>\n",
       "      <td>vitamin b5 deficiency is rare and the symptoms...</td>\n",
       "      <td>NaN</td>\n",
       "    </tr>\n",
       "    <tr>\n",
       "      <th>4</th>\n",
       "      <td>vitamin b6</td>\n",
       "      <td>end-stage kidney diseases such as celiac disea...</td>\n",
       "      <td>NaN</td>\n",
       "    </tr>\n",
       "    <tr>\n",
       "      <th>5</th>\n",
       "      <td>biotin (vitamin b7)</td>\n",
       "      <td>the deficiency affects the growth of hair and ...</td>\n",
       "      <td>NaN</td>\n",
       "    </tr>\n",
       "    <tr>\n",
       "      <th>6</th>\n",
       "      <td>folate (vitamin b9)</td>\n",
       "      <td>it is very common and the deficiency is associ...</td>\n",
       "      <td>NaN</td>\n",
       "    </tr>\n",
       "    <tr>\n",
       "      <th>7</th>\n",
       "      <td>vitamin b12</td>\n",
       "      <td>deficiency of this disease leads to pernicious...</td>\n",
       "      <td>NaN</td>\n",
       "    </tr>\n",
       "    <tr>\n",
       "      <th>8</th>\n",
       "      <td>ascorbic acid (vitamin c)</td>\n",
       "      <td>deficiency results in scurvy and the symptoms ...</td>\n",
       "      <td>NaN</td>\n",
       "    </tr>\n",
       "    <tr>\n",
       "      <th>0</th>\n",
       "      <td>retinol (vitamin a)</td>\n",
       "      <td>the deficiency causes night blindness or nycta...</td>\n",
       "      <td>NaN</td>\n",
       "    </tr>\n",
       "    <tr>\n",
       "      <th>1</th>\n",
       "      <td>calciferol (vitamin d)</td>\n",
       "      <td>it causes a disease known as rickets. the symp...</td>\n",
       "      <td>NaN</td>\n",
       "    </tr>\n",
       "    <tr>\n",
       "      <th>2</th>\n",
       "      <td>phylloquinone (vitamin k)</td>\n",
       "      <td>the deficiency of vitamin k leads to decreased...</td>\n",
       "      <td>NaN</td>\n",
       "    </tr>\n",
       "    <tr>\n",
       "      <th>3</th>\n",
       "      <td>tocopherol (vitamin e)</td>\n",
       "      <td>the major problems associated are muscle and n...</td>\n",
       "      <td>NaN</td>\n",
       "    </tr>\n",
       "    <tr>\n",
       "      <th>0</th>\n",
       "      <td>calcium</td>\n",
       "      <td>the deficiency of calcium leads to decreased c...</td>\n",
       "      <td>NaN</td>\n",
       "    </tr>\n",
       "    <tr>\n",
       "      <th>1</th>\n",
       "      <td>iron deficiency</td>\n",
       "      <td>iron deficiency in the body results in anaemia...</td>\n",
       "      <td>NaN</td>\n",
       "    </tr>\n",
       "    <tr>\n",
       "      <th>2</th>\n",
       "      <td>magnesium deficiency</td>\n",
       "      <td>magnesium deficiency is uncommon. however, in ...</td>\n",
       "      <td>NaN</td>\n",
       "    </tr>\n",
       "    <tr>\n",
       "      <th>3</th>\n",
       "      <td>potassium deficiency</td>\n",
       "      <td>the common cause of potassium deficiency is ex...</td>\n",
       "      <td>NaN</td>\n",
       "    </tr>\n",
       "    <tr>\n",
       "      <th>4</th>\n",
       "      <td>zinc</td>\n",
       "      <td>zinc deficiency causes loss of taste, smell, a...</td>\n",
       "      <td>NaN</td>\n",
       "    </tr>\n",
       "    <tr>\n",
       "      <th>5</th>\n",
       "      <td>iodine</td>\n",
       "      <td>the deficiency of this mineral can result in g...</td>\n",
       "      <td>NaN</td>\n",
       "    </tr>\n",
       "    <tr>\n",
       "      <th>6</th>\n",
       "      <td>sodium</td>\n",
       "      <td>sodium deficiency is also known as hyponatremi...</td>\n",
       "      <td>NaN</td>\n",
       "    </tr>\n",
       "    <tr>\n",
       "      <th>7</th>\n",
       "      <td>phosphorus</td>\n",
       "      <td>the deficiency of phosphorus leads to the form...</td>\n",
       "      <td>NaN</td>\n",
       "    </tr>\n",
       "    <tr>\n",
       "      <th>8</th>\n",
       "      <td>manganese</td>\n",
       "      <td>manganese is important for bone growth and car...</td>\n",
       "      <td>NaN</td>\n",
       "    </tr>\n",
       "    <tr>\n",
       "      <th>0</th>\n",
       "      <td>NaN</td>\n",
       "      <td>NaN</td>\n",
       "      <td>beriberi/ weight loss/ weakness</td>\n",
       "    </tr>\n",
       "    <tr>\n",
       "      <th>1</th>\n",
       "      <td>NaN</td>\n",
       "      <td>NaN</td>\n",
       "      <td>anaemia/ angular cheilitis/ chapped/ cracked lips</td>\n",
       "    </tr>\n",
       "    <tr>\n",
       "      <th>2</th>\n",
       "      <td>NaN</td>\n",
       "      <td>NaN</td>\n",
       "      <td>pellagra/ diarrhoea/ dermatitis/ dementia</td>\n",
       "    </tr>\n",
       "    <tr>\n",
       "      <th>3</th>\n",
       "      <td>NaN</td>\n",
       "      <td>NaN</td>\n",
       "      <td>fatigue/ apathy/ irritability</td>\n",
       "    </tr>\n",
       "    <tr>\n",
       "      <th>4</th>\n",
       "      <td>NaN</td>\n",
       "      <td>NaN</td>\n",
       "      <td>anaemia/ dermatitis/ celiac disease/ crohn/ ki...</td>\n",
       "    </tr>\n",
       "    <tr>\n",
       "      <th>5</th>\n",
       "      <td>NaN</td>\n",
       "      <td>NaN</td>\n",
       "      <td>skin health</td>\n",
       "    </tr>\n",
       "    <tr>\n",
       "      <th>6</th>\n",
       "      <td>NaN</td>\n",
       "      <td>NaN</td>\n",
       "      <td>neural tube defects</td>\n",
       "    </tr>\n",
       "    <tr>\n",
       "      <th>7</th>\n",
       "      <td>NaN</td>\n",
       "      <td>NaN</td>\n",
       "      <td>anaemia/ methylmalonic acidemia</td>\n",
       "    </tr>\n",
       "    <tr>\n",
       "      <th>8</th>\n",
       "      <td>NaN</td>\n",
       "      <td>NaN</td>\n",
       "      <td>scurvy/ skin spots</td>\n",
       "    </tr>\n",
       "    <tr>\n",
       "      <th>9</th>\n",
       "      <td>NaN</td>\n",
       "      <td>NaN</td>\n",
       "      <td>nyctalopia/ keratomalacia/ blindness</td>\n",
       "    </tr>\n",
       "    <tr>\n",
       "      <th>10</th>\n",
       "      <td>NaN</td>\n",
       "      <td>NaN</td>\n",
       "      <td>rickets/ weakening of bones</td>\n",
       "    </tr>\n",
       "    <tr>\n",
       "      <th>11</th>\n",
       "      <td>NaN</td>\n",
       "      <td>NaN</td>\n",
       "      <td>decreased coagulation of blood</td>\n",
       "    </tr>\n",
       "    <tr>\n",
       "      <th>12</th>\n",
       "      <td>NaN</td>\n",
       "      <td>NaN</td>\n",
       "      <td>weakness/ muscle weakness/ nerve weakness</td>\n",
       "    </tr>\n",
       "    <tr>\n",
       "      <th>13</th>\n",
       "      <td>NaN</td>\n",
       "      <td>NaN</td>\n",
       "      <td>fatigue/ osteopenia</td>\n",
       "    </tr>\n",
       "    <tr>\n",
       "      <th>14</th>\n",
       "      <td>NaN</td>\n",
       "      <td>NaN</td>\n",
       "      <td>anaemia/ feeling weak and tired</td>\n",
       "    </tr>\n",
       "    <tr>\n",
       "      <th>15</th>\n",
       "      <td>NaN</td>\n",
       "      <td>NaN</td>\n",
       "      <td>weakness/ nausea/ vomiting</td>\n",
       "    </tr>\n",
       "    <tr>\n",
       "      <th>16</th>\n",
       "      <td>NaN</td>\n",
       "      <td>NaN</td>\n",
       "      <td>vomiting/ kidney disease</td>\n",
       "    </tr>\n",
       "    <tr>\n",
       "      <th>17</th>\n",
       "      <td>NaN</td>\n",
       "      <td>NaN</td>\n",
       "      <td>loss of taste, smell</td>\n",
       "    </tr>\n",
       "    <tr>\n",
       "      <th>18</th>\n",
       "      <td>NaN</td>\n",
       "      <td>NaN</td>\n",
       "      <td>goitre</td>\n",
       "    </tr>\n",
       "    <tr>\n",
       "      <th>19</th>\n",
       "      <td>NaN</td>\n",
       "      <td>NaN</td>\n",
       "      <td>hyponatremia/ dehydration/ heart diseases</td>\n",
       "    </tr>\n",
       "    <tr>\n",
       "      <th>20</th>\n",
       "      <td>NaN</td>\n",
       "      <td>NaN</td>\n",
       "      <td>underdeveloped teeth and bones</td>\n",
       "    </tr>\n",
       "    <tr>\n",
       "      <th>21</th>\n",
       "      <td>NaN</td>\n",
       "      <td>NaN</td>\n",
       "      <td>atherosclerosis/ heart diseases/ muscle contra...</td>\n",
       "    </tr>\n",
       "  </tbody>\n",
       "</table>\n",
       "</div>"
      ],
      "text/plain": [
       "                        nutrients  \\\n",
       "0           thiamine (vitamin b1)   \n",
       "1         riboflavin (vitamin b2)   \n",
       "2             niacin (vitamin b3)   \n",
       "3   pantothenic acid (vitamin b5)   \n",
       "4                      vitamin b6   \n",
       "5             biotin (vitamin b7)   \n",
       "6             folate (vitamin b9)   \n",
       "7                     vitamin b12   \n",
       "8       ascorbic acid (vitamin c)   \n",
       "0             retinol (vitamin a)   \n",
       "1          calciferol (vitamin d)   \n",
       "2       phylloquinone (vitamin k)   \n",
       "3          tocopherol (vitamin e)   \n",
       "0                         calcium   \n",
       "1                 iron deficiency   \n",
       "2            magnesium deficiency   \n",
       "3            potassium deficiency   \n",
       "4                            zinc   \n",
       "5                          iodine   \n",
       "6                          sodium   \n",
       "7                      phosphorus   \n",
       "8                       manganese   \n",
       "0                             NaN   \n",
       "1                             NaN   \n",
       "2                             NaN   \n",
       "3                             NaN   \n",
       "4                             NaN   \n",
       "5                             NaN   \n",
       "6                             NaN   \n",
       "7                             NaN   \n",
       "8                             NaN   \n",
       "9                             NaN   \n",
       "10                            NaN   \n",
       "11                            NaN   \n",
       "12                            NaN   \n",
       "13                            NaN   \n",
       "14                            NaN   \n",
       "15                            NaN   \n",
       "16                            NaN   \n",
       "17                            NaN   \n",
       "18                            NaN   \n",
       "19                            NaN   \n",
       "20                            NaN   \n",
       "21                            NaN   \n",
       "\n",
       "                                                 info  \\\n",
       "0   severe deficiency causes beriberi with symptom...   \n",
       "1   the deficiency of this vitamin causes angular ...   \n",
       "2   causes pellagra which is a life-threatening di...   \n",
       "3   vitamin b5 deficiency is rare and the symptoms...   \n",
       "4   end-stage kidney diseases such as celiac disea...   \n",
       "5   the deficiency affects the growth of hair and ...   \n",
       "6   it is very common and the deficiency is associ...   \n",
       "7   deficiency of this disease leads to pernicious...   \n",
       "8   deficiency results in scurvy and the symptoms ...   \n",
       "0   the deficiency causes night blindness or nycta...   \n",
       "1   it causes a disease known as rickets. the symp...   \n",
       "2   the deficiency of vitamin k leads to decreased...   \n",
       "3   the major problems associated are muscle and n...   \n",
       "0   the deficiency of calcium leads to decreased c...   \n",
       "1   iron deficiency in the body results in anaemia...   \n",
       "2   magnesium deficiency is uncommon. however, in ...   \n",
       "3   the common cause of potassium deficiency is ex...   \n",
       "4   zinc deficiency causes loss of taste, smell, a...   \n",
       "5   the deficiency of this mineral can result in g...   \n",
       "6   sodium deficiency is also known as hyponatremi...   \n",
       "7   the deficiency of phosphorus leads to the form...   \n",
       "8   manganese is important for bone growth and car...   \n",
       "0                                                 NaN   \n",
       "1                                                 NaN   \n",
       "2                                                 NaN   \n",
       "3                                                 NaN   \n",
       "4                                                 NaN   \n",
       "5                                                 NaN   \n",
       "6                                                 NaN   \n",
       "7                                                 NaN   \n",
       "8                                                 NaN   \n",
       "9                                                 NaN   \n",
       "10                                                NaN   \n",
       "11                                                NaN   \n",
       "12                                                NaN   \n",
       "13                                                NaN   \n",
       "14                                                NaN   \n",
       "15                                                NaN   \n",
       "16                                                NaN   \n",
       "17                                                NaN   \n",
       "18                                                NaN   \n",
       "19                                                NaN   \n",
       "20                                                NaN   \n",
       "21                                                NaN   \n",
       "\n",
       "                                                    0  \n",
       "0                                                 NaN  \n",
       "1                                                 NaN  \n",
       "2                                                 NaN  \n",
       "3                                                 NaN  \n",
       "4                                                 NaN  \n",
       "5                                                 NaN  \n",
       "6                                                 NaN  \n",
       "7                                                 NaN  \n",
       "8                                                 NaN  \n",
       "0                                                 NaN  \n",
       "1                                                 NaN  \n",
       "2                                                 NaN  \n",
       "3                                                 NaN  \n",
       "0                                                 NaN  \n",
       "1                                                 NaN  \n",
       "2                                                 NaN  \n",
       "3                                                 NaN  \n",
       "4                                                 NaN  \n",
       "5                                                 NaN  \n",
       "6                                                 NaN  \n",
       "7                                                 NaN  \n",
       "8                                                 NaN  \n",
       "0                     beriberi/ weight loss/ weakness  \n",
       "1   anaemia/ angular cheilitis/ chapped/ cracked lips  \n",
       "2           pellagra/ diarrhoea/ dermatitis/ dementia  \n",
       "3                       fatigue/ apathy/ irritability  \n",
       "4   anaemia/ dermatitis/ celiac disease/ crohn/ ki...  \n",
       "5                                         skin health  \n",
       "6                                 neural tube defects  \n",
       "7                     anaemia/ methylmalonic acidemia  \n",
       "8                                  scurvy/ skin spots  \n",
       "9                nyctalopia/ keratomalacia/ blindness  \n",
       "10                        rickets/ weakening of bones  \n",
       "11                     decreased coagulation of blood  \n",
       "12          weakness/ muscle weakness/ nerve weakness  \n",
       "13                                fatigue/ osteopenia  \n",
       "14                    anaemia/ feeling weak and tired  \n",
       "15                         weakness/ nausea/ vomiting  \n",
       "16                           vomiting/ kidney disease  \n",
       "17                               loss of taste, smell  \n",
       "18                                             goitre  \n",
       "19          hyponatremia/ dehydration/ heart diseases  \n",
       "20                     underdeveloped teeth and bones  \n",
       "21  atherosclerosis/ heart diseases/ muscle contra...  "
      ]
     },
     "execution_count": 127,
     "metadata": {},
     "output_type": "execute_result"
    }
   ],
   "source": [
    "disess = ex.df_concat (df, enf)\n",
    "disess"
   ]
  },
  {
   "cell_type": "code",
   "execution_count": null,
   "metadata": {},
   "outputs": [],
   "source": [
    "enf = ex.df_diseases (lista)"
   ]
  }
 ],
 "metadata": {
  "kernelspec": {
   "display_name": "ironhack",
   "language": "python",
   "name": "python3"
  },
  "language_info": {
   "codemirror_mode": {
    "name": "ipython",
    "version": 3
   },
   "file_extension": ".py",
   "mimetype": "text/x-python",
   "name": "python",
   "nbconvert_exporter": "python",
   "pygments_lexer": "ipython3",
   "version": "3.10.4"
  },
  "orig_nbformat": 4,
  "vscode": {
   "interpreter": {
    "hash": "91a84e6b8351ad3ec71ce9fb2308d8cc98e807eebbcac368689e5c7e13990fb4"
   }
  }
 },
 "nbformat": 4,
 "nbformat_minor": 2
}
