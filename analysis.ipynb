{
 "cells": [
  {
   "attachments": {},
   "cell_type": "markdown",
   "metadata": {},
   "source": [
    "# Analysis."
   ]
  },
  {
   "cell_type": "code",
   "execution_count": 4,
   "metadata": {},
   "outputs": [
    {
     "data": {
      "text/plain": [
       "<module 'src.extraction' from 'd:\\\\ironhack\\\\proyectos\\\\PipeLine_proy2\\\\src\\\\extraction.py'>"
      ]
     },
     "execution_count": 4,
     "metadata": {},
     "output_type": "execute_result"
    }
   ],
   "source": [
    "import pandas as pd\n",
    "from pandas import json_normalize\n",
    "import numpy as np\n",
    "\n",
    "import requests \n",
    "import json\n",
    "import os\n",
    "from dotenv import load_dotenv #conda install -c conda-forge python-dotenv\n",
    "\n",
    "import warnings\n",
    "warnings.filterwarnings(\"ignore\")\n",
    "\n",
    "import time\n",
    "import importlib\n",
    "import src.extraction as ex\n",
    "importlib.reload(ex)"
   ]
  },
  {
   "attachments": {},
   "cell_type": "markdown",
   "metadata": {},
   "source": [
    "## 1. USDA food database.\n",
    "### 1.1. Exploration."
   ]
  },
  {
   "attachments": {},
   "cell_type": "markdown",
   "metadata": {},
   "source": [
    "Did a research of all the USDA csv files and select only the more relevant for this proyect, they have a lot of information about comples dishes, lab tests, market prices, etc. \n",
    "    1. Searching for the right tables with value information for the proyect. \n",
    "    2. Cleaning each table, droping the columns and probably some rows with no need it information, will try to merge it in python by changing the name of tha columns to the same in each. exported as csv \n",
    "    3. Merge the tables."
   ]
  },
  {
   "attachments": {},
   "cell_type": "markdown",
   "metadata": {},
   "source": [
    "#### 1.1.1. \"Food csv\".\n",
    "Data frame of food, it has its id number and name of food."
   ]
  },
  {
   "cell_type": "code",
   "execution_count": 5,
   "metadata": {},
   "outputs": [
    {
     "data": {
      "text/html": [
       "<div>\n",
       "<style scoped>\n",
       "    .dataframe tbody tr th:only-of-type {\n",
       "        vertical-align: middle;\n",
       "    }\n",
       "\n",
       "    .dataframe tbody tr th {\n",
       "        vertical-align: top;\n",
       "    }\n",
       "\n",
       "    .dataframe thead th {\n",
       "        text-align: right;\n",
       "    }\n",
       "</style>\n",
       "<table border=\"1\" class=\"dataframe\">\n",
       "  <thead>\n",
       "    <tr style=\"text-align: right;\">\n",
       "      <th></th>\n",
       "      <th>fdc_id</th>\n",
       "      <th>data_type</th>\n",
       "      <th>description</th>\n",
       "      <th>food_category_id</th>\n",
       "      <th>publication_date</th>\n",
       "    </tr>\n",
       "  </thead>\n",
       "  <tbody>\n",
       "    <tr>\n",
       "      <th>879192</th>\n",
       "      <td>1451491</td>\n",
       "      <td>branded_food</td>\n",
       "      <td>DARK CHOCOLATE VANILLA NUTS &amp; FRUIT DIPPED CLU...</td>\n",
       "      <td>NaN</td>\n",
       "      <td>2021-02-26</td>\n",
       "    </tr>\n",
       "  </tbody>\n",
       "</table>\n",
       "</div>"
      ],
      "text/plain": [
       "         fdc_id     data_type  \\\n",
       "879192  1451491  branded_food   \n",
       "\n",
       "                                              description  food_category_id  \\\n",
       "879192  DARK CHOCOLATE VANILLA NUTS & FRUIT DIPPED CLU...               NaN   \n",
       "\n",
       "       publication_date  \n",
       "879192       2021-02-26  "
      ]
     },
     "execution_count": 5,
     "metadata": {},
     "output_type": "execute_result"
    }
   ],
   "source": [
    "url = \"D:\\ironhack\\proyectos\\PipeLine_proy2\\\\USDA_main_csv\\\\food.csv\"\n",
    "food = ex.import_csv (url)\n",
    "food.sample()"
   ]
  },
  {
   "cell_type": "code",
   "execution_count": 6,
   "metadata": {},
   "outputs": [
    {
     "data": {
      "text/plain": [
       "(1185090, 5)"
      ]
     },
     "execution_count": 6,
     "metadata": {},
     "output_type": "execute_result"
    }
   ],
   "source": [
    "food.shape"
   ]
  },
  {
   "attachments": {},
   "cell_type": "markdown",
   "metadata": {},
   "source": [
    "##### 1.1.1.1. Deleting.\n",
    "Will remove the \"food_category_id\", \"data_type\" and the \"publication_date\" column and try to remove the index column, it appears that it does not do much, it doest have a column name for identification"
   ]
  },
  {
   "cell_type": "code",
   "execution_count": 7,
   "metadata": {},
   "outputs": [
    {
     "data": {
      "text/html": [
       "<div>\n",
       "<style scoped>\n",
       "    .dataframe tbody tr th:only-of-type {\n",
       "        vertical-align: middle;\n",
       "    }\n",
       "\n",
       "    .dataframe tbody tr th {\n",
       "        vertical-align: top;\n",
       "    }\n",
       "\n",
       "    .dataframe thead th {\n",
       "        text-align: right;\n",
       "    }\n",
       "</style>\n",
       "<table border=\"1\" class=\"dataframe\">\n",
       "  <thead>\n",
       "    <tr style=\"text-align: right;\">\n",
       "      <th></th>\n",
       "      <th>fdc_id</th>\n",
       "      <th>description</th>\n",
       "    </tr>\n",
       "  </thead>\n",
       "  <tbody>\n",
       "    <tr>\n",
       "      <th>111900</th>\n",
       "      <td>399467</td>\n",
       "      <td>SPARTAN, MINIS CORN DOGS, HONEY</td>\n",
       "    </tr>\n",
       "  </tbody>\n",
       "</table>\n",
       "</div>"
      ],
      "text/plain": [
       "        fdc_id                      description\n",
       "111900  399467  SPARTAN, MINIS CORN DOGS, HONEY"
      ]
     },
     "execution_count": 7,
     "metadata": {},
     "output_type": "execute_result"
    }
   ],
   "source": [
    "food = ex.delete_food (food)\n",
    "food.sample()"
   ]
  },
  {
   "cell_type": "code",
   "execution_count": 8,
   "metadata": {},
   "outputs": [
    {
     "data": {
      "text/plain": [
       "0"
      ]
     },
     "execution_count": 8,
     "metadata": {},
     "output_type": "execute_result"
    }
   ],
   "source": [
    "food.duplicated().sum()"
   ]
  },
  {
   "attachments": {},
   "cell_type": "markdown",
   "metadata": {},
   "source": [
    "#### 1.1.2. \"Nutrients Table\".\n",
    "In this table can relate the data of nutrients and in wich food they are. they specifie the mount of the nutrient per 100g of food. Specified in unit defined in the nutrient table."
   ]
  },
  {
   "cell_type": "code",
   "execution_count": 9,
   "metadata": {},
   "outputs": [
    {
     "data": {
      "text/html": [
       "<div>\n",
       "<style scoped>\n",
       "    .dataframe tbody tr th:only-of-type {\n",
       "        vertical-align: middle;\n",
       "    }\n",
       "\n",
       "    .dataframe tbody tr th {\n",
       "        vertical-align: top;\n",
       "    }\n",
       "\n",
       "    .dataframe thead th {\n",
       "        text-align: right;\n",
       "    }\n",
       "</style>\n",
       "<table border=\"1\" class=\"dataframe\">\n",
       "  <thead>\n",
       "    <tr style=\"text-align: right;\">\n",
       "      <th></th>\n",
       "      <th>id</th>\n",
       "      <th>name</th>\n",
       "      <th>unit_name</th>\n",
       "      <th>nutrient_nbr</th>\n",
       "      <th>rank</th>\n",
       "    </tr>\n",
       "  </thead>\n",
       "  <tbody>\n",
       "    <tr>\n",
       "      <th>392</th>\n",
       "      <td>1396</td>\n",
       "      <td>(+) -Gallo catechin</td>\n",
       "      <td>MG</td>\n",
       "      <td>794.0</td>\n",
       "      <td>NaN</td>\n",
       "    </tr>\n",
       "  </tbody>\n",
       "</table>\n",
       "</div>"
      ],
      "text/plain": [
       "       id                 name unit_name  nutrient_nbr  rank\n",
       "392  1396  (+) -Gallo catechin        MG         794.0   NaN"
      ]
     },
     "execution_count": 9,
     "metadata": {},
     "output_type": "execute_result"
    }
   ],
   "source": [
    "url2 = \"D:\\ironhack\\proyectos\\PipeLine_proy2\\\\USDA_main_csv\\\\nutrient.csv\"\n",
    "nutrient = ex.import_csv(url2)\n",
    "nutrient.sample()"
   ]
  },
  {
   "cell_type": "code",
   "execution_count": 10,
   "metadata": {},
   "outputs": [
    {
     "data": {
      "text/plain": [
       "(463, 5)"
      ]
     },
     "execution_count": 10,
     "metadata": {},
     "output_type": "execute_result"
    }
   ],
   "source": [
    "nutrient.shape"
   ]
  },
  {
   "attachments": {},
   "cell_type": "markdown",
   "metadata": {},
   "source": [
    "##### 1.1.2.1. Deleting.\n",
    "Will delete must of the columns, except name and id, but will create a copy so i dont lose the information, could help me in the future."
   ]
  },
  {
   "cell_type": "code",
   "execution_count": 11,
   "metadata": {},
   "outputs": [
    {
     "data": {
      "text/html": [
       "<div>\n",
       "<style scoped>\n",
       "    .dataframe tbody tr th:only-of-type {\n",
       "        vertical-align: middle;\n",
       "    }\n",
       "\n",
       "    .dataframe tbody tr th {\n",
       "        vertical-align: top;\n",
       "    }\n",
       "\n",
       "    .dataframe thead th {\n",
       "        text-align: right;\n",
       "    }\n",
       "</style>\n",
       "<table border=\"1\" class=\"dataframe\">\n",
       "  <thead>\n",
       "    <tr style=\"text-align: right;\">\n",
       "      <th></th>\n",
       "      <th>id</th>\n",
       "      <th>name</th>\n",
       "    </tr>\n",
       "  </thead>\n",
       "  <tbody>\n",
       "    <tr>\n",
       "      <th>44</th>\n",
       "      <td>1045</td>\n",
       "      <td>Salicylic acid</td>\n",
       "    </tr>\n",
       "  </tbody>\n",
       "</table>\n",
       "</div>"
      ],
      "text/plain": [
       "      id            name\n",
       "44  1045  Salicylic acid"
      ]
     },
     "execution_count": 11,
     "metadata": {},
     "output_type": "execute_result"
    }
   ],
   "source": [
    "nutrient = ex.delete_nutrient (nutrient)\n",
    "nutrient.sample()"
   ]
  },
  {
   "attachments": {},
   "cell_type": "markdown",
   "metadata": {},
   "source": [
    "#### 1.1.3. \"Food_id Nutrient_id\"\n",
    "This table doesn´t appear in the information docs, but it loocks really helfull allready matching the nutrient with the food and the portion per 100g. Wont delete any column, but will start to change names of each Data Frame to matched them later. "
   ]
  },
  {
   "cell_type": "code",
   "execution_count": 12,
   "metadata": {},
   "outputs": [
    {
     "data": {
      "text/html": [
       "<div>\n",
       "<style scoped>\n",
       "    .dataframe tbody tr th:only-of-type {\n",
       "        vertical-align: middle;\n",
       "    }\n",
       "\n",
       "    .dataframe tbody tr th {\n",
       "        vertical-align: top;\n",
       "    }\n",
       "\n",
       "    .dataframe thead th {\n",
       "        text-align: right;\n",
       "    }\n",
       "</style>\n",
       "<table border=\"1\" class=\"dataframe\">\n",
       "  <thead>\n",
       "    <tr style=\"text-align: right;\">\n",
       "      <th></th>\n",
       "      <th>FoodId</th>\n",
       "      <th>NutrientId</th>\n",
       "      <th>Per100g</th>\n",
       "    </tr>\n",
       "  </thead>\n",
       "  <tbody>\n",
       "    <tr>\n",
       "      <th>3352241</th>\n",
       "      <td>406017</td>\n",
       "      <td>1166</td>\n",
       "      <td>0.385</td>\n",
       "    </tr>\n",
       "  </tbody>\n",
       "</table>\n",
       "</div>"
      ],
      "text/plain": [
       "         FoodId  NutrientId  Per100g \n",
       "3352241  406017        1166     0.385"
      ]
     },
     "execution_count": 12,
     "metadata": {},
     "output_type": "execute_result"
    }
   ],
   "source": [
    "url3 = \"D:\\ironhack\\proyectos\\PipeLine_proy2\\\\USDA_main_csv\\\\JCS_FoodId-NutrientId-Per100g.csv\"\n",
    "ides = ex.import_csv (url3)\n",
    "ides.sample()"
   ]
  },
  {
   "attachments": {},
   "cell_type": "markdown",
   "metadata": {},
   "source": [
    "### 1.2. Merging.\n",
    "Will merge all data frames into one, will chose the right tables for it and clean it more.\n",
    "\n",
    "Looking for same elements in different tables at the ID rows, will change the names to matched them."
   ]
  },
  {
   "attachments": {},
   "cell_type": "markdown",
   "metadata": {},
   "source": [
    "#### 1.2.1. Rename."
   ]
  },
  {
   "cell_type": "code",
   "execution_count": 13,
   "metadata": {},
   "outputs": [
    {
     "data": {
      "text/html": [
       "<div>\n",
       "<style scoped>\n",
       "    .dataframe tbody tr th:only-of-type {\n",
       "        vertical-align: middle;\n",
       "    }\n",
       "\n",
       "    .dataframe tbody tr th {\n",
       "        vertical-align: top;\n",
       "    }\n",
       "\n",
       "    .dataframe thead th {\n",
       "        text-align: right;\n",
       "    }\n",
       "</style>\n",
       "<table border=\"1\" class=\"dataframe\">\n",
       "  <thead>\n",
       "    <tr style=\"text-align: right;\">\n",
       "      <th></th>\n",
       "      <th>food_id</th>\n",
       "      <th>food</th>\n",
       "    </tr>\n",
       "  </thead>\n",
       "  <tbody>\n",
       "    <tr>\n",
       "      <th>87936</th>\n",
       "      <td>375503</td>\n",
       "      <td>DICED TOMATOES &amp; GREEN CHILIES ORIGINAL</td>\n",
       "    </tr>\n",
       "  </tbody>\n",
       "</table>\n",
       "</div>"
      ],
      "text/plain": [
       "       food_id                                     food\n",
       "87936   375503  DICED TOMATOES & GREEN CHILIES ORIGINAL"
      ]
     },
     "execution_count": 13,
     "metadata": {},
     "output_type": "execute_result"
    }
   ],
   "source": [
    "# change decription to food\n",
    "# change fdc_id to food_id\n",
    "food.rename(columns= {\"fdc_id\" : \"food_id\", \"description\" : \"food\"}, inplace=True)\n",
    "food.sample()"
   ]
  },
  {
   "cell_type": "code",
   "execution_count": 14,
   "metadata": {},
   "outputs": [
    {
     "data": {
      "text/html": [
       "<div>\n",
       "<style scoped>\n",
       "    .dataframe tbody tr th:only-of-type {\n",
       "        vertical-align: middle;\n",
       "    }\n",
       "\n",
       "    .dataframe tbody tr th {\n",
       "        vertical-align: top;\n",
       "    }\n",
       "\n",
       "    .dataframe thead th {\n",
       "        text-align: right;\n",
       "    }\n",
       "</style>\n",
       "<table border=\"1\" class=\"dataframe\">\n",
       "  <thead>\n",
       "    <tr style=\"text-align: right;\">\n",
       "      <th></th>\n",
       "      <th>food_id</th>\n",
       "      <th>nutrient_id</th>\n",
       "      <th>Per100g</th>\n",
       "    </tr>\n",
       "  </thead>\n",
       "  <tbody>\n",
       "    <tr>\n",
       "      <th>13726472</th>\n",
       "      <td>1597041</td>\n",
       "      <td>606</td>\n",
       "      <td>10.71</td>\n",
       "    </tr>\n",
       "  </tbody>\n",
       "</table>\n",
       "</div>"
      ],
      "text/plain": [
       "          food_id  nutrient_id  Per100g\n",
       "13726472  1597041          606    10.71"
      ]
     },
     "execution_count": 14,
     "metadata": {},
     "output_type": "execute_result"
    }
   ],
   "source": [
    "#change NutrientId to nutrient_id\n",
    "#change foodId to food_id\n",
    "ides.rename(columns= {\"FoodId\" : \"food_id\", \"NutrientId\" : \"nutrient_id\", 'Per100g ' : \"Per100g\"}, inplace=True)\n",
    "ides.sample()"
   ]
  },
  {
   "cell_type": "code",
   "execution_count": 15,
   "metadata": {},
   "outputs": [
    {
     "data": {
      "text/html": [
       "<div>\n",
       "<style scoped>\n",
       "    .dataframe tbody tr th:only-of-type {\n",
       "        vertical-align: middle;\n",
       "    }\n",
       "\n",
       "    .dataframe tbody tr th {\n",
       "        vertical-align: top;\n",
       "    }\n",
       "\n",
       "    .dataframe thead th {\n",
       "        text-align: right;\n",
       "    }\n",
       "</style>\n",
       "<table border=\"1\" class=\"dataframe\">\n",
       "  <thead>\n",
       "    <tr style=\"text-align: right;\">\n",
       "      <th></th>\n",
       "      <th>nutrient_id</th>\n",
       "      <th>nutrient</th>\n",
       "    </tr>\n",
       "  </thead>\n",
       "  <tbody>\n",
       "    <tr>\n",
       "      <th>420</th>\n",
       "      <td>2011</td>\n",
       "      <td>TFA 17:1 t</td>\n",
       "    </tr>\n",
       "  </tbody>\n",
       "</table>\n",
       "</div>"
      ],
      "text/plain": [
       "     nutrient_id    nutrient\n",
       "420         2011  TFA 17:1 t"
      ]
     },
     "execution_count": 15,
     "metadata": {},
     "output_type": "execute_result"
    }
   ],
   "source": [
    "# change id to nutrient_id\n",
    "# change name to nutrient\n",
    "nutrient.rename(columns= {\"name\" : \"nutrient\", \"id\" : \"nutrient_id\"}, inplace=True)\n",
    "nutrient.sample()"
   ]
  },
  {
   "attachments": {},
   "cell_type": "markdown",
   "metadata": {},
   "source": [
    "#### 1.2.2. Merge.\n",
    "Will do a inner merge, now with the same column name. also cleaned some other columns by doing drop, the id columns."
   ]
  },
  {
   "cell_type": "code",
   "execution_count": 16,
   "metadata": {},
   "outputs": [
    {
     "data": {
      "text/html": [
       "<div>\n",
       "<style scoped>\n",
       "    .dataframe tbody tr th:only-of-type {\n",
       "        vertical-align: middle;\n",
       "    }\n",
       "\n",
       "    .dataframe tbody tr th {\n",
       "        vertical-align: top;\n",
       "    }\n",
       "\n",
       "    .dataframe thead th {\n",
       "        text-align: right;\n",
       "    }\n",
       "</style>\n",
       "<table border=\"1\" class=\"dataframe\">\n",
       "  <thead>\n",
       "    <tr style=\"text-align: right;\">\n",
       "      <th></th>\n",
       "      <th>food</th>\n",
       "      <th>nutrient</th>\n",
       "      <th>Per100g</th>\n",
       "    </tr>\n",
       "  </thead>\n",
       "  <tbody>\n",
       "    <tr>\n",
       "      <th>3416240</th>\n",
       "      <td>CARAWAY CRISPY CRACKERS</td>\n",
       "      <td>iron</td>\n",
       "      <td>4.8</td>\n",
       "    </tr>\n",
       "  </tbody>\n",
       "</table>\n",
       "</div>"
      ],
      "text/plain": [
       "                            food nutrient  Per100g\n",
       "3416240  CARAWAY CRISPY CRACKERS     iron      4.8"
      ]
     },
     "execution_count": 16,
     "metadata": {},
     "output_type": "execute_result"
    }
   ],
   "source": [
    "usda = ex.merge (nutrient, ides, food)\n",
    "usda.sample()"
   ]
  },
  {
   "attachments": {},
   "cell_type": "markdown",
   "metadata": {},
   "source": [
    "Make the elements in column nutrient more equal for a better filtration."
   ]
  },
  {
   "cell_type": "code",
   "execution_count": 17,
   "metadata": {},
   "outputs": [],
   "source": [
    "usda[\"nutrient\"] = usda[\"nutrient\"].apply(lambda x: x.lower())\n",
    "usda[\"nutrient\"] = usda[\"nutrient\"].apply(lambda x: x.split(\",\")[0])"
   ]
  },
  {
   "cell_type": "code",
   "execution_count": 18,
   "metadata": {},
   "outputs": [
    {
     "data": {
      "text/html": [
       "<div>\n",
       "<style scoped>\n",
       "    .dataframe tbody tr th:only-of-type {\n",
       "        vertical-align: middle;\n",
       "    }\n",
       "\n",
       "    .dataframe tbody tr th {\n",
       "        vertical-align: top;\n",
       "    }\n",
       "\n",
       "    .dataframe thead th {\n",
       "        text-align: right;\n",
       "    }\n",
       "</style>\n",
       "<table border=\"1\" class=\"dataframe\">\n",
       "  <thead>\n",
       "    <tr style=\"text-align: right;\">\n",
       "      <th></th>\n",
       "      <th>food</th>\n",
       "      <th>nutrient</th>\n",
       "      <th>Per100g</th>\n",
       "    </tr>\n",
       "  </thead>\n",
       "  <tbody>\n",
       "    <tr>\n",
       "      <th>6437325</th>\n",
       "      <td>IRISH CREAM COFFEE CREAMER, IRISH CREAM</td>\n",
       "      <td>protein</td>\n",
       "      <td>0.000</td>\n",
       "    </tr>\n",
       "    <tr>\n",
       "      <th>327998</th>\n",
       "      <td>Milk, whole, 3.25% milkfat, with added vitamin D</td>\n",
       "      <td>vitamin a</td>\n",
       "      <td>162.000</td>\n",
       "    </tr>\n",
       "    <tr>\n",
       "      <th>5411695</th>\n",
       "      <td>GREEN OLIVE, CHEESE &amp; ROSEMARY BAKED CHEESE BITES</td>\n",
       "      <td>energy</td>\n",
       "      <td>533.000</td>\n",
       "    </tr>\n",
       "    <tr>\n",
       "      <th>271093</th>\n",
       "      <td>Beef, rib, large end (ribs 6-9), separable lea...</td>\n",
       "      <td>glutamic acid</td>\n",
       "      <td>4.136</td>\n",
       "    </tr>\n",
       "    <tr>\n",
       "      <th>2479081</th>\n",
       "      <td>SOUTHERN REFRESH MINTS, THE ORIGINAL COTTON CA...</td>\n",
       "      <td>vitamin a</td>\n",
       "      <td>0.000</td>\n",
       "    </tr>\n",
       "  </tbody>\n",
       "</table>\n",
       "</div>"
      ],
      "text/plain": [
       "                                                      food       nutrient  \\\n",
       "6437325            IRISH CREAM COFFEE CREAMER, IRISH CREAM        protein   \n",
       "327998    Milk, whole, 3.25% milkfat, with added vitamin D      vitamin a   \n",
       "5411695  GREEN OLIVE, CHEESE & ROSEMARY BAKED CHEESE BITES         energy   \n",
       "271093   Beef, rib, large end (ribs 6-9), separable lea...  glutamic acid   \n",
       "2479081  SOUTHERN REFRESH MINTS, THE ORIGINAL COTTON CA...      vitamin a   \n",
       "\n",
       "         Per100g  \n",
       "6437325    0.000  \n",
       "327998   162.000  \n",
       "5411695  533.000  \n",
       "271093     4.136  \n",
       "2479081    0.000  "
      ]
     },
     "execution_count": 18,
     "metadata": {},
     "output_type": "execute_result"
    }
   ],
   "source": [
    "usda.sample(5)"
   ]
  },
  {
   "cell_type": "code",
   "execution_count": 19,
   "metadata": {},
   "outputs": [
    {
     "data": {
      "text/plain": [
       "(7555511, 3)"
      ]
     },
     "execution_count": 19,
     "metadata": {},
     "output_type": "execute_result"
    }
   ],
   "source": [
    "usda.shape"
   ]
  },
  {
   "cell_type": "code",
   "execution_count": 20,
   "metadata": {},
   "outputs": [
    {
     "data": {
      "text/plain": [
       "2397702"
      ]
     },
     "execution_count": 20,
     "metadata": {},
     "output_type": "execute_result"
    }
   ],
   "source": [
    "usda.duplicated().sum()"
   ]
  },
  {
   "cell_type": "code",
   "execution_count": 21,
   "metadata": {},
   "outputs": [
    {
     "data": {
      "text/html": [
       "<div>\n",
       "<style scoped>\n",
       "    .dataframe tbody tr th:only-of-type {\n",
       "        vertical-align: middle;\n",
       "    }\n",
       "\n",
       "    .dataframe tbody tr th {\n",
       "        vertical-align: top;\n",
       "    }\n",
       "\n",
       "    .dataframe thead th {\n",
       "        text-align: right;\n",
       "    }\n",
       "</style>\n",
       "<table border=\"1\" class=\"dataframe\">\n",
       "  <thead>\n",
       "    <tr style=\"text-align: right;\">\n",
       "      <th></th>\n",
       "      <th>food</th>\n",
       "      <th>nutrient</th>\n",
       "      <th>Per100g</th>\n",
       "    </tr>\n",
       "  </thead>\n",
       "  <tbody>\n",
       "    <tr>\n",
       "      <th>0</th>\n",
       "      <td>Hummus</td>\n",
       "      <td>nitrogen</td>\n",
       "      <td>1.28</td>\n",
       "    </tr>\n",
       "    <tr>\n",
       "      <th>1</th>\n",
       "      <td>Hummus</td>\n",
       "      <td>total lipid (fat)</td>\n",
       "      <td>19.00</td>\n",
       "    </tr>\n",
       "    <tr>\n",
       "      <th>2</th>\n",
       "      <td>Hummus</td>\n",
       "      <td>ash</td>\n",
       "      <td>1.98</td>\n",
       "    </tr>\n",
       "    <tr>\n",
       "      <th>3</th>\n",
       "      <td>Hummus</td>\n",
       "      <td>water</td>\n",
       "      <td>56.30</td>\n",
       "    </tr>\n",
       "    <tr>\n",
       "      <th>4</th>\n",
       "      <td>Hummus</td>\n",
       "      <td>nitrogen</td>\n",
       "      <td>1.29</td>\n",
       "    </tr>\n",
       "    <tr>\n",
       "      <th>...</th>\n",
       "      <td>...</td>\n",
       "      <td>...</td>\n",
       "      <td>...</td>\n",
       "    </tr>\n",
       "    <tr>\n",
       "      <th>7555478</th>\n",
       "      <td>OIL, OLIVE, EXTRA LIGHT</td>\n",
       "      <td>delta-7-stigmastenol</td>\n",
       "      <td>21.90</td>\n",
       "    </tr>\n",
       "    <tr>\n",
       "      <th>7555479</th>\n",
       "      <td>OIL, PEANUT</td>\n",
       "      <td>stigmastadiene</td>\n",
       "      <td>0.00</td>\n",
       "    </tr>\n",
       "    <tr>\n",
       "      <th>7555487</th>\n",
       "      <td>OIL, SUNFLOWER</td>\n",
       "      <td>stigmastadiene</td>\n",
       "      <td>0.00</td>\n",
       "    </tr>\n",
       "    <tr>\n",
       "      <th>7555495</th>\n",
       "      <td>OIL, SAFFLOWER</td>\n",
       "      <td>stigmastadiene</td>\n",
       "      <td>0.00</td>\n",
       "    </tr>\n",
       "    <tr>\n",
       "      <th>7555503</th>\n",
       "      <td>OIL, OLIVE, EXTRA LIGHT</td>\n",
       "      <td>stigmastadiene</td>\n",
       "      <td>0.00</td>\n",
       "    </tr>\n",
       "  </tbody>\n",
       "</table>\n",
       "<p>5157809 rows × 3 columns</p>\n",
       "</div>"
      ],
      "text/plain": [
       "                            food              nutrient  Per100g\n",
       "0                         Hummus              nitrogen     1.28\n",
       "1                         Hummus     total lipid (fat)    19.00\n",
       "2                         Hummus                   ash     1.98\n",
       "3                         Hummus                 water    56.30\n",
       "4                         Hummus              nitrogen     1.29\n",
       "...                          ...                   ...      ...\n",
       "7555478  OIL, OLIVE, EXTRA LIGHT  delta-7-stigmastenol    21.90\n",
       "7555479              OIL, PEANUT        stigmastadiene     0.00\n",
       "7555487           OIL, SUNFLOWER        stigmastadiene     0.00\n",
       "7555495           OIL, SAFFLOWER        stigmastadiene     0.00\n",
       "7555503  OIL, OLIVE, EXTRA LIGHT        stigmastadiene     0.00\n",
       "\n",
       "[5157809 rows x 3 columns]"
      ]
     },
     "execution_count": 21,
     "metadata": {},
     "output_type": "execute_result"
    }
   ],
   "source": [
    "usda.drop_duplicates(keep='first')"
   ]
  },
  {
   "cell_type": "code",
   "execution_count": 22,
   "metadata": {},
   "outputs": [
    {
     "data": {
      "text/plain": [
       "0.000       2332591\n",
       "3.570         55609\n",
       "10.000        47297\n",
       "25.000        39924\n",
       "1.000         39784\n",
       "             ...   \n",
       "176.990           1\n",
       "6.304             1\n",
       "3588.000          1\n",
       "4890.000          1\n",
       "12.095            1\n",
       "Name: Per100g, Length: 26968, dtype: int64"
      ]
     },
     "execution_count": 22,
     "metadata": {},
     "output_type": "execute_result"
    }
   ],
   "source": [
    "usda.Per100g.value_counts()"
   ]
  },
  {
   "attachments": {},
   "cell_type": "markdown",
   "metadata": {},
   "source": [
    "## 2. HEALTH CARE web scraping.\n",
    "### 2.1. Exploration.\n",
    "Got the information from the page vedantu, about some nutrients and what causes the lak of them.\n",
    "#### 2.1.1. Get the link."
   ]
  },
  {
   "cell_type": "code",
   "execution_count": 23,
   "metadata": {},
   "outputs": [
    {
     "data": {
      "text/plain": [
       "<module 'src.extraction' from 'd:\\\\ironhack\\\\proyectos\\\\PipeLine_proy2\\\\src\\\\extraction.py'>"
      ]
     },
     "execution_count": 23,
     "metadata": {},
     "output_type": "execute_result"
    }
   ],
   "source": [
    "import requests\n",
    "from bs4 import BeautifulSoup\n",
    "import pandas as pd\n",
    "import requests\n",
    "import re\n",
    "import lxml\n",
    "import importlib\n",
    "import src.extraction as ex\n",
    "importlib.reload(ex)"
   ]
  },
  {
   "cell_type": "code",
   "execution_count": 24,
   "metadata": {},
   "outputs": [],
   "source": [
    "url = \"https://www.vedantu.com/biology/deficiency-diseases\"\n",
    "tags = ex.get_text(url)"
   ]
  },
  {
   "attachments": {},
   "cell_type": "markdown",
   "metadata": {},
   "source": [
    "#### 2.2. Searching for the info. \n",
    "Filter the elements wee need from the web page, we will need only the texts."
   ]
  },
  {
   "cell_type": "code",
   "execution_count": 25,
   "metadata": {},
   "outputs": [],
   "source": [
    "tag_1 = tags[37:55]\n",
    "tag_2 = tags[60:68]\n",
    "tag_3 = tags[73:91]"
   ]
  },
  {
   "cell_type": "code",
   "execution_count": 26,
   "metadata": {},
   "outputs": [],
   "source": [
    "info_1 = ex.text_filtered(tag_1)\n",
    "info_2 = ex.text_filtered(tag_2)\n",
    "info_3 = ex.text_filtered(tag_3)"
   ]
  },
  {
   "attachments": {},
   "cell_type": "markdown",
   "metadata": {},
   "source": [
    "Creating the lists into a data frame, it made it into a single column frame, had to separate the information into 2 columns, nutrients and the information, and at the end put the 3 data frames into 1."
   ]
  },
  {
   "cell_type": "code",
   "execution_count": 27,
   "metadata": {},
   "outputs": [
    {
     "data": {
      "text/html": [
       "<div>\n",
       "<style scoped>\n",
       "    .dataframe tbody tr th:only-of-type {\n",
       "        vertical-align: middle;\n",
       "    }\n",
       "\n",
       "    .dataframe tbody tr th {\n",
       "        vertical-align: top;\n",
       "    }\n",
       "\n",
       "    .dataframe thead th {\n",
       "        text-align: right;\n",
       "    }\n",
       "</style>\n",
       "<table border=\"1\" class=\"dataframe\">\n",
       "  <thead>\n",
       "    <tr style=\"text-align: right;\">\n",
       "      <th></th>\n",
       "      <th>nutrients</th>\n",
       "      <th>info</th>\n",
       "    </tr>\n",
       "  </thead>\n",
       "  <tbody>\n",
       "    <tr>\n",
       "      <th>0</th>\n",
       "      <td>thiamine (vitamin b1)</td>\n",
       "      <td>severe deficiency causes beriberi with symptom...</td>\n",
       "    </tr>\n",
       "    <tr>\n",
       "      <th>1</th>\n",
       "      <td>riboflavin (vitamin b2)</td>\n",
       "      <td>the deficiency of this vitamin causes angular ...</td>\n",
       "    </tr>\n",
       "    <tr>\n",
       "      <th>2</th>\n",
       "      <td>niacin (vitamin b3)</td>\n",
       "      <td>causes pellagra which is a life-threatening di...</td>\n",
       "    </tr>\n",
       "    <tr>\n",
       "      <th>3</th>\n",
       "      <td>pantothenic acid (vitamin b5)</td>\n",
       "      <td>vitamin b5 deficiency is rare and the symptoms...</td>\n",
       "    </tr>\n",
       "    <tr>\n",
       "      <th>4</th>\n",
       "      <td>vitamin b6</td>\n",
       "      <td>end-stage kidney diseases such as celiac disea...</td>\n",
       "    </tr>\n",
       "    <tr>\n",
       "      <th>5</th>\n",
       "      <td>biotin (vitamin b7)</td>\n",
       "      <td>the deficiency affects the growth of hair and ...</td>\n",
       "    </tr>\n",
       "    <tr>\n",
       "      <th>6</th>\n",
       "      <td>folate (vitamin b9)</td>\n",
       "      <td>it is very common and the deficiency is associ...</td>\n",
       "    </tr>\n",
       "    <tr>\n",
       "      <th>7</th>\n",
       "      <td>vitamin b12</td>\n",
       "      <td>deficiency of this disease leads to pernicious...</td>\n",
       "    </tr>\n",
       "    <tr>\n",
       "      <th>8</th>\n",
       "      <td>ascorbic acid (vitamin c)</td>\n",
       "      <td>deficiency results in scurvy and the symptoms ...</td>\n",
       "    </tr>\n",
       "    <tr>\n",
       "      <th>9</th>\n",
       "      <td>retinol (vitamin a)</td>\n",
       "      <td>the deficiency causes night blindness or nycta...</td>\n",
       "    </tr>\n",
       "    <tr>\n",
       "      <th>10</th>\n",
       "      <td>calciferol (vitamin d)</td>\n",
       "      <td>it causes a disease known as rickets. the symp...</td>\n",
       "    </tr>\n",
       "    <tr>\n",
       "      <th>11</th>\n",
       "      <td>phylloquinone (vitamin k)</td>\n",
       "      <td>the deficiency of vitamin k leads to decreased...</td>\n",
       "    </tr>\n",
       "    <tr>\n",
       "      <th>12</th>\n",
       "      <td>tocopherol (vitamin e)</td>\n",
       "      <td>the major problems associated are muscle and n...</td>\n",
       "    </tr>\n",
       "    <tr>\n",
       "      <th>13</th>\n",
       "      <td>calcium</td>\n",
       "      <td>the deficiency of calcium leads to decreased c...</td>\n",
       "    </tr>\n",
       "    <tr>\n",
       "      <th>14</th>\n",
       "      <td>iron deficiency</td>\n",
       "      <td>iron deficiency in the body results in anaemia...</td>\n",
       "    </tr>\n",
       "    <tr>\n",
       "      <th>15</th>\n",
       "      <td>magnesium deficiency</td>\n",
       "      <td>magnesium deficiency is uncommon. however, in ...</td>\n",
       "    </tr>\n",
       "    <tr>\n",
       "      <th>16</th>\n",
       "      <td>potassium deficiency</td>\n",
       "      <td>the common cause of potassium deficiency is ex...</td>\n",
       "    </tr>\n",
       "    <tr>\n",
       "      <th>17</th>\n",
       "      <td>zinc</td>\n",
       "      <td>zinc deficiency causes loss of taste, smell, a...</td>\n",
       "    </tr>\n",
       "    <tr>\n",
       "      <th>18</th>\n",
       "      <td>iodine</td>\n",
       "      <td>the deficiency of this mineral can result in g...</td>\n",
       "    </tr>\n",
       "    <tr>\n",
       "      <th>19</th>\n",
       "      <td>sodium</td>\n",
       "      <td>sodium deficiency is also known as hyponatremi...</td>\n",
       "    </tr>\n",
       "    <tr>\n",
       "      <th>20</th>\n",
       "      <td>phosphorus</td>\n",
       "      <td>the deficiency of phosphorus leads to the form...</td>\n",
       "    </tr>\n",
       "    <tr>\n",
       "      <th>21</th>\n",
       "      <td>manganese</td>\n",
       "      <td>manganese is important for bone growth and car...</td>\n",
       "    </tr>\n",
       "  </tbody>\n",
       "</table>\n",
       "</div>"
      ],
      "text/plain": [
       "                        nutrients  \\\n",
       "0           thiamine (vitamin b1)   \n",
       "1         riboflavin (vitamin b2)   \n",
       "2             niacin (vitamin b3)   \n",
       "3   pantothenic acid (vitamin b5)   \n",
       "4                      vitamin b6   \n",
       "5             biotin (vitamin b7)   \n",
       "6             folate (vitamin b9)   \n",
       "7                     vitamin b12   \n",
       "8       ascorbic acid (vitamin c)   \n",
       "9             retinol (vitamin a)   \n",
       "10         calciferol (vitamin d)   \n",
       "11      phylloquinone (vitamin k)   \n",
       "12         tocopherol (vitamin e)   \n",
       "13                        calcium   \n",
       "14                iron deficiency   \n",
       "15           magnesium deficiency   \n",
       "16           potassium deficiency   \n",
       "17                           zinc   \n",
       "18                         iodine   \n",
       "19                         sodium   \n",
       "20                     phosphorus   \n",
       "21                      manganese   \n",
       "\n",
       "                                                 info  \n",
       "0   severe deficiency causes beriberi with symptom...  \n",
       "1   the deficiency of this vitamin causes angular ...  \n",
       "2   causes pellagra which is a life-threatening di...  \n",
       "3   vitamin b5 deficiency is rare and the symptoms...  \n",
       "4   end-stage kidney diseases such as celiac disea...  \n",
       "5   the deficiency affects the growth of hair and ...  \n",
       "6   it is very common and the deficiency is associ...  \n",
       "7   deficiency of this disease leads to pernicious...  \n",
       "8   deficiency results in scurvy and the symptoms ...  \n",
       "9   the deficiency causes night blindness or nycta...  \n",
       "10  it causes a disease known as rickets. the symp...  \n",
       "11  the deficiency of vitamin k leads to decreased...  \n",
       "12  the major problems associated are muscle and n...  \n",
       "13  the deficiency of calcium leads to decreased c...  \n",
       "14  iron deficiency in the body results in anaemia...  \n",
       "15  magnesium deficiency is uncommon. however, in ...  \n",
       "16  the common cause of potassium deficiency is ex...  \n",
       "17  zinc deficiency causes loss of taste, smell, a...  \n",
       "18  the deficiency of this mineral can result in g...  \n",
       "19  sodium deficiency is also known as hyponatremi...  \n",
       "20  the deficiency of phosphorus leads to the form...  \n",
       "21  manganese is important for bone growth and car...  "
      ]
     },
     "execution_count": 27,
     "metadata": {},
     "output_type": "execute_result"
    }
   ],
   "source": [
    "df = ex.db_concat (info_1, info_2, info_3)\n",
    "df.reset_index(drop=True, inplace=True)\n",
    "df"
   ]
  },
  {
   "attachments": {},
   "cell_type": "markdown",
   "metadata": {},
   "source": [
    "Had to do the searching for the disease manually."
   ]
  },
  {
   "cell_type": "code",
   "execution_count": 28,
   "metadata": {},
   "outputs": [
    {
     "data": {
      "text/plain": [
       "'the deficiency of phosphorus leads to the formation of underdeveloped teeth and bones.'"
      ]
     },
     "execution_count": 28,
     "metadata": {},
     "output_type": "execute_result"
    }
   ],
   "source": [
    "lsttotal = list(df[\"info\"])\n",
    "lsttotal[20]"
   ]
  },
  {
   "cell_type": "code",
   "execution_count": 29,
   "metadata": {},
   "outputs": [],
   "source": [
    "lsttotal = list(df[\"info\"])\n",
    "lst0 = lsttotal[0]\n",
    "lst1 = lsttotal[1]\n",
    "lst2 = lsttotal[2]\n",
    "lst3 = lsttotal[3]\n",
    "lst4 = lsttotal[4]\n",
    "lst5 = lsttotal[5]\n",
    "lst6 = lsttotal[6]\n",
    "lst7 = lsttotal[7]\n",
    "lst8 = lsttotal[8]\n",
    "lst9 = lsttotal[9]\n",
    "lst10 = lsttotal[10]\n",
    "lst11 = lsttotal[11]\n",
    "lst12 = lsttotal[12]\n",
    "lst13 = lsttotal[13]\n",
    "lst14 = lsttotal[14]\n",
    "lst15 = lsttotal[15]\n",
    "lst16 = lsttotal[16]\n",
    "lst17 = lsttotal[17]\n",
    "lst18 = lsttotal[18]\n",
    "lst19 = lsttotal[19]\n",
    "lst20 = lsttotal[20]\n",
    "lst21 = lsttotal[21]\n"
   ]
  },
  {
   "cell_type": "code",
   "execution_count": 30,
   "metadata": {},
   "outputs": [],
   "source": [
    "dis0 = ex.diseases (lst0)\n",
    "dis1 = ex.diseases (lst1)\n",
    "dis2 = ex.diseases (lst2)\n",
    "dis3 = ex.diseases (lst3)\n",
    "dis4 = ex.diseases (lst4)\n",
    "dis5 = ex.diseases (lst5)\n",
    "dis6 = ex.diseases (lst6)\n",
    "dis7 = ex.diseases (lst7)\n",
    "dis8 = ex.diseases (lst8)\n",
    "dis9 = ex.diseases (lst9)\n",
    "dis10 = ex.diseases (lst10)\n",
    "dis11 = ex.diseases (lst11)\n",
    "dis12 = ex.diseases (lst12)\n",
    "dis13 = ex.diseases (lst13)\n",
    "dis14 = ex.diseases (lst14)\n",
    "dis15 = ex.diseases (lst15)\n",
    "dis16 = ex.diseases (lst16)\n",
    "dis17 = ex.diseases (lst17)\n",
    "dis18 = ex.diseases (lst18)\n",
    "dis19 = ex.diseases (lst19)\n",
    "dis20 = ex.diseases (lst20)\n",
    "dis21 = ex.diseases (lst21)"
   ]
  },
  {
   "cell_type": "code",
   "execution_count": 31,
   "metadata": {},
   "outputs": [],
   "source": [
    "lista = ex.diseases_total (dis0, dis1, dis2, dis3, dis4, dis5, dis6, dis7, dis8, dis9, dis10, dis11, dis12, dis13, dis14, dis15, dis16, dis17, dis18, dis19, dis20, dis21) "
   ]
  },
  {
   "attachments": {},
   "cell_type": "markdown",
   "metadata": {},
   "source": [
    "Making them a data frame."
   ]
  },
  {
   "cell_type": "code",
   "execution_count": 32,
   "metadata": {},
   "outputs": [
    {
     "data": {
      "text/html": [
       "<div>\n",
       "<style scoped>\n",
       "    .dataframe tbody tr th:only-of-type {\n",
       "        vertical-align: middle;\n",
       "    }\n",
       "\n",
       "    .dataframe tbody tr th {\n",
       "        vertical-align: top;\n",
       "    }\n",
       "\n",
       "    .dataframe thead th {\n",
       "        text-align: right;\n",
       "    }\n",
       "</style>\n",
       "<table border=\"1\" class=\"dataframe\">\n",
       "  <thead>\n",
       "    <tr style=\"text-align: right;\">\n",
       "      <th></th>\n",
       "      <th>diseases</th>\n",
       "    </tr>\n",
       "  </thead>\n",
       "  <tbody>\n",
       "    <tr>\n",
       "      <th>0</th>\n",
       "      <td>beriberi/ weight loss/ weakness</td>\n",
       "    </tr>\n",
       "    <tr>\n",
       "      <th>1</th>\n",
       "      <td>anaemia/ angular cheilitis/ chapped/ cracked lips</td>\n",
       "    </tr>\n",
       "    <tr>\n",
       "      <th>2</th>\n",
       "      <td>pellagra/ diarrhoea/ dermatitis/ dementia</td>\n",
       "    </tr>\n",
       "    <tr>\n",
       "      <th>3</th>\n",
       "      <td>fatigue/ apathy/ irritability</td>\n",
       "    </tr>\n",
       "    <tr>\n",
       "      <th>4</th>\n",
       "      <td>anaemia/ dermatitis/ celiac disease/ crohn/ ki...</td>\n",
       "    </tr>\n",
       "    <tr>\n",
       "      <th>5</th>\n",
       "      <td>skin health</td>\n",
       "    </tr>\n",
       "    <tr>\n",
       "      <th>6</th>\n",
       "      <td>neural tube defects</td>\n",
       "    </tr>\n",
       "    <tr>\n",
       "      <th>7</th>\n",
       "      <td>anaemia/ methylmalonic acidemia</td>\n",
       "    </tr>\n",
       "    <tr>\n",
       "      <th>8</th>\n",
       "      <td>scurvy/ skin spots</td>\n",
       "    </tr>\n",
       "    <tr>\n",
       "      <th>9</th>\n",
       "      <td>nyctalopia/ keratomalacia/ blindness</td>\n",
       "    </tr>\n",
       "    <tr>\n",
       "      <th>10</th>\n",
       "      <td>rickets/ weakening of bones</td>\n",
       "    </tr>\n",
       "    <tr>\n",
       "      <th>11</th>\n",
       "      <td>decreased coagulation of blood</td>\n",
       "    </tr>\n",
       "    <tr>\n",
       "      <th>12</th>\n",
       "      <td>weakness/ muscle weakness/ nerve weakness</td>\n",
       "    </tr>\n",
       "    <tr>\n",
       "      <th>13</th>\n",
       "      <td>fatigue/ osteopenia</td>\n",
       "    </tr>\n",
       "    <tr>\n",
       "      <th>14</th>\n",
       "      <td>anaemia/ feeling weak and tired</td>\n",
       "    </tr>\n",
       "    <tr>\n",
       "      <th>15</th>\n",
       "      <td>weakness/ nausea/ vomiting</td>\n",
       "    </tr>\n",
       "    <tr>\n",
       "      <th>16</th>\n",
       "      <td>vomiting/ kidney disease</td>\n",
       "    </tr>\n",
       "    <tr>\n",
       "      <th>17</th>\n",
       "      <td>loss of taste, smell</td>\n",
       "    </tr>\n",
       "    <tr>\n",
       "      <th>18</th>\n",
       "      <td>goitre</td>\n",
       "    </tr>\n",
       "    <tr>\n",
       "      <th>19</th>\n",
       "      <td>hyponatremia/ dehydration/ heart diseases</td>\n",
       "    </tr>\n",
       "    <tr>\n",
       "      <th>20</th>\n",
       "      <td>underdeveloped teeth and bones</td>\n",
       "    </tr>\n",
       "    <tr>\n",
       "      <th>21</th>\n",
       "      <td>atherosclerosis/ heart diseases/ muscle contra...</td>\n",
       "    </tr>\n",
       "  </tbody>\n",
       "</table>\n",
       "</div>"
      ],
      "text/plain": [
       "                                             diseases\n",
       "0                     beriberi/ weight loss/ weakness\n",
       "1   anaemia/ angular cheilitis/ chapped/ cracked lips\n",
       "2           pellagra/ diarrhoea/ dermatitis/ dementia\n",
       "3                       fatigue/ apathy/ irritability\n",
       "4   anaemia/ dermatitis/ celiac disease/ crohn/ ki...\n",
       "5                                         skin health\n",
       "6                                 neural tube defects\n",
       "7                     anaemia/ methylmalonic acidemia\n",
       "8                                  scurvy/ skin spots\n",
       "9                nyctalopia/ keratomalacia/ blindness\n",
       "10                        rickets/ weakening of bones\n",
       "11                     decreased coagulation of blood\n",
       "12          weakness/ muscle weakness/ nerve weakness\n",
       "13                                fatigue/ osteopenia\n",
       "14                    anaemia/ feeling weak and tired\n",
       "15                         weakness/ nausea/ vomiting\n",
       "16                           vomiting/ kidney disease\n",
       "17                               loss of taste, smell\n",
       "18                                             goitre\n",
       "19          hyponatremia/ dehydration/ heart diseases\n",
       "20                     underdeveloped teeth and bones\n",
       "21  atherosclerosis/ heart diseases/ muscle contra..."
      ]
     },
     "execution_count": 32,
     "metadata": {},
     "output_type": "execute_result"
    }
   ],
   "source": [
    "enf = ex.df_diseases (lista)\n",
    "enf.columns=[\"diseases\"]\n",
    "enf"
   ]
  },
  {
   "attachments": {},
   "cell_type": "markdown",
   "metadata": {},
   "source": [
    "2.3. Making the Data frame."
   ]
  },
  {
   "cell_type": "code",
   "execution_count": 33,
   "metadata": {},
   "outputs": [
    {
     "data": {
      "text/html": [
       "<div>\n",
       "<style scoped>\n",
       "    .dataframe tbody tr th:only-of-type {\n",
       "        vertical-align: middle;\n",
       "    }\n",
       "\n",
       "    .dataframe tbody tr th {\n",
       "        vertical-align: top;\n",
       "    }\n",
       "\n",
       "    .dataframe thead th {\n",
       "        text-align: right;\n",
       "    }\n",
       "</style>\n",
       "<table border=\"1\" class=\"dataframe\">\n",
       "  <thead>\n",
       "    <tr style=\"text-align: right;\">\n",
       "      <th></th>\n",
       "      <th>nutrients</th>\n",
       "      <th>info</th>\n",
       "      <th>diseases</th>\n",
       "    </tr>\n",
       "  </thead>\n",
       "  <tbody>\n",
       "    <tr>\n",
       "      <th>16</th>\n",
       "      <td>potassium deficiency</td>\n",
       "      <td>the common cause of potassium deficiency is ex...</td>\n",
       "      <td>vomiting/ kidney disease</td>\n",
       "    </tr>\n",
       "  </tbody>\n",
       "</table>\n",
       "</div>"
      ],
      "text/plain": [
       "               nutrients                                               info  \\\n",
       "16  potassium deficiency  the common cause of potassium deficiency is ex...   \n",
       "\n",
       "                    diseases  \n",
       "16  vomiting/ kidney disease  "
      ]
     },
     "execution_count": 33,
     "metadata": {},
     "output_type": "execute_result"
    }
   ],
   "source": [
    "x = pd.concat([df, enf], axis=1)\n",
    "x.sample()"
   ]
  },
  {
   "cell_type": "code",
   "execution_count": 34,
   "metadata": {},
   "outputs": [
    {
     "data": {
      "text/html": [
       "<div>\n",
       "<style scoped>\n",
       "    .dataframe tbody tr th:only-of-type {\n",
       "        vertical-align: middle;\n",
       "    }\n",
       "\n",
       "    .dataframe tbody tr th {\n",
       "        vertical-align: top;\n",
       "    }\n",
       "\n",
       "    .dataframe thead th {\n",
       "        text-align: right;\n",
       "    }\n",
       "</style>\n",
       "<table border=\"1\" class=\"dataframe\">\n",
       "  <thead>\n",
       "    <tr style=\"text-align: right;\">\n",
       "      <th></th>\n",
       "      <th>nutrients</th>\n",
       "      <th>diseases</th>\n",
       "      <th>info</th>\n",
       "    </tr>\n",
       "  </thead>\n",
       "  <tbody>\n",
       "    <tr>\n",
       "      <th>19</th>\n",
       "      <td>sodium</td>\n",
       "      <td>hyponatremia/ dehydration/ heart diseases</td>\n",
       "      <td>sodium deficiency is also known as hyponatremi...</td>\n",
       "    </tr>\n",
       "  </tbody>\n",
       "</table>\n",
       "</div>"
      ],
      "text/plain": [
       "   nutrients                                   diseases  \\\n",
       "19    sodium  hyponatremia/ dehydration/ heart diseases   \n",
       "\n",
       "                                                 info  \n",
       "19  sodium deficiency is also known as hyponatremi...  "
      ]
     },
     "execution_count": 34,
     "metadata": {},
     "output_type": "execute_result"
    }
   ],
   "source": [
    "disess = x.reindex(columns = ['nutrients','diseases','info'])\n",
    "disess.sample()"
   ]
  },
  {
   "attachments": {},
   "cell_type": "markdown",
   "metadata": {},
   "source": [
    "## 3. Mixing information.\n",
    "### 3.1. from the 2 Data Frames.\n",
    "From the information I gather doing web scraping I will put themm toghether into one, will filtrate the information from the usda table to choose only the diseases I got from the web scraping, that will throw the info I want for this proyect."
   ]
  },
  {
   "cell_type": "code",
   "execution_count": 35,
   "metadata": {},
   "outputs": [],
   "source": [
    "usda = (usda.loc[(usda['nutrient'] == \"thiamine\") | (usda['nutrient'] == \"riboflavin\") | (usda['nutrient'] == \"niacin\") | (usda['nutrient'] == \"pantothenic\") | (usda['nutrient'] == \"vitamin b6\") | (usda['nutrient'] == \"biotin\") | (usda['nutrient'] == \"folate\") | (usda['nutrient'] == \"vitamin b12\") | (usda['nutrient'] == \"ascorbic acid\") | (usda['nutrient'] == \"retinol\") | (usda['nutrient'] == \"calciferol\") | (usda['nutrient'] == \"phylloquinone\") | (usda['nutrient'] == \"tocopherol\") | (usda['nutrient'] == \"calcium\") | (usda['nutrient'] == \"iron\") | (usda['nutrient'] == \"magnesium\") | (usda['nutrient'] == \"potassium\") | (usda['nutrient'] == \"zinc\") | (usda['nutrient'] == \"iodine\") | (usda['nutrient'] == \"sodium\") | (usda['nutrient'] == \"phosphorus\") | (usda['nutrient'] == \"manganese\")])"
   ]
  },
  {
   "cell_type": "code",
   "execution_count": 36,
   "metadata": {},
   "outputs": [],
   "source": [
    "usda.drop_duplicates(subset=['food', 'nutrient'], keep='first', inplace= True)"
   ]
  },
  {
   "cell_type": "code",
   "execution_count": 37,
   "metadata": {},
   "outputs": [
    {
     "data": {
      "text/html": [
       "<div>\n",
       "<style scoped>\n",
       "    .dataframe tbody tr th:only-of-type {\n",
       "        vertical-align: middle;\n",
       "    }\n",
       "\n",
       "    .dataframe tbody tr th {\n",
       "        vertical-align: top;\n",
       "    }\n",
       "\n",
       "    .dataframe thead th {\n",
       "        text-align: right;\n",
       "    }\n",
       "</style>\n",
       "<table border=\"1\" class=\"dataframe\">\n",
       "  <thead>\n",
       "    <tr style=\"text-align: right;\">\n",
       "      <th></th>\n",
       "      <th>food</th>\n",
       "      <th>nutrient</th>\n",
       "      <th>Per100g</th>\n",
       "    </tr>\n",
       "  </thead>\n",
       "  <tbody>\n",
       "    <tr>\n",
       "      <th>183</th>\n",
       "      <td>Hummus, commercial</td>\n",
       "      <td>calcium</td>\n",
       "      <td>41.00</td>\n",
       "    </tr>\n",
       "    <tr>\n",
       "      <th>184</th>\n",
       "      <td>Hummus, commercial</td>\n",
       "      <td>iron</td>\n",
       "      <td>2.41</td>\n",
       "    </tr>\n",
       "    <tr>\n",
       "      <th>185</th>\n",
       "      <td>Hummus, commercial</td>\n",
       "      <td>magnesium</td>\n",
       "      <td>71.10</td>\n",
       "    </tr>\n",
       "    <tr>\n",
       "      <th>186</th>\n",
       "      <td>Hummus, commercial</td>\n",
       "      <td>phosphorus</td>\n",
       "      <td>166.00</td>\n",
       "    </tr>\n",
       "    <tr>\n",
       "      <th>187</th>\n",
       "      <td>Hummus, commercial</td>\n",
       "      <td>potassium</td>\n",
       "      <td>289.00</td>\n",
       "    </tr>\n",
       "    <tr>\n",
       "      <th>...</th>\n",
       "      <td>...</td>\n",
       "      <td>...</td>\n",
       "      <td>...</td>\n",
       "    </tr>\n",
       "    <tr>\n",
       "      <th>7513038</th>\n",
       "      <td>MUSHROOMS, LIONS MANE</td>\n",
       "      <td>folate</td>\n",
       "      <td>33.80</td>\n",
       "    </tr>\n",
       "    <tr>\n",
       "      <th>7513046</th>\n",
       "      <td>SPINACH, REGULAR (MATURE)</td>\n",
       "      <td>folate</td>\n",
       "      <td>120.00</td>\n",
       "    </tr>\n",
       "    <tr>\n",
       "      <th>7513054</th>\n",
       "      <td>SPINACH, BABY</td>\n",
       "      <td>folate</td>\n",
       "      <td>90.40</td>\n",
       "    </tr>\n",
       "    <tr>\n",
       "      <th>7513062</th>\n",
       "      <td>TOMATOES, ROMA</td>\n",
       "      <td>folate</td>\n",
       "      <td>11.10</td>\n",
       "    </tr>\n",
       "    <tr>\n",
       "      <th>7513070</th>\n",
       "      <td>MUSHROOMS, WHITE BUTTON</td>\n",
       "      <td>folate</td>\n",
       "      <td>41.90</td>\n",
       "    </tr>\n",
       "  </tbody>\n",
       "</table>\n",
       "<p>1029410 rows × 3 columns</p>\n",
       "</div>"
      ],
      "text/plain": [
       "                              food    nutrient  Per100g\n",
       "183             Hummus, commercial     calcium    41.00\n",
       "184             Hummus, commercial        iron     2.41\n",
       "185             Hummus, commercial   magnesium    71.10\n",
       "186             Hummus, commercial  phosphorus   166.00\n",
       "187             Hummus, commercial   potassium   289.00\n",
       "...                            ...         ...      ...\n",
       "7513038      MUSHROOMS, LIONS MANE      folate    33.80\n",
       "7513046  SPINACH, REGULAR (MATURE)      folate   120.00\n",
       "7513054              SPINACH, BABY      folate    90.40\n",
       "7513062             TOMATOES, ROMA      folate    11.10\n",
       "7513070    MUSHROOMS, WHITE BUTTON      folate    41.90\n",
       "\n",
       "[1029410 rows x 3 columns]"
      ]
     },
     "execution_count": 37,
     "metadata": {},
     "output_type": "execute_result"
    }
   ],
   "source": [
    "usda "
   ]
  },
  {
   "attachments": {},
   "cell_type": "markdown",
   "metadata": {},
   "source": [
    "Create new columns with the amounts of nutrients, \"nutri_counts\" for how many diversity of nutrients does it have, and \"sum\" for the total amount of grams per 100g that from each nutrient that each food has."
   ]
  },
  {
   "cell_type": "code",
   "execution_count": 47,
   "metadata": {},
   "outputs": [],
   "source": [
    "usdaa = ex.groupby (usda)"
   ]
  },
  {
   "attachments": {},
   "cell_type": "markdown",
   "metadata": {},
   "source": [
    "### 3.2. Final Data Frame.\n",
    "Filter from the columns \"nutri_counts\" and \"sum\" to make way shorter the table and get to the most powerfull food.\n",
    "This function I can use to get the information for the graphs."
   ]
  },
  {
   "attachments": {},
   "cell_type": "markdown",
   "metadata": {},
   "source": [
    "2 different types of super foods that will analys.\n",
    "\n",
    "    - food with the most cuantity by number of nutrients.\n",
    "    - food with the more grams of nutrients per 100g."
   ]
  },
  {
   "cell_type": "code",
   "execution_count": 93,
   "metadata": {},
   "outputs": [
    {
     "data": {
      "text/html": [
       "<div>\n",
       "<style scoped>\n",
       "    .dataframe tbody tr th:only-of-type {\n",
       "        vertical-align: middle;\n",
       "    }\n",
       "\n",
       "    .dataframe tbody tr th {\n",
       "        vertical-align: top;\n",
       "    }\n",
       "\n",
       "    .dataframe thead th {\n",
       "        text-align: right;\n",
       "    }\n",
       "</style>\n",
       "<table border=\"1\" class=\"dataframe\">\n",
       "  <thead>\n",
       "    <tr style=\"text-align: right;\">\n",
       "      <th></th>\n",
       "      <th>food</th>\n",
       "      <th>nutrient</th>\n",
       "      <th>Per100g</th>\n",
       "      <th>nutri_counts</th>\n",
       "      <th>sum</th>\n",
       "    </tr>\n",
       "  </thead>\n",
       "  <tbody>\n",
       "    <tr>\n",
       "      <th>7470796</th>\n",
       "      <td>Butter, stick, salted</td>\n",
       "      <td>phosphorus</td>\n",
       "      <td>22.0</td>\n",
       "      <td>15</td>\n",
       "      <td>1340.735</td>\n",
       "    </tr>\n",
       "  </tbody>\n",
       "</table>\n",
       "</div>"
      ],
      "text/plain": [
       "                          food    nutrient  Per100g  nutri_counts       sum\n",
       "7470796  Butter, stick, salted  phosphorus     22.0            15  1340.735"
      ]
     },
     "execution_count": 93,
     "metadata": {},
     "output_type": "execute_result"
    }
   ],
   "source": [
    "nutri12 = ex.for_graphs_lastfilter (usdaa, 14.00, 100)\n",
    "nutri12.sample()"
   ]
  },
  {
   "attachments": {},
   "cell_type": "markdown",
   "metadata": {},
   "source": [
    "We can see that theres some false information because of the cuantity of grams per nutrient in some foods, it looks false.\n",
    "will probably try to eliminated ----- for lack of time I wont do it :P"
   ]
  },
  {
   "cell_type": "code",
   "execution_count": 95,
   "metadata": {},
   "outputs": [
    {
     "data": {
      "text/html": [
       "<div>\n",
       "<style scoped>\n",
       "    .dataframe tbody tr th:only-of-type {\n",
       "        vertical-align: middle;\n",
       "    }\n",
       "\n",
       "    .dataframe tbody tr th {\n",
       "        vertical-align: top;\n",
       "    }\n",
       "\n",
       "    .dataframe thead th {\n",
       "        text-align: right;\n",
       "    }\n",
       "</style>\n",
       "<table border=\"1\" class=\"dataframe\">\n",
       "  <thead>\n",
       "    <tr style=\"text-align: right;\">\n",
       "      <th></th>\n",
       "      <th>food</th>\n",
       "      <th>nutrient</th>\n",
       "      <th>Per100g</th>\n",
       "      <th>nutri_counts</th>\n",
       "      <th>sum</th>\n",
       "    </tr>\n",
       "  </thead>\n",
       "  <tbody>\n",
       "    <tr>\n",
       "      <th>5613759</th>\n",
       "      <td>SIMPLE TRUE ORGANIC, CEREAL TOASTED OATS</td>\n",
       "      <td>folate</td>\n",
       "      <td>166666667.0</td>\n",
       "      <td>7</td>\n",
       "      <td>1.666680e+08</td>\n",
       "    </tr>\n",
       "    <tr>\n",
       "      <th>4008814</th>\n",
       "      <td>NABISCO OREO COOKIE CRUMBS CRUMBS 1X25.000 LB</td>\n",
       "      <td>manganese</td>\n",
       "      <td>0.0</td>\n",
       "      <td>5</td>\n",
       "      <td>3.448560e+06</td>\n",
       "    </tr>\n",
       "    <tr>\n",
       "      <th>6082302</th>\n",
       "      <td>INSTANT ICED TEA MIX, LEMON</td>\n",
       "      <td>calcium</td>\n",
       "      <td>14.0</td>\n",
       "      <td>5</td>\n",
       "      <td>3.928572e+08</td>\n",
       "    </tr>\n",
       "    <tr>\n",
       "      <th>4025650</th>\n",
       "      <td>OREO COOKIES 1X20.000 LB</td>\n",
       "      <td>folate</td>\n",
       "      <td>3448276.0</td>\n",
       "      <td>5</td>\n",
       "      <td>3.448562e+06</td>\n",
       "    </tr>\n",
       "    <tr>\n",
       "      <th>4008811</th>\n",
       "      <td>NABISCO OREO COOKIE CRUMBS CRUMBS 1X25.000 LB</td>\n",
       "      <td>zinc</td>\n",
       "      <td>0.0</td>\n",
       "      <td>5</td>\n",
       "      <td>3.448560e+06</td>\n",
       "    </tr>\n",
       "    <tr>\n",
       "      <th>5781448</th>\n",
       "      <td>ANCHOVIES IN OLIVE OIL</td>\n",
       "      <td>sodium</td>\n",
       "      <td>4687500.0</td>\n",
       "      <td>3</td>\n",
       "      <td>4.687752e+06</td>\n",
       "    </tr>\n",
       "    <tr>\n",
       "      <th>5682941</th>\n",
       "      <td>DRY AGED BEEF PANKO BREADCRUMBS</td>\n",
       "      <td>sodium</td>\n",
       "      <td>3500000.0</td>\n",
       "      <td>1</td>\n",
       "      <td>3.500000e+06</td>\n",
       "    </tr>\n",
       "    <tr>\n",
       "      <th>6614023</th>\n",
       "      <td>CALYPSO RUB, SWEET &amp; SPICY CARIBBEAN SPICE BLEND.</td>\n",
       "      <td>iron</td>\n",
       "      <td>0.0</td>\n",
       "      <td>3</td>\n",
       "      <td>1.095238e+07</td>\n",
       "    </tr>\n",
       "    <tr>\n",
       "      <th>6131298</th>\n",
       "      <td>RAW ITALIAN ALMOND BUTTER, RAW ITALIAN ALMOND</td>\n",
       "      <td>calcium</td>\n",
       "      <td>286.0</td>\n",
       "      <td>4</td>\n",
       "      <td>7.500000e+09</td>\n",
       "    </tr>\n",
       "    <tr>\n",
       "      <th>5590960</th>\n",
       "      <td>WICKED SPICE</td>\n",
       "      <td>sodium</td>\n",
       "      <td>5800000.0</td>\n",
       "      <td>1</td>\n",
       "      <td>5.800000e+06</td>\n",
       "    </tr>\n",
       "  </tbody>\n",
       "</table>\n",
       "</div>"
      ],
      "text/plain": [
       "                                                      food   nutrient  \\\n",
       "5613759           SIMPLE TRUE ORGANIC, CEREAL TOASTED OATS     folate   \n",
       "4008814      NABISCO OREO COOKIE CRUMBS CRUMBS 1X25.000 LB  manganese   \n",
       "6082302                        INSTANT ICED TEA MIX, LEMON    calcium   \n",
       "4025650                           OREO COOKIES 1X20.000 LB     folate   \n",
       "4008811      NABISCO OREO COOKIE CRUMBS CRUMBS 1X25.000 LB       zinc   \n",
       "5781448                             ANCHOVIES IN OLIVE OIL     sodium   \n",
       "5682941                    DRY AGED BEEF PANKO BREADCRUMBS     sodium   \n",
       "6614023  CALYPSO RUB, SWEET & SPICY CARIBBEAN SPICE BLEND.       iron   \n",
       "6131298      RAW ITALIAN ALMOND BUTTER, RAW ITALIAN ALMOND    calcium   \n",
       "5590960                                       WICKED SPICE     sodium   \n",
       "\n",
       "             Per100g  nutri_counts           sum  \n",
       "5613759  166666667.0             7  1.666680e+08  \n",
       "4008814          0.0             5  3.448560e+06  \n",
       "6082302         14.0             5  3.928572e+08  \n",
       "4025650    3448276.0             5  3.448562e+06  \n",
       "4008811          0.0             5  3.448560e+06  \n",
       "5781448    4687500.0             3  4.687752e+06  \n",
       "5682941    3500000.0             1  3.500000e+06  \n",
       "6614023          0.0             3  1.095238e+07  \n",
       "6131298        286.0             4  7.500000e+09  \n",
       "5590960    5800000.0             1  5.800000e+06  "
      ]
     },
     "execution_count": 95,
     "metadata": {},
     "output_type": "execute_result"
    }
   ],
   "source": [
    "grams = ex.for_graphs_lastfilter (usdaa, 0.00, 2500000)\n",
    "grams.sample(10)"
   ]
  },
  {
   "cell_type": "code",
   "execution_count": 75,
   "metadata": {},
   "outputs": [
    {
     "data": {
      "text/plain": [
       "90"
      ]
     },
     "execution_count": 75,
     "metadata": {},
     "output_type": "execute_result"
    }
   ],
   "source": [
    "len(nutri12)"
   ]
  },
  {
   "cell_type": "code",
   "execution_count": 88,
   "metadata": {},
   "outputs": [
    {
     "data": {
      "text/plain": [
       "76"
      ]
     },
     "execution_count": 88,
     "metadata": {},
     "output_type": "execute_result"
    }
   ],
   "source": [
    "len(grams)"
   ]
  },
  {
   "attachments": {},
   "cell_type": "markdown",
   "metadata": {},
   "source": [
    "## 4. Graphics.\n",
    "With all the information that we gather from the dataframes, after filter and cleaning them, will pass to do some visualizations to get a clearer idea and to prouf iour hypothesis.\n",
    "\n",
    "Will change the values in this formula depending od which output we want to have."
   ]
  },
  {
   "cell_type": "code",
   "execution_count": 77,
   "metadata": {},
   "outputs": [],
   "source": [
    "import seaborn as sns\n",
    "import matplotlib.pyplot as plt\n",
    "import pandas as pd"
   ]
  },
  {
   "cell_type": "code",
   "execution_count": 91,
   "metadata": {},
   "outputs": [
    {
     "data": {
      "image/png": "[encoded data removed]",
      "text/plain": [
       "<Figure size 432x288 with 1 Axes>"
      ]
     },
     "metadata": {
      "needs_background": "light"
     },
     "output_type": "display_data"
    }
   ],
   "source": [
    "grms = sns.barplot(y=\"food\", x=\"sum\", data=grams);"
   ]
  },
  {
   "cell_type": "code",
   "execution_count": null,
   "metadata": {},
   "outputs": [],
   "source": [
    "we can see the foods with the most cuantity of nutrients, more than 14 diferent types of nutrients, and how many grams in total they have. \n",
    "it looks that the butter has the most of them. "
   ]
  },
  {
   "cell_type": "code",
   "execution_count": 92,
   "metadata": {},
   "outputs": [
    {
     "data": {
      "image/png": "[encoded data removed]",
      "text/plain": [
       "<Figure size 432x288 with 1 Axes>"
      ]
     },
     "metadata": {
      "needs_background": "light"
     },
     "output_type": "display_data"
    }
   ],
   "source": [
    "more_than_14 = sns.barplot(y=\"food\", x=\"sum\", data=nutri12);"
   ]
  },
  {
   "attachments": {},
   "cell_type": "markdown",
   "metadata": {},
   "source": [
    "a list of food with no more than 12 different types of nutrients and more than 10,000 amount of grams, this is a more equilibrated graphs and still powerfull foods."
   ]
  },
  {
   "cell_type": "code",
   "execution_count": 99,
   "metadata": {},
   "outputs": [
    {
     "data": {
      "text/plain": [
       "91"
      ]
     },
     "execution_count": 99,
     "metadata": {},
     "output_type": "execute_result"
    }
   ],
   "source": [
    "nutri12 = ex.for_graphs_lastfilter (usdaa, 12.00, 10000)\n",
    "len(nutri12)"
   ]
  },
  {
   "cell_type": "code",
   "execution_count": 100,
   "metadata": {},
   "outputs": [
    {
     "data": {
      "image/png": "[encoded data removed]",
      "text/plain": [
       "<Figure size 432x288 with 1 Axes>"
      ]
     },
     "metadata": {
      "needs_background": "light"
     },
     "output_type": "display_data"
    }
   ],
   "source": [
    "more_than_14 = sns.barplot(y=\"food\", x=\"sum\", data=nutri12);"
   ]
  },
  {
   "attachments": {},
   "cell_type": "markdown",
   "metadata": {},
   "source": [
    "Can see that the cooked liver food with bread is powerful. and has more than 20,000 grams, but we can see that also the bananas shake or high protein shake its also has good amount of nutrients. "
   ]
  }
 ],
 "metadata": {
  "kernelspec": {
   "display_name": "ironhack",
   "language": "python",
   "name": "python3"
  },
  "language_info": {
   "codemirror_mode": {
    "name": "ipython",
    "version": 3
   },
   "file_extension": ".py",
   "mimetype": "text/x-python",
   "name": "python",
   "nbconvert_exporter": "python",
   "pygments_lexer": "ipython3",
   "version": "3.10.4"
  },
  "orig_nbformat": 4,
  "vscode": {
   "interpreter": {
    "hash": "91a84e6b8351ad3ec71ce9fb2308d8cc98e807eebbcac368689e5c7e13990fb4"
   }
  }
 },
 "nbformat": 4,
 "nbformat_minor": 2
}
